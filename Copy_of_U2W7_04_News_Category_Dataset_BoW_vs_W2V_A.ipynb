{
  "nbformat": 4,
  "nbformat_minor": 0,
  "metadata": {
    "colab": {
      "name": "Copy of U2W7_04_News_Category_Dataset_BoW_vs_W2V_A.ipynb",
      "provenance": [],
      "collapsed_sections": [],
      "include_colab_link": true
    },
    "kernelspec": {
      "name": "python3",
      "display_name": "Python 3"
    },
    "language_info": {
      "name": "python"
    }
  },
  "cells": [
    {
      "cell_type": "markdown",
      "metadata": {
        "id": "view-in-github",
        "colab_type": "text"
      },
      "source": [
        "<a href=\"https://colab.research.google.com/github/RahulJuluru2/unit2assignments/blob/main/Copy_of_U2W7_04_News_Category_Dataset_BoW_vs_W2V_A.ipynb\" target=\"_parent\"><img src=\"https://colab.research.google.com/assets/colab-badge.svg\" alt=\"Open In Colab\"/></a>"
      ]
    },
    {
      "cell_type": "markdown",
      "metadata": {
        "id": "_uklj8Zuh9Fv"
      },
      "source": [
        "\n",
        "# Advanced Certification in AIML\n",
        "## A Program by IIIT-H and TalentSprint\n",
        "\n"
      ]
    },
    {
      "cell_type": "markdown",
      "metadata": {
        "id": "koiIre6cUWv_"
      },
      "source": [
        "## Learning Objective"
      ]
    },
    {
      "cell_type": "markdown",
      "metadata": {
        "id": "f8IXXx6D8pS-"
      },
      "source": [
        "\n",
        "At the end of the experiment, you will be able to:\n",
        "\n",
        "*  Pre-process the data\n",
        "*  Representation of  text document using Bag of Words & Word2Vec"
      ]
    },
    {
      "cell_type": "code",
      "metadata": {
        "cellView": "form",
        "id": "XnIT_27v5ORu",
        "colab": {
          "base_uri": "https://localhost:8080/",
          "height": 501
        },
        "outputId": "21579432-8971-4021-932f-58e4cf7a4214"
      },
      "source": [
        "#@title Experiment Walkthrough Video\n",
        "#@markdown BoW vs W2V\n",
        "from IPython.display import HTML\n",
        "\n",
        "HTML(\"\"\"<video width=\"850\" height=\"480\" controls>\n",
        "  <source src=\"https://cdn.exec.talentsprint.com/non-processed/Bag_of_Words_Vs_Word2Vec.mp4\">\n",
        "</video>\n",
        "\"\"\")"
      ],
      "execution_count": 1,
      "outputs": [
        {
          "output_type": "execute_result",
          "data": {
            "text/plain": [
              "<IPython.core.display.HTML object>"
            ],
            "text/html": [
              "<video width=\"850\" height=\"480\" controls>\n",
              "  <source src=\"https://cdn.exec.talentsprint.com/non-processed/Bag_of_Words_Vs_Word2Vec.mp4\">\n",
              "</video>\n"
            ]
          },
          "metadata": {},
          "execution_count": 1
        }
      ]
    },
    {
      "cell_type": "markdown",
      "source": [
        "## Dataset"
      ],
      "metadata": {
        "id": "2RPrPQi532cK"
      }
    },
    {
      "cell_type": "markdown",
      "metadata": {
        "id": "snBfzAFAkIFA"
      },
      "source": [
        "   This dataset contains around 200k news headlines from the year 2012 to 2018 obtained from [HuffPost](https://www.huffpost.com/). The model trained on this dataset could be used to identify tags for untracked news articles or to identify the type of language used in different news articles.\n",
        "\n",
        "Each news headline has a corresponding category. Categories and corresponding article counts as follows:\n",
        "\n",
        "\n",
        "    POLITICS: 32739\n",
        "    WELLNESS: 17827\n",
        "    ENTERTAINMENT: 16058\n",
        "    TRAVEL: 9887\n",
        "    STYLE & BEAUTY: 9649\n",
        "    PARENTING: 8677\n",
        "    HEALTHY LIVING: 6694\n",
        "    QUEER VOICES: 6314\n",
        "    FOOD & DRINK: 6226\n",
        "    BUSINESS: 5937\n",
        "    COMEDY: 5175\n",
        "    SPORTS: 4884\n",
        "    BLACK VOICES: 4528\n",
        "    HOME & LIVING: 4195\n",
        "    PARENTS: 3955\n",
        "    THE WORLDPOST: 3664\n",
        "    WEDDINGS: 3651\n",
        "    WOMEN: 3490\n",
        "    IMPACT: 3459\n",
        "    DIVORCE: 3426\n",
        "    CRIME: 3405\n",
        "    MEDIA: 2815\n",
        "    WEIRD NEWS: 2670\n",
        "    GREEN: 2622\n",
        "    WORLDPOST: 2579\n",
        "    RELIGION: 2556\n",
        "    STYLE: 2254\n",
        "    SCIENCE: 2178\n",
        "    WORLD NEWS: 2177\n",
        "    TASTE: 2096\n",
        "    TECH: 2082\n",
        "    MONEY: 1707\n",
        "    ARTS: 1509\n",
        "    FIFTY: 1401\n",
        "    GOOD NEWS: 1398\n",
        "    ARTS & CULTURE: 1339\n",
        "    ENVIRONMENT: 1323\n",
        "    COLLEGE: 1144\n",
        "    LATINO VOICES: 1129\n",
        "    CULTURE & ARTS: 1030\n",
        "    EDUCATION: 1004\n",
        "\n",
        "\n",
        "#### Description\n",
        "This dataset has the following columns:\n",
        "1. **Category:** Category article belongs to\n",
        "2. **Headline:** Determines the Headline of the article\n",
        "3. **Authors:** Person authored the article\n",
        "4. **Link:** Link to the post\n",
        "5. **Short_description:** Short description of the article\n",
        "6. **Date:** Date the article was published\n",
        "\n",
        "Out of 41 category's from the News_Category_Dataset, we consider four category's (Travel, Tech, Science, College) for this experiment"
      ]
    },
    {
      "cell_type": "markdown",
      "metadata": {
        "id": "YuhepSBE20co"
      },
      "source": [
        "## Setup Steps"
      ]
    },
    {
      "cell_type": "code",
      "metadata": {
        "id": "ao1f-O4AUQpe"
      },
      "source": [
        "#@title Please enter your registration id to start: { run: \"auto\", display-mode: \"form\" }\n",
        "Id = \"2216842\" #@param {type:\"string\"}"
      ],
      "execution_count": 2,
      "outputs": []
    },
    {
      "cell_type": "code",
      "metadata": {
        "id": "ApY1qrn-UT7r"
      },
      "source": [
        "#@title Please enter your password (normally your phone number) to continue: { run: \"auto\", display-mode: \"form\" }\n",
        "password = \"9959488784\" #@param {type:\"string\"}"
      ],
      "execution_count": 3,
      "outputs": []
    },
    {
      "cell_type": "code",
      "metadata": {
        "id": "WBPPuGmBlDIN",
        "cellView": "form",
        "colab": {
          "base_uri": "https://localhost:8080/",
          "height": 35
        },
        "outputId": "92415d75-f7d1-429d-9aa6-41e753d0b2f4"
      },
      "source": [
        "#@title Run this cell to complete the setup for this Notebook\n",
        "from IPython import get_ipython\n",
        "import warnings\n",
        "warnings.filterwarnings(\"ignore\")\n",
        "\n",
        "ipython = get_ipython()\n",
        "  \n",
        "notebook= \"U2W7_04_News_Category_Dataset_BoW_vs_W2V_A\" #name of the notebook\n",
        "\n",
        "def setup():\n",
        "    ipython.magic(\"sx pip3 install gensim\")\n",
        "    ipython.magic(\"sx wget https://cdn.iiith.talentsprint.com/aiml/Experiment_related_data/News_Category_Dataset_v2.csv\") \n",
        "    ipython.magic(\"sx wget https://cdn.talentsprint.com/talentsprint1/archives/sc/aiml/experiment_related_data/AIML_DS_GOOGLENEWS-VECTORS-NEGATIVE-300_STD.rar\")\n",
        "    ipython.magic(\"sx unrar e /content/AIML_DS_GOOGLENEWS-VECTORS-NEGATIVE-300_STD.rar\")\n",
        "    from IPython.display import HTML, display\n",
        "    display(HTML('<script src=\"https://dashboard.talentsprint.com/aiml/record_ip.html?traineeId={0}&recordId={1}\"></script>'.format(getId(),submission_id)))\n",
        "    print(\"Setup completed successfully\")\n",
        "    return\n",
        "\n",
        "def submit_notebook():\n",
        "    ipython.magic(\"notebook -e \"+ notebook + \".ipynb\")\n",
        "    \n",
        "    import requests, json, base64, datetime\n",
        "\n",
        "    url = \"https://dashboard.talentsprint.com/xp/app/save_notebook_attempts\"\n",
        "    if not submission_id:\n",
        "      data = {\"id\" : getId(), \"notebook\" : notebook, \"mobile\" : getPassword()}\n",
        "      r = requests.post(url, data = data)\n",
        "      r = json.loads(r.text)\n",
        "\n",
        "      if r[\"status\"] == \"Success\":\n",
        "          return r[\"record_id\"]\n",
        "      elif \"err\" in r:        \n",
        "        print(r[\"err\"])\n",
        "        return None        \n",
        "      else:\n",
        "        print (\"Something is wrong, the notebook will not be submitted for grading\")\n",
        "        return None\n",
        "    \n",
        "    elif getAnswer() and getComplexity() and getAdditional() and getConcepts() and getWalkthrough() and getComments() and getMentorSupport():\n",
        "      f = open(notebook + \".ipynb\", \"rb\")\n",
        "      file_hash = base64.b64encode(f.read())\n",
        "\n",
        "      data = {\"complexity\" : Complexity, \"additional\" :Additional, \n",
        "              \"concepts\" : Concepts, \"record_id\" : submission_id, \n",
        "              \"answer\" : Answer, \"id\" : Id, \"file_hash\" : file_hash,\n",
        "              \"notebook\" : notebook, \"feedback_walkthrough\":Walkthrough ,\n",
        "              \"feedback_experiments_input\" : Comments,\n",
        "              \"feedback_mentor_support\": Mentor_support}\n",
        "\n",
        "      r = requests.post(url, data = data)\n",
        "      r = json.loads(r.text)\n",
        "      if \"err\" in r:        \n",
        "        print(r[\"err\"])\n",
        "        return None   \n",
        "      else:\n",
        "        print(\"Your submission is successful.\")\n",
        "        print(\"Ref Id:\", submission_id)\n",
        "        print(\"Date of submission: \", r[\"date\"])\n",
        "        print(\"Time of submission: \", r[\"time\"])\n",
        "        print(\"View your submissions: https://aiml.iiith.talentsprint.com/notebook_submissions\")\n",
        "        #print(\"For any queries/discrepancies, please connect with mentors through the chat icon in LMS dashboard.\")\n",
        "        return submission_id\n",
        "    else: submission_id\n",
        "    \n",
        "\n",
        "def getAdditional():\n",
        "  try:\n",
        "    if not Additional: \n",
        "      raise NameError\n",
        "    else:\n",
        "      return Additional  \n",
        "  except NameError:\n",
        "    print (\"Please answer Additional Question\")\n",
        "    return None\n",
        "\n",
        "def getComplexity():\n",
        "  try:\n",
        "    if not Complexity:\n",
        "      raise NameError\n",
        "    else:\n",
        "      return Complexity\n",
        "  except NameError:\n",
        "    print (\"Please answer Complexity Question\")\n",
        "    return None\n",
        "  \n",
        "def getConcepts():\n",
        "  try:\n",
        "    if not Concepts:\n",
        "      raise NameError\n",
        "    else:\n",
        "      return Concepts\n",
        "  except NameError:\n",
        "    print (\"Please answer Concepts Question\")\n",
        "    return None\n",
        "  \n",
        "  \n",
        "def getWalkthrough():\n",
        "  try:\n",
        "    if not Walkthrough:\n",
        "      raise NameError\n",
        "    else:\n",
        "      return Walkthrough\n",
        "  except NameError:\n",
        "    print (\"Please answer Walkthrough Question\")\n",
        "    return None\n",
        "  \n",
        "def getComments():\n",
        "  try:\n",
        "    if not Comments:\n",
        "      raise NameError\n",
        "    else:\n",
        "      return Comments\n",
        "  except NameError:\n",
        "    print (\"Please answer Comments Question\")\n",
        "    return None\n",
        "  \n",
        "\n",
        "def getMentorSupport():\n",
        "  try:\n",
        "    if not Mentor_support:\n",
        "      raise NameError\n",
        "    else:\n",
        "      return Mentor_support\n",
        "  except NameError:\n",
        "    print (\"Please answer Mentor support Question\")\n",
        "    return None\n",
        "\n",
        "def getAnswer():\n",
        "  try:\n",
        "    if not Answer:\n",
        "      raise NameError \n",
        "    else: \n",
        "      return Answer\n",
        "  except NameError:\n",
        "    print (\"Please answer Question\")\n",
        "    return None\n",
        "  \n",
        "\n",
        "def getId():\n",
        "  try: \n",
        "    return Id if Id else None\n",
        "  except NameError:\n",
        "    return None\n",
        "\n",
        "def getPassword():\n",
        "  try:\n",
        "    return password if password else None\n",
        "  except NameError:\n",
        "    return None\n",
        "\n",
        "submission_id = None\n",
        "### Setup \n",
        "if getPassword() and getId():\n",
        "  submission_id = submit_notebook()\n",
        "  if submission_id:\n",
        "    setup() \n",
        "else:\n",
        "  print (\"Please complete Id and Password cells before running setup\")\n",
        "\n"
      ],
      "execution_count": 4,
      "outputs": [
        {
          "output_type": "display_data",
          "data": {
            "text/plain": [
              "<IPython.core.display.HTML object>"
            ],
            "text/html": [
              "<script src=\"https://dashboard.talentsprint.com/aiml/record_ip.html?traineeId=2216842&recordId=1063\"></script>"
            ]
          },
          "metadata": {}
        },
        {
          "output_type": "stream",
          "name": "stdout",
          "text": [
            "Setup completed successfully\n"
          ]
        }
      ]
    },
    {
      "cell_type": "markdown",
      "metadata": {
        "id": "2a9XmVH8dXjK"
      },
      "source": [
        "## Import packages\n"
      ]
    },
    {
      "cell_type": "code",
      "execution_count": 5,
      "metadata": {
        "id": "53Heccvsee6Y",
        "colab": {
          "base_uri": "https://localhost:8080/"
        },
        "outputId": "a02a5a73-8d10-42b2-d4a5-7a8d00dd5ac7"
      },
      "outputs": [
        {
          "output_type": "stream",
          "name": "stderr",
          "text": [
            "[nltk_data] Downloading package stopwords to /root/nltk_data...\n",
            "[nltk_data]   Unzipping corpora/stopwords.zip.\n"
          ]
        }
      ],
      "source": [
        "import re\n",
        "import nltk\n",
        "import pandas as pd\n",
        "import numpy as np\n",
        "import gensim\n",
        "from nltk.corpus import stopwords\n",
        "nltk.download('stopwords')\n",
        "import warnings\n",
        "warnings.filterwarnings('ignore')"
      ]
    },
    {
      "cell_type": "markdown",
      "source": [
        "## Load the data \n"
      ],
      "metadata": {
        "id": "oxW_xSfK4tjH"
      }
    },
    {
      "cell_type": "code",
      "source": [
        "# Load the data\n",
        "df = pd.read_csv('News_Category_Dataset_v2.csv')\n",
        "df.head()"
      ],
      "metadata": {
        "id": "JM4mgpFwpws3",
        "colab": {
          "base_uri": "https://localhost:8080/",
          "height": 389
        },
        "outputId": "fde446f8-a78a-4f5d-ecc2-4fd72f499dca"
      },
      "execution_count": 6,
      "outputs": [
        {
          "output_type": "execute_result",
          "data": {
            "text/plain": [
              "   Unnamed: 0       category  \\\n",
              "0           0          CRIME   \n",
              "1           1  ENTERTAINMENT   \n",
              "2           2  ENTERTAINMENT   \n",
              "3           3  ENTERTAINMENT   \n",
              "4           4  ENTERTAINMENT   \n",
              "\n",
              "                                            headline          authors  \\\n",
              "0  There Were 2 Mass Shootings In Texas Last Week...  Melissa Jeltsen   \n",
              "1  Will Smith Joins Diplo And Nicky Jam For The 2...    Andy McDonald   \n",
              "2    Hugh Grant Marries For The First Time At Age 57       Ron Dicker   \n",
              "3  Jim Carrey Blasts 'Castrato' Adam Schiff And D...       Ron Dicker   \n",
              "4  Julianna Margulies Uses Donald Trump Poop Bags...       Ron Dicker   \n",
              "\n",
              "                                                link  \\\n",
              "0  https://www.huffingtonpost.com/entry/texas-ama...   \n",
              "1  https://www.huffingtonpost.com/entry/will-smit...   \n",
              "2  https://www.huffingtonpost.com/entry/hugh-gran...   \n",
              "3  https://www.huffingtonpost.com/entry/jim-carre...   \n",
              "4  https://www.huffingtonpost.com/entry/julianna-...   \n",
              "\n",
              "                                   short_description        date  \n",
              "0  She left her husband. He killed their children...  2018-05-26  \n",
              "1                           Of course it has a song.  2018-05-26  \n",
              "2  The actor and his longtime girlfriend Anna Ebe...  2018-05-26  \n",
              "3  The actor gives Dems an ass-kicking for not fi...  2018-05-26  \n",
              "4  The \"Dietland\" actress said using the bags is ...  2018-05-26  "
            ],
            "text/html": [
              "\n",
              "  <div id=\"df-c45d0f33-23a5-4764-b450-b648e4abcf9f\">\n",
              "    <div class=\"colab-df-container\">\n",
              "      <div>\n",
              "<style scoped>\n",
              "    .dataframe tbody tr th:only-of-type {\n",
              "        vertical-align: middle;\n",
              "    }\n",
              "\n",
              "    .dataframe tbody tr th {\n",
              "        vertical-align: top;\n",
              "    }\n",
              "\n",
              "    .dataframe thead th {\n",
              "        text-align: right;\n",
              "    }\n",
              "</style>\n",
              "<table border=\"1\" class=\"dataframe\">\n",
              "  <thead>\n",
              "    <tr style=\"text-align: right;\">\n",
              "      <th></th>\n",
              "      <th>Unnamed: 0</th>\n",
              "      <th>category</th>\n",
              "      <th>headline</th>\n",
              "      <th>authors</th>\n",
              "      <th>link</th>\n",
              "      <th>short_description</th>\n",
              "      <th>date</th>\n",
              "    </tr>\n",
              "  </thead>\n",
              "  <tbody>\n",
              "    <tr>\n",
              "      <th>0</th>\n",
              "      <td>0</td>\n",
              "      <td>CRIME</td>\n",
              "      <td>There Were 2 Mass Shootings In Texas Last Week...</td>\n",
              "      <td>Melissa Jeltsen</td>\n",
              "      <td>https://www.huffingtonpost.com/entry/texas-ama...</td>\n",
              "      <td>She left her husband. He killed their children...</td>\n",
              "      <td>2018-05-26</td>\n",
              "    </tr>\n",
              "    <tr>\n",
              "      <th>1</th>\n",
              "      <td>1</td>\n",
              "      <td>ENTERTAINMENT</td>\n",
              "      <td>Will Smith Joins Diplo And Nicky Jam For The 2...</td>\n",
              "      <td>Andy McDonald</td>\n",
              "      <td>https://www.huffingtonpost.com/entry/will-smit...</td>\n",
              "      <td>Of course it has a song.</td>\n",
              "      <td>2018-05-26</td>\n",
              "    </tr>\n",
              "    <tr>\n",
              "      <th>2</th>\n",
              "      <td>2</td>\n",
              "      <td>ENTERTAINMENT</td>\n",
              "      <td>Hugh Grant Marries For The First Time At Age 57</td>\n",
              "      <td>Ron Dicker</td>\n",
              "      <td>https://www.huffingtonpost.com/entry/hugh-gran...</td>\n",
              "      <td>The actor and his longtime girlfriend Anna Ebe...</td>\n",
              "      <td>2018-05-26</td>\n",
              "    </tr>\n",
              "    <tr>\n",
              "      <th>3</th>\n",
              "      <td>3</td>\n",
              "      <td>ENTERTAINMENT</td>\n",
              "      <td>Jim Carrey Blasts 'Castrato' Adam Schiff And D...</td>\n",
              "      <td>Ron Dicker</td>\n",
              "      <td>https://www.huffingtonpost.com/entry/jim-carre...</td>\n",
              "      <td>The actor gives Dems an ass-kicking for not fi...</td>\n",
              "      <td>2018-05-26</td>\n",
              "    </tr>\n",
              "    <tr>\n",
              "      <th>4</th>\n",
              "      <td>4</td>\n",
              "      <td>ENTERTAINMENT</td>\n",
              "      <td>Julianna Margulies Uses Donald Trump Poop Bags...</td>\n",
              "      <td>Ron Dicker</td>\n",
              "      <td>https://www.huffingtonpost.com/entry/julianna-...</td>\n",
              "      <td>The \"Dietland\" actress said using the bags is ...</td>\n",
              "      <td>2018-05-26</td>\n",
              "    </tr>\n",
              "  </tbody>\n",
              "</table>\n",
              "</div>\n",
              "      <button class=\"colab-df-convert\" onclick=\"convertToInteractive('df-c45d0f33-23a5-4764-b450-b648e4abcf9f')\"\n",
              "              title=\"Convert this dataframe to an interactive table.\"\n",
              "              style=\"display:none;\">\n",
              "        \n",
              "  <svg xmlns=\"http://www.w3.org/2000/svg\" height=\"24px\"viewBox=\"0 0 24 24\"\n",
              "       width=\"24px\">\n",
              "    <path d=\"M0 0h24v24H0V0z\" fill=\"none\"/>\n",
              "    <path d=\"M18.56 5.44l.94 2.06.94-2.06 2.06-.94-2.06-.94-.94-2.06-.94 2.06-2.06.94zm-11 1L8.5 8.5l.94-2.06 2.06-.94-2.06-.94L8.5 2.5l-.94 2.06-2.06.94zm10 10l.94 2.06.94-2.06 2.06-.94-2.06-.94-.94-2.06-.94 2.06-2.06.94z\"/><path d=\"M17.41 7.96l-1.37-1.37c-.4-.4-.92-.59-1.43-.59-.52 0-1.04.2-1.43.59L10.3 9.45l-7.72 7.72c-.78.78-.78 2.05 0 2.83L4 21.41c.39.39.9.59 1.41.59.51 0 1.02-.2 1.41-.59l7.78-7.78 2.81-2.81c.8-.78.8-2.07 0-2.86zM5.41 20L4 18.59l7.72-7.72 1.47 1.35L5.41 20z\"/>\n",
              "  </svg>\n",
              "      </button>\n",
              "      \n",
              "  <style>\n",
              "    .colab-df-container {\n",
              "      display:flex;\n",
              "      flex-wrap:wrap;\n",
              "      gap: 12px;\n",
              "    }\n",
              "\n",
              "    .colab-df-convert {\n",
              "      background-color: #E8F0FE;\n",
              "      border: none;\n",
              "      border-radius: 50%;\n",
              "      cursor: pointer;\n",
              "      display: none;\n",
              "      fill: #1967D2;\n",
              "      height: 32px;\n",
              "      padding: 0 0 0 0;\n",
              "      width: 32px;\n",
              "    }\n",
              "\n",
              "    .colab-df-convert:hover {\n",
              "      background-color: #E2EBFA;\n",
              "      box-shadow: 0px 1px 2px rgba(60, 64, 67, 0.3), 0px 1px 3px 1px rgba(60, 64, 67, 0.15);\n",
              "      fill: #174EA6;\n",
              "    }\n",
              "\n",
              "    [theme=dark] .colab-df-convert {\n",
              "      background-color: #3B4455;\n",
              "      fill: #D2E3FC;\n",
              "    }\n",
              "\n",
              "    [theme=dark] .colab-df-convert:hover {\n",
              "      background-color: #434B5C;\n",
              "      box-shadow: 0px 1px 3px 1px rgba(0, 0, 0, 0.15);\n",
              "      filter: drop-shadow(0px 1px 2px rgba(0, 0, 0, 0.3));\n",
              "      fill: #FFFFFF;\n",
              "    }\n",
              "  </style>\n",
              "\n",
              "      <script>\n",
              "        const buttonEl =\n",
              "          document.querySelector('#df-c45d0f33-23a5-4764-b450-b648e4abcf9f button.colab-df-convert');\n",
              "        buttonEl.style.display =\n",
              "          google.colab.kernel.accessAllowed ? 'block' : 'none';\n",
              "\n",
              "        async function convertToInteractive(key) {\n",
              "          const element = document.querySelector('#df-c45d0f33-23a5-4764-b450-b648e4abcf9f');\n",
              "          const dataTable =\n",
              "            await google.colab.kernel.invokeFunction('convertToInteractive',\n",
              "                                                     [key], {});\n",
              "          if (!dataTable) return;\n",
              "\n",
              "          const docLinkHtml = 'Like what you see? Visit the ' +\n",
              "            '<a target=\"_blank\" href=https://colab.research.google.com/notebooks/data_table.ipynb>data table notebook</a>'\n",
              "            + ' to learn more about interactive tables.';\n",
              "          element.innerHTML = '';\n",
              "          dataTable['output_type'] = 'display_data';\n",
              "          await google.colab.output.renderOutput(dataTable, element);\n",
              "          const docLink = document.createElement('div');\n",
              "          docLink.innerHTML = docLinkHtml;\n",
              "          element.appendChild(docLink);\n",
              "        }\n",
              "      </script>\n",
              "    </div>\n",
              "  </div>\n",
              "  "
            ]
          },
          "metadata": {},
          "execution_count": 6
        }
      ]
    },
    {
      "cell_type": "code",
      "source": [
        "# YOUR CODE HERE: Count the classes in category\n",
        "df[\"category\"].value_counts()"
      ],
      "metadata": {
        "id": "Wu0ax7S5b6RS"
      },
      "execution_count": null,
      "outputs": []
    },
    {
      "cell_type": "markdown",
      "source": [
        "## Data Pre-processing"
      ],
      "metadata": {
        "id": "KPTGmXsF82J2"
      }
    },
    {
      "cell_type": "markdown",
      "source": [
        "We are considering four category's (Travel, Tech, Science, College) for this experiment\n",
        "\n",
        "Hint:   To access Sub-Categories from given Data, refer [link](https://pandas.pydata.org/pandas-docs/stable/reference/api/pandas.DataFrame.isin.html)"
      ],
      "metadata": {
        "id": "shAkTyIz9-3Y"
      }
    },
    {
      "cell_type": "code",
      "source": [
        "# Create a list of manually selected category\n",
        "category = ['TRAVEL','TECH','SCIENCE','COLLEGE']\n",
        "\n",
        "# YOUR CODE HERE : Load the dataset based on the category\n",
        "df = df[df['category'].isin(category)]  \n",
        "df['category'].value_counts()"
      ],
      "metadata": {
        "id": "lyg6RjTpbmJt",
        "colab": {
          "base_uri": "https://localhost:8080/"
        },
        "outputId": "0d927cbb-350d-42ec-9d09-2258d94d4316"
      },
      "execution_count": 11,
      "outputs": [
        {
          "output_type": "execute_result",
          "data": {
            "text/plain": [
              "TRAVEL     9887\n",
              "SCIENCE    2178\n",
              "TECH       2082\n",
              "COLLEGE    1144\n",
              "Name: category, dtype: int64"
            ]
          },
          "metadata": {},
          "execution_count": 11
        }
      ]
    },
    {
      "cell_type": "code",
      "source": [
        "# Add the two columns into text column\n",
        "df['text'] = df['headline'] +','+ df['short_description'] \n",
        "df['label'] = df['category']"
      ],
      "metadata": {
        "id": "lx1oxkqKa-Tu"
      },
      "execution_count": 12,
      "outputs": []
    },
    {
      "cell_type": "markdown",
      "source": [
        "Drop the unwanted columns"
      ],
      "metadata": {
        "id": "CudtuGFW6Pzp"
      }
    },
    {
      "cell_type": "code",
      "source": [
        "# YOUR CODE HERE : drop the columns which are unwanted\n",
        "df.columns"
      ],
      "metadata": {
        "id": "X6o41T2x6OH0",
        "colab": {
          "base_uri": "https://localhost:8080/"
        },
        "outputId": "885994f3-65e2-494d-e2d4-cb1a186cdaec"
      },
      "execution_count": 13,
      "outputs": [
        {
          "output_type": "execute_result",
          "data": {
            "text/plain": [
              "Index(['Unnamed: 0', 'category', 'headline', 'authors', 'link',\n",
              "       'short_description', 'date', 'text', 'label'],\n",
              "      dtype='object')"
            ]
          },
          "metadata": {},
          "execution_count": 13
        }
      ]
    },
    {
      "cell_type": "code",
      "source": [
        "df.drop(columns=['Unnamed: 0', 'category', 'headline', 'authors', 'link',\n",
        "       'short_description', 'date'],inplace=True)"
      ],
      "metadata": {
        "id": "vFiqI7fZZl76"
      },
      "execution_count": 14,
      "outputs": []
    },
    {
      "cell_type": "markdown",
      "source": [
        "Consider text column as feature and label as target variable. Convert label into numerical.\n",
        "\n",
        "Hint: Label Encoder for obtaining a numeric representation, refer to the [link](https://scikit-learn.org/stable/modules/generated/sklearn.preprocessing.LabelEncoder.html)."
      ],
      "metadata": {
        "id": "oF0X1nch6Zar"
      }
    },
    {
      "cell_type": "code",
      "source": [
        "from sklearn import preprocessing\n",
        "# YOUR CODE HERE: Convert label into numericals\n",
        "le = preprocessing.LabelEncoder()\n",
        "df['label'] = le.fit_transform(df['label'])"
      ],
      "metadata": {
        "id": "2xEm4MdXjAeM"
      },
      "execution_count": 16,
      "outputs": []
    },
    {
      "cell_type": "code",
      "source": [
        "df['text'].shape, df['label'].shape"
      ],
      "metadata": {
        "id": "EeMg8HEZc1ID",
        "colab": {
          "base_uri": "https://localhost:8080/"
        },
        "outputId": "9d1ea3a2-af2d-4637-ac4e-3150191f11f2"
      },
      "execution_count": 17,
      "outputs": [
        {
          "output_type": "execute_result",
          "data": {
            "text/plain": [
              "((15291,), (15291,))"
            ]
          },
          "metadata": {},
          "execution_count": 17
        }
      ]
    },
    {
      "cell_type": "markdown",
      "source": [
        "## BoW"
      ],
      "metadata": {
        "id": "4hmWpDAtMnj_"
      }
    },
    {
      "cell_type": "markdown",
      "metadata": {
        "id": "YQr_afHnUcTL"
      },
      "source": [
        "### TF IDF\n",
        " tf-idf aims to represent the number of times a given word appears in a document (a movie review in our case) relative to the number of documents in the corpus that the word appears in — where, words that appear in many documents have a value closer to zero and words that appear in less documents have values closer to 1.\n",
        "\n"
      ]
    },
    {
      "cell_type": "code",
      "source": [
        "from sklearn.feature_extraction.text import TfidfVectorizer\n",
        "# YOUR CODE HERE: Call the object for TfidfVectorizer.\n",
        "vectorizer = TfidfVectorizer()\n",
        "\n",
        "# YOUR CODE HERE: Complie the TfidfVectorizer with text columns. \n",
        "X = vectorizer.fit_transform(df['text'].values.astype('U'))\n",
        "vectorizer.get_feature_names_out()\n",
        "print(X.shape)"
      ],
      "metadata": {
        "id": "Y3WF846nxGTS",
        "colab": {
          "base_uri": "https://localhost:8080/"
        },
        "outputId": "614737f0-c16a-4abb-a796-5fd3245a1fba"
      },
      "execution_count": 25,
      "outputs": [
        {
          "output_type": "stream",
          "name": "stdout",
          "text": [
            "(15291, 29296)\n"
          ]
        }
      ]
    },
    {
      "cell_type": "code",
      "source": [
        "y = df['label']"
      ],
      "metadata": {
        "id": "Yi9SbTwCbO99"
      },
      "execution_count": 24,
      "outputs": []
    },
    {
      "cell_type": "markdown",
      "metadata": {
        "id": "rg-JRWzE-ZIh"
      },
      "source": [
        "### Split the data into train and test sets \n",
        "\n",
        "Hint: Refer to[Train-Test split](https://scikit-learn.org/stable/modules/generated/sklearn.model_selection.train_test_split.html)"
      ]
    },
    {
      "cell_type": "code",
      "source": [
        "from sklearn.model_selection import train_test_split"
      ],
      "metadata": {
        "id": "QUjtht31bjVj"
      },
      "execution_count": 27,
      "outputs": []
    },
    {
      "cell_type": "code",
      "source": [
        "# YOUR CODE HERE : split the data on 80 - 20 % \n",
        "X_train,X_test,y_train,y_test = train_test_split(X,y,test_size=0.2,random_state=42)"
      ],
      "metadata": {
        "id": "-yTNLOj9hIR8"
      },
      "execution_count": 28,
      "outputs": []
    },
    {
      "cell_type": "markdown",
      "metadata": {
        "id": "Sg3MwoH2M477"
      },
      "source": [
        "### Apply the Classification \n"
      ]
    },
    {
      "cell_type": "code",
      "source": [
        "# YOUR CODE HERE: To create an instance and fit the model\n",
        "from sklearn.ensemble import VotingClassifier\n",
        "import numpy as np\n",
        "from sklearn.linear_model import LogisticRegression\n",
        "from sklearn.tree import DecisionTreeClassifier\n",
        "from sklearn.naive_bayes import GaussianNB\n",
        "from sklearn.ensemble import RandomForestClassifier, VotingClassifier\n",
        "from sklearn.metrics import accuracy_score"
      ],
      "metadata": {
        "id": "fArIDcoGgv3E"
      },
      "execution_count": 29,
      "outputs": []
    },
    {
      "cell_type": "code",
      "source": [
        "lr = LogisticRegression(multi_class='multinomial', random_state=1)\n",
        "dtc = DecisionTreeClassifier(criterion=\"entropy\",max_depth=6)\n",
        "rfc = RandomForestClassifier(n_estimators=50, random_state=1)\n",
        "\n",
        "req_estimators = [('lr',lr),('dtc',dtc),('rfc',rfc)]\n",
        "hvc = VotingClassifier(estimators=req_estimators, voting='hard')\n",
        "\n",
        "# Fit the model\n",
        "hvc.fit(X_train,y_train)\n",
        "y_pred = hvc.predict(X_test)"
      ],
      "metadata": {
        "id": "UXUJRxrMcNyK"
      },
      "execution_count": 30,
      "outputs": []
    },
    {
      "cell_type": "code",
      "source": [
        "# YOUR CODE HERE: To compute the accuracy\n",
        "accuracy_final_score = accuracy_score(y_pred,y_test)\n",
        "print(\"The final accuracy score is:{0}\".format(accuracy_final_score))"
      ],
      "metadata": {
        "colab": {
          "base_uri": "https://localhost:8080/"
        },
        "id": "XkPIGqLZdK5S",
        "outputId": "12fbb20b-9404-474e-be03-8cc1ad9c4925"
      },
      "execution_count": 31,
      "outputs": [
        {
          "output_type": "stream",
          "name": "stdout",
          "text": [
            "The final accuracy score is:0.8071265119320039\n"
          ]
        }
      ]
    },
    {
      "cell_type": "markdown",
      "source": [
        "## Word2Vec"
      ],
      "metadata": {
        "id": "Gq4fYQQ8Yids"
      }
    },
    {
      "cell_type": "markdown",
      "metadata": {
        "id": "Lvhba-_oNx8l"
      },
      "source": [
        "###Load pre-trained Word2Vec\n",
        "\n",
        "Lets now proceed to load the complete pretrained vectors."
      ]
    },
    {
      "cell_type": "code",
      "source": [
        "model = gensim.models.KeyedVectors.load_word2vec_format('AIML_DS_GOOGLENEWS-VECTORS-NEGATIVE-300_STD.bin', binary=True, limit=500000)"
      ],
      "metadata": {
        "id": "tNxU0Jc10YqO"
      },
      "execution_count": 32,
      "outputs": []
    },
    {
      "cell_type": "markdown",
      "metadata": {
        "id": "wFdjtmZLDTqq"
      },
      "source": [
        "### Word2Vec representation\n",
        "\n",
        "Convert each document into average of the word2vec vectors of all valid words in document"
      ]
    },
    {
      "cell_type": "markdown",
      "source": [
        "Note: Below code cell take some time to compile"
      ],
      "metadata": {
        "id": "3PQVzVad8eN3"
      }
    },
    {
      "cell_type": "code",
      "source": [
        "# Creating empty final dataframe\n",
        "docs_vectors = pd.DataFrame() \n",
        "\n",
        "# Removing stop words\n",
        "stopwords = nltk.corpus.stopwords.words('english') \n",
        "text = df['text'].astype(str)\n",
        "# Looping through each document and cleaning it\n",
        "for doc in text.str.lower().str.replace('[^a-z ]', ''): \n",
        "    temp = pd.DataFrame()  \n",
        "    for word in doc.split(' '): \n",
        "      # If word is not present in stopwords then (try)\n",
        "        if word not in stopwords: \n",
        "            try:\n",
        "                # If word is present in embeddings then get the vector representation and append it to temporary dataframe\n",
        "                word_vec = model.get_vector(word) # YOUR CODE HERE: Call the genism model apply word \n",
        "                temp = temp.append(pd.Series(word_vec), ignore_index = True) \n",
        "            except:\n",
        "                pass\n",
        "    # Take the average of vectors for each word\n",
        "    doc_vector = temp.mean()# YOUR CODE HERE: Find the mean of temp \n",
        "    \n",
        "    # Append each document value to the final dataframe\n",
        "    docs_vectors = docs_vectors.append(doc_vector, ignore_index = True) \n",
        "docs_vectors.shape\n",
        "\n"
      ],
      "metadata": {
        "id": "B0iv1RAYzhtE",
        "colab": {
          "base_uri": "https://localhost:8080/"
        },
        "outputId": "998a3344-5631-4e43-93c6-183a36b6846f"
      },
      "execution_count": 34,
      "outputs": [
        {
          "output_type": "execute_result",
          "data": {
            "text/plain": [
              "(15291, 300)"
            ]
          },
          "metadata": {},
          "execution_count": 34
        }
      ]
    },
    {
      "cell_type": "code",
      "source": [
        "X = docs_vectors\n",
        "y = df['label']"
      ],
      "metadata": {
        "id": "JOPbFMUqiGQh"
      },
      "execution_count": 35,
      "outputs": []
    },
    {
      "cell_type": "markdown",
      "metadata": {
        "id": "qBwRCxlVM1Ch"
      },
      "source": [
        "### Split the data into train and test sets \n",
        "\n",
        "Hint: Refer to[Train-Test split](https://scikit-learn.org/stable/modules/generated/sklearn.model_selection.train_test_split.html)"
      ]
    },
    {
      "cell_type": "code",
      "source": [
        "# YOUR CODE HERE : split the data on 80 - 20 % \n",
        "X_train,X_test,y_train,y_test = train_test_split(X,y,test_size=0.2,random_state=42)"
      ],
      "metadata": {
        "id": "1EikyJ9qcj3P"
      },
      "execution_count": 36,
      "outputs": []
    },
    {
      "cell_type": "markdown",
      "metadata": {
        "id": "oWTFS1oa8Xlf"
      },
      "source": [
        "### Apply the Classification \n"
      ]
    },
    {
      "cell_type": "code",
      "source": [
        "from sklearn.ensemble import BaggingClassifier\n",
        "from sklearn.svm import SVC\n",
        "from sklearn.metrics import accuracy_score"
      ],
      "metadata": {
        "id": "pFiMVeRthR-N"
      },
      "execution_count": 37,
      "outputs": []
    },
    {
      "cell_type": "code",
      "source": [
        "# YOUR CODE HERE: To create an instance and fit the model\n",
        "bcf = BaggingClassifier(base_estimator=SVC(),n_estimators=10, random_state=0).fit(X, y)\n",
        "y_pred = bcf.predict(X_test)\n",
        "\n",
        "# YOUR CODE HERE: To compute the accuracy \n",
        "accuracy_score_req = accuracy_score(y_pred,y_test)\n",
        "print(\"The final accuracy score : {0}\".format(accuracy_score_req))"
      ],
      "metadata": {
        "id": "Z994GRolBMrH",
        "colab": {
          "base_uri": "https://localhost:8080/"
        },
        "outputId": "ebd7aa93-d90e-40c0-de4b-02c067234e46"
      },
      "execution_count": 39,
      "outputs": [
        {
          "output_type": "stream",
          "name": "stdout",
          "text": [
            "The final accuracy score : 0.9019287348806799\n"
          ]
        }
      ]
    },
    {
      "cell_type": "markdown",
      "metadata": {
        "id": "tC2rt1ZxrgC7"
      },
      "source": [
        "## Please answer the questions below to complete the experiment:"
      ]
    },
    {
      "cell_type": "code",
      "metadata": {
        "id": "peyXAsWy3HpG",
        "cellView": "form"
      },
      "source": [
        "#@title What is the difference between word2vec and BOW?\n",
        "Answer = \"Word2vec produces one vector per word whereas BoW produces one number that is a word count\" #@param [\"\",\"Word2vec produces one vector per word whereas BoW produces one number that is a word count\",\"Word2vec produces one  number that is a word count whereas BoW produces one vector per word\"]\n"
      ],
      "execution_count": 43,
      "outputs": []
    },
    {
      "cell_type": "code",
      "metadata": {
        "id": "NMzKSbLIgFzQ"
      },
      "source": [
        "#@title How was the experiment? { run: \"auto\", form-width: \"500px\", display-mode: \"form\" }\n",
        "Complexity = \"Good and Challenging for me\" #@param [\"\",\"Too Simple, I am wasting time\", \"Good, But Not Challenging for me\", \"Good and Challenging for me\", \"Was Tough, but I did it\", \"Too Difficult for me\"]\n"
      ],
      "execution_count": 44,
      "outputs": []
    },
    {
      "cell_type": "code",
      "metadata": {
        "id": "BTJkhyS1gR0C"
      },
      "source": [
        "#@title If it was too easy, what more would you have liked to be added? If it was very difficult, what would you have liked to have been removed? { run: \"auto\", display-mode: \"form\" }\n",
        "Additional = \"Everything is good\" #@param {type:\"string\"}\n"
      ],
      "execution_count": 45,
      "outputs": []
    },
    {
      "cell_type": "code",
      "metadata": {
        "id": "X7RLaB2wgTnY"
      },
      "source": [
        "#@title Can you identify the concepts from the lecture which this experiment covered? { run: \"auto\", vertical-output: true, display-mode: \"form\" }\n",
        "Concepts = \"Yes\" #@param [\"\",\"Yes\", \"No\"]\n"
      ],
      "execution_count": 46,
      "outputs": []
    },
    {
      "cell_type": "code",
      "metadata": {
        "id": "h_v3qHCogVdI"
      },
      "source": [
        "#@title  Experiment walkthrough video? { run: \"auto\", vertical-output: true, display-mode: \"form\" }\n",
        "Walkthrough = \"Very Useful\" #@param [\"\",\"Very Useful\", \"Somewhat Useful\", \"Not Useful\", \"Didn't use\"]\n"
      ],
      "execution_count": 47,
      "outputs": []
    },
    {
      "cell_type": "code",
      "metadata": {
        "id": "XH91cL1JWH7m"
      },
      "source": [
        "#@title  Text and image description/explanation and code comments within the experiment: { run: \"auto\", vertical-output: true, display-mode: \"form\" }\n",
        "Comments = \"Somewhat Useful\" #@param [\"\",\"Very Useful\", \"Somewhat Useful\", \"Not Useful\", \"Didn't use\"]\n"
      ],
      "execution_count": 48,
      "outputs": []
    },
    {
      "cell_type": "code",
      "metadata": {
        "id": "XcabxEZtgXKm"
      },
      "source": [
        "#@title Mentor Support: { run: \"auto\", vertical-output: true, display-mode: \"form\" }\n",
        "Mentor_support = \"Somewhat Useful\" #@param [\"\",\"Very Useful\", \"Somewhat Useful\", \"Not Useful\", \"Didn't use\"]\n"
      ],
      "execution_count": 49,
      "outputs": []
    },
    {
      "cell_type": "code",
      "metadata": {
        "cellView": "form",
        "id": "OWfLsy3EgaVe",
        "colab": {
          "base_uri": "https://localhost:8080/"
        },
        "outputId": "0c696a84-b106-4612-cd55-bbdaaf83846d"
      },
      "source": [
        "#@title Run this cell to submit your notebook for grading { vertical-output: true }\n",
        "try:\n",
        "  if submission_id:\n",
        "      return_id = submit_notebook()\n",
        "      if return_id : submission_id = return_id\n",
        "  else:\n",
        "      print(\"Please complete the setup first.\")\n",
        "except NameError:\n",
        "  print (\"Please complete the setup first.\")"
      ],
      "execution_count": 50,
      "outputs": [
        {
          "output_type": "stream",
          "name": "stdout",
          "text": [
            "Your submission is successful.\n",
            "Ref Id: 1063\n",
            "Date of submission:  26 Jun 2022\n",
            "Time of submission:  16:05:04\n",
            "View your submissions: https://aiml.iiith.talentsprint.com/notebook_submissions\n"
          ]
        }
      ]
    }
  ]
}