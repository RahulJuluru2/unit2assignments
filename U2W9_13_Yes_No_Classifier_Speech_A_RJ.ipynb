{
  "nbformat": 4,
  "nbformat_minor": 0,
  "metadata": {
    "colab": {
      "name": "U2W9_13_Yes_No_Classifier_Speech_A_RJ.ipynb",
      "provenance": [],
      "collapsed_sections": [],
      "include_colab_link": true
    },
    "kernelspec": {
      "display_name": "Python 3",
      "language": "python",
      "name": "python3"
    }
  },
  "cells": [
    {
      "cell_type": "markdown",
      "metadata": {
        "id": "view-in-github",
        "colab_type": "text"
      },
      "source": [
        "<a href=\"https://colab.research.google.com/github/RahulJuluru2/unit2assignments/blob/main/U2W9_13_Yes_No_Classifier_Speech_A_RJ.ipynb\" target=\"_parent\"><img src=\"https://colab.research.google.com/assets/colab-badge.svg\" alt=\"Open In Colab\"/></a>"
      ]
    },
    {
      "cell_type": "markdown",
      "metadata": {
        "id": "ys_OuKdn_ij5"
      },
      "source": [
        "# Advanced Certification in AIML\n",
        "## A Program by IIIT-H and TalentSprint"
      ]
    },
    {
      "cell_type": "markdown",
      "metadata": {
        "id": "B6YRo1_NFkb7"
      },
      "source": [
        "## Learning Objectives\n",
        "\n",
        "At the end of the experiment, you will be able to :\n",
        "\n",
        "* obtain the mfcc features from audio samples \n",
        "* train the classifier with these mfcc features\n",
        "* classify the audio samples into 'yes' and 'no'"
      ]
    },
    {
      "cell_type": "code",
      "metadata": {
        "id": "T6TIgra3pPfA",
        "cellView": "form",
        "colab": {
          "base_uri": "https://localhost:8080/",
          "height": 502
        },
        "outputId": "12f41dc8-ff7d-4e59-cd58-1d3743a6bc42"
      },
      "source": [
        "#@title Experiment Walkthrough Video\n",
        "\n",
        "from IPython.display import HTML\n",
        "\n",
        "HTML(\"\"\"<video width=\"840\" height=\"480\" controls>\n",
        "<source src=\"https://cdn.exec.talentsprint.com/content/yes_no_classifier.mp4\" type=\"video/mp4\">\n",
        "</video>\"\"\")"
      ],
      "execution_count": 1,
      "outputs": [
        {
          "output_type": "execute_result",
          "data": {
            "text/plain": [
              "<IPython.core.display.HTML object>"
            ],
            "text/html": [
              "<video width=\"840\" height=\"480\" controls>\n",
              "<source src=\"https://cdn.exec.talentsprint.com/content/yes_no_classifier.mp4\" type=\"video/mp4\">\n",
              "</video>"
            ]
          },
          "metadata": {},
          "execution_count": 1
        }
      ]
    },
    {
      "cell_type": "markdown",
      "metadata": {
        "id": "tbAmXhdzFoX5"
      },
      "source": [
        "## Dataset "
      ]
    },
    {
      "cell_type": "markdown",
      "metadata": {
        "id": "chgrAe1GFrYb"
      },
      "source": [
        "### Description\n",
        "The dataset used in the experiment contains 2661 audio samples with the extension .wav. \n",
        "\n",
        "Each audio sample has utterances 'yes' or 'no'\n",
        "\n",
        "The naming convention of the sample is of the format 'yes_no/' followed by '10' (representing 'yes') or '11' (representing 'no')\n",
        "\n",
        "Ex:   \n",
        "\n",
        "        'yes_no/10_g38_46.wav'    ---> yes audio sample\n",
        "        'yes_no/11_G6_11.wav'     ---> no audio sample\n",
        "\n"
      ]
    },
    {
      "cell_type": "markdown",
      "metadata": {
        "id": "ISxllNzfFtwa"
      },
      "source": [
        "## Domain Information\n",
        "\n",
        "When we listen to an audio sample it changes constantly. This means that speech is non-stationary signal. Therefore, normal signal processing techniques cannot be applied to get features from audio. However, if the speech signal is observed using a very small duration window, the speech content in that small duration appears to be  stationary. That brought in the concept of short-time processing of speech. \n",
        "\n",
        "MFCC is a techique for short-time processing of speech. \n",
        "\n",
        "**Note: While it is a bonus to understand 'how' a speech signal is converted to a 'representation' by MFCC (or other similar speech processing techniques), it is not mandatory to understand the same. It is sufficient to realize that you're generating a unique numeric representation (a set of numbers) of a speech signal and that this unique representation helps you run your machine learning algorithms over the samples.**"
      ]
    },
    {
      "cell_type": "markdown",
      "metadata": {
        "id": "mZUtIsOUFv_a"
      },
      "source": [
        "## AIML Technique\n",
        "\n",
        "In this short-time processing technique MFCC, a small duration window (say 25 milli sec) is considered for processing of the audio samples at a time. This small duration is called a frame. Now, for each of the frames, MFCC features are computed which give a compact representation of the audio samples. A spectogram is computed for audio samples which gives a heat map of frequencies vs time from the series of spectral vectors generated from audio samples.\n",
        "\n",
        "This representation is obtained by keeping in mind that humans are much better at grasping small changes in the audio at low frequencies than audio at high frequencies. So mel-scale converts high frequencies to human graspable frequencies. "
      ]
    },
    {
      "cell_type": "markdown",
      "metadata": {
        "id": "DzPY6OEf_pWC"
      },
      "source": [
        "## Setup Steps"
      ]
    },
    {
      "cell_type": "code",
      "metadata": {
        "id": "2YzfoPvJDiTX"
      },
      "source": [
        "#@title Please enter your registration id to start: { run: \"auto\", display-mode: \"form\" }\n",
        "Id = \"2216842\" #@param {type:\"string\"}"
      ],
      "execution_count": 2,
      "outputs": []
    },
    {
      "cell_type": "code",
      "metadata": {
        "id": "rEzlYL4CDrmE"
      },
      "source": [
        "#@title Please enter your password (normally your phone number) to continue: { run: \"auto\", display-mode: \"form\" }\n",
        "password = \"9959488784\" #@param {type:\"string\"}"
      ],
      "execution_count": 3,
      "outputs": []
    },
    {
      "cell_type": "code",
      "metadata": {
        "id": "Tles91FY20M8",
        "cellView": "form",
        "colab": {
          "base_uri": "https://localhost:8080/",
          "height": 34
        },
        "outputId": "33d0b2c8-6d4a-48f4-9df1-7c7b2f517fef"
      },
      "source": [
        "#@title Run this cell to complete the setup for this Notebook\n",
        "from IPython import get_ipython\n",
        "import warnings\n",
        "warnings.filterwarnings(\"ignore\")\n",
        "\n",
        "ipython = get_ipython()\n",
        "  \n",
        "notebook= \"U2W9_13_Yes_No_Classifier_Speech_A\" #name of the notebook\n",
        "\n",
        "def setup(): \n",
        "    from IPython.display import HTML, display\n",
        "    ipython.magic(\"sx wget https://cdn.talentsprint.com/aiml/Experiment_related_data/yes_no.zip\")\n",
        "    ipython.magic(\"sx unzip yes_no.zip\")\n",
        "    display(HTML('<script src=\"https://dashboard.talentsprint.com/aiml/record_ip.html?traineeId={0}&recordId={1}\"></script>'.format(getId(),submission_id)))\n",
        "    print(\"Setup completed successfully\")\n",
        "    return\n",
        "\n",
        "def submit_notebook():\n",
        "    ipython.magic(\"notebook -e \"+ notebook + \".ipynb\")\n",
        "    \n",
        "    import requests, json, base64, datetime\n",
        "\n",
        "    url = \"https://dashboard.talentsprint.com/xp/app/save_notebook_attempts\"\n",
        "    if not submission_id:\n",
        "      data = {\"id\" : getId(), \"notebook\" : notebook, \"mobile\" : getPassword()}\n",
        "      r = requests.post(url, data = data)\n",
        "      r = json.loads(r.text)\n",
        "\n",
        "      if r[\"status\"] == \"Success\":\n",
        "          return r[\"record_id\"]\n",
        "      elif \"err\" in r:        \n",
        "        print(r[\"err\"])\n",
        "        return None        \n",
        "      else:\n",
        "        print (\"Something is wrong, the notebook will not be submitted for grading\")\n",
        "        return None\n",
        "    \n",
        "    elif getAnswer() and getComplexity() and getAdditional() and getConcepts() and getWalkthrough() and getComments() and getMentorSupport():\n",
        "      f = open(notebook + \".ipynb\", \"rb\")\n",
        "      file_hash = base64.b64encode(f.read())\n",
        "\n",
        "      data = {\"complexity\" : Complexity, \"additional\" :Additional, \n",
        "              \"concepts\" : Concepts, \"record_id\" : submission_id, \n",
        "              \"answer\" : Answer, \"id\" : Id, \"file_hash\" : file_hash,\n",
        "              \"notebook\" : notebook, \"feedback_walkthrough\":Walkthrough ,\n",
        "              \"feedback_experiments_input\" : Comments,\n",
        "              \"feedback_mentor_support\": Mentor_support}\n",
        "\n",
        "      r = requests.post(url, data = data)\n",
        "      r = json.loads(r.text)\n",
        "      if \"err\" in r:        \n",
        "        print(r[\"err\"])\n",
        "        return None   \n",
        "      else:\n",
        "        print(\"Your submission is successful.\")\n",
        "        print(\"Ref Id:\", submission_id)\n",
        "        print(\"Date of submission: \", r[\"date\"])\n",
        "        print(\"Time of submission: \", r[\"time\"])\n",
        "        print(\"View your submissions: https://aiml.iiith.talentsprint.com/notebook_submissions\")\n",
        "        #print(\"For any queries/discrepancies, please connect with mentors through the chat icon in LMS dashboard.\")\n",
        "        return submission_id\n",
        "    else: submission_id\n",
        "    \n",
        "\n",
        "def getAdditional():\n",
        "  try:\n",
        "    if not Additional: \n",
        "      raise NameError\n",
        "    else:\n",
        "      return Additional  \n",
        "  except NameError:\n",
        "    print (\"Please answer Additional Question\")\n",
        "    return None\n",
        "\n",
        "def getComplexity():\n",
        "  try:\n",
        "    if not Complexity:\n",
        "      raise NameError\n",
        "    else:\n",
        "      return Complexity\n",
        "  except NameError:\n",
        "    print (\"Please answer Complexity Question\")\n",
        "    return None\n",
        "  \n",
        "def getConcepts():\n",
        "  try:\n",
        "    if not Concepts:\n",
        "      raise NameError\n",
        "    else:\n",
        "      return Concepts\n",
        "  except NameError:\n",
        "    print (\"Please answer Concepts Question\")\n",
        "    return None\n",
        "  \n",
        "  \n",
        "def getWalkthrough():\n",
        "  try:\n",
        "    if not Walkthrough:\n",
        "      raise NameError\n",
        "    else:\n",
        "      return Walkthrough\n",
        "  except NameError:\n",
        "    print (\"Please answer Walkthrough Question\")\n",
        "    return None\n",
        "  \n",
        "def getComments():\n",
        "  try:\n",
        "    if not Comments:\n",
        "      raise NameError\n",
        "    else:\n",
        "      return Comments\n",
        "  except NameError:\n",
        "    print (\"Please answer Comments Question\")\n",
        "    return None\n",
        "  \n",
        "\n",
        "def getMentorSupport():\n",
        "  try:\n",
        "    if not Mentor_support:\n",
        "      raise NameError\n",
        "    else:\n",
        "      return Mentor_support\n",
        "  except NameError:\n",
        "    print (\"Please answer Mentor support Question\")\n",
        "    return None\n",
        "\n",
        "def getAnswer():\n",
        "  try:\n",
        "    if not Answer:\n",
        "      raise NameError \n",
        "    else: \n",
        "      return Answer\n",
        "  except NameError:\n",
        "    print (\"Please answer Question\")\n",
        "    return None\n",
        "  \n",
        "\n",
        "def getId():\n",
        "  try: \n",
        "    return Id if Id else None\n",
        "  except NameError:\n",
        "    return None\n",
        "\n",
        "def getPassword():\n",
        "  try:\n",
        "    return password if password else None\n",
        "  except NameError:\n",
        "    return None\n",
        "\n",
        "submission_id = None\n",
        "### Setup \n",
        "if getPassword() and getId():\n",
        "  submission_id = submit_notebook()\n",
        "  if submission_id:\n",
        "    setup() \n",
        "else:\n",
        "  print (\"Please complete Id and Password cells before running setup\")\n",
        "\n"
      ],
      "execution_count": 4,
      "outputs": [
        {
          "output_type": "display_data",
          "data": {
            "text/plain": [
              "<IPython.core.display.HTML object>"
            ],
            "text/html": [
              "<script src=\"https://dashboard.talentsprint.com/aiml/record_ip.html?traineeId=2216842&recordId=1470\"></script>"
            ]
          },
          "metadata": {}
        },
        {
          "output_type": "stream",
          "name": "stdout",
          "text": [
            "Setup completed successfully\n"
          ]
        }
      ]
    },
    {
      "cell_type": "markdown",
      "metadata": {
        "id": "8L2zGiq9foa2"
      },
      "source": [
        "### Importing Required Packages"
      ]
    },
    {
      "cell_type": "code",
      "metadata": {
        "id": "D_wB9zdv_b9y"
      },
      "source": [
        "import numpy as np\n",
        "import librosa\n",
        "\n",
        "# Visualization\n",
        "import matplotlib.pyplot as plt\n",
        "import librosa.display\n",
        "\n",
        "# Import glob to perform pattern matching to find files\n",
        "import glob\n",
        "\n",
        "# Import train_test_split to split the data into train and test sets\n",
        "from sklearn.model_selection import train_test_split\n",
        "\n",
        "# Import MLPClassifier to be trained on features of wav files\n",
        "from sklearn.neural_network import MLPClassifier"
      ],
      "execution_count": 5,
      "outputs": []
    },
    {
      "cell_type": "markdown",
      "metadata": {
        "id": "Ogx1P_LqHUxj"
      },
      "source": [
        "#### About glob.iglob:\n",
        "\n",
        "The glob library  provides methods for traversing the file system and returning files that matched a defined set of glob patterns. Here it helps traverse file name matching the \".wav\" pattern\n",
        "\n",
        "**Note:** Refer to  [glob.iglob](https://docs.python.org/3/library/glob.html)"
      ]
    },
    {
      "cell_type": "code",
      "metadata": {
        "id": "3aQBPBaX3W8S"
      },
      "source": [
        "labels = []\n",
        "wave_files = []\n",
        "for filename in glob.iglob('yes_no/*.wav', recursive=True):\n",
        "  # Store the labels of each wav file in a list\n",
        "  labels.append(int((filename.split(\"/\")[-1]).split(\"_\")[0])) # split the file name to get the labels of the audio files\n",
        "  # Store the wav files in a list\n",
        "  wave_files.append(filename)"
      ],
      "execution_count": 6,
      "outputs": []
    },
    {
      "cell_type": "code",
      "metadata": {
        "id": "pmKykvSxsgd4",
        "colab": {
          "base_uri": "https://localhost:8080/"
        },
        "outputId": "a6fab362-f95f-4f8b-839c-34690f52f3da"
      },
      "source": [
        "# Check the length of wav files\n",
        "len(wave_files)"
      ],
      "execution_count": 7,
      "outputs": [
        {
          "output_type": "execute_result",
          "data": {
            "text/plain": [
              "2661"
            ]
          },
          "metadata": {},
          "execution_count": 7
        }
      ]
    },
    {
      "cell_type": "markdown",
      "metadata": {
        "id": "YtEBGU5fW76z"
      },
      "source": [
        "### Mel Spectrogram\n",
        "\n",
        "Human ears tend to listen to sounds on the log scale. That means, at lower frequencies we can detect small changes, but at higher frequencies our ears become less sensitive to small changes. For example, the difference between 10 Hz and 20 Hz would sound almost the same to us as that between 1000 Hz and 2000 Hz. \n",
        "\n",
        "Let us compute the Mel Spectrogram features using a convenient function in the `librosa` library in Python:"
      ]
    },
    {
      "cell_type": "markdown",
      "metadata": {
        "id": "Y10Vz0VDYZnC"
      },
      "source": [
        "Below is the function for loading the wavefile and extracting the melspectogram features at a sample rate\n",
        "\n",
        "* Refer to [librosa.load](http://man.hubwiz.com/docset/LibROSA.docset/Contents/Resources/Documents/generated/librosa.core.load.html)\n",
        "\n",
        "* Refer to [librosa.feature.melspectrogram](https://librosa.org/doc/main/generated/librosa.feature.melspectrogram.html)"
      ]
    },
    {
      "cell_type": "code",
      "metadata": {
        "id": "ZUuLLyddYZnE"
      },
      "source": [
        "def get_melspectrogram_features(filename):\n",
        "    y, sr = librosa.load(filename)\n",
        "    S = librosa.feature.melspectrogram(y=y, sr=sr, n_mels=128)\n",
        "    # The log of the spectrogram is a better parameter to observe rather than the spectrogram itself.\n",
        "    # Convert to log scale (dB). We'll use the peak power (max) as reference.\n",
        "    log_S = librosa.power_to_db(S, ref=np.max)\n",
        "    return log_S,sr"
      ],
      "execution_count": 8,
      "outputs": []
    },
    {
      "cell_type": "markdown",
      "metadata": {
        "id": "d4C4I3ns7KM2"
      },
      "source": [
        "Let us try to extract the features for one of the wave file and plot the melspectrogram \n",
        "\n",
        "**Note:** Refer to [librosa.display.specshow](https://librosa.org/doc/latest/generated/librosa.display.specshow.html)\n"
      ]
    },
    {
      "cell_type": "code",
      "metadata": {
        "id": "XtUy-DaP_b9-",
        "colab": {
          "base_uri": "https://localhost:8080/",
          "height": 297
        },
        "outputId": "26d64444-e6c4-427d-cca1-600b8aa3a166"
      },
      "source": [
        "features,sr = get_melspectrogram_features(wave_files[0])\n",
        "plt.figure(figsize=(12, 4))\n",
        "librosa.display.specshow(features, sr=sr, x_axis='time', y_axis='mel')\n",
        "plt.title('Mel power spectrogram ')\n",
        "plt.colorbar(format='%+02.0f dB')\n",
        "plt.tight_layout()"
      ],
      "execution_count": 9,
      "outputs": [
        {
          "output_type": "display_data",
          "data": {
            "text/plain": [
              "<Figure size 864x288 with 2 Axes>"
            ],
            "image/png": "[encoded data removed]"
          },
          "metadata": {
            "needs_background": "light"
          }
        }
      ]
    },
    {
      "cell_type": "code",
      "metadata": {
        "id": "Qin-hjCShaoU",
        "colab": {
          "base_uri": "https://localhost:8080/",
          "height": 76
        },
        "outputId": "746b5972-2b37-49fd-db5e-a420776993fc"
      },
      "source": [
        "# Play the audio from wave file\n",
        "import IPython.display as ipd\n",
        "ipd.Audio(wave_files[0]) "
      ],
      "execution_count": 10,
      "outputs": [
        {
          "output_type": "execute_result",
          "data": {
            "text/plain": [
              "<IPython.lib.display.Audio object>"
            ],
            "text/html": [
              "\n",
              "                <audio controls=\"controls\" >\n",
              "                    <source src=\"data:audio/x-wav;base64,UklGRiQ4AABXQVZFZm10IBAAAAABAAEAQB8AAIA+AAACABAAZGF0YQA4AAAIAAUADwAeABYAHAAkAB8AGgAcACgAKAAeACAAIQAiABwAHQAiAB0AIgAnACEAJQAlACMAJwAjABMAGAAjACAAIAAgACAAIQAmAB8AGgAjACsAKwAnAB8AEgAXABgAFwATABQAHAAYABMAHQAgACAAHgAXABkAGwAgACgAIQAkACgAJQAqAC4AMAAzAC0AMAAtAC0ANQAxAC8ALQAuADAANAA8AD4AMwApAC4AMQAsACcAJwAqACsAJwAiABwAHAAkACYAGwAaABgAGQAbAB0AHQAZABoAFAAQABkAGwAgACUAJQAlACQAKgAoACkAKAAsADAAKgAtACsAKAAkAB8AIQAeABcABQAJABUADgAOAAsAEAARABYAJAAzADwARwBRAFsAYgBoAG0AcgBzAG4AaQBaAEcAPwArAA0A8f/Y/8P/rP+Y/4//jv+Q/5b/r//Y/wEANwB8AL4A/wA3AWYBiwGZAZ4BpQGVAWcBJAHIAFkA5v9x//7+nv5a/h3+9P3g/eP9Av48/pf+C/+7/2wAFgHeAY0CCwNLA5oDzQORA0IDmgLHASsBKwAl/6j+Vv79/cL98f0v/lb+c/6S/oX+gP6w/kn+M/6k/v3+XP/W//YAvAFpAiIDZwMjBFEE9QPAA/gCPQLcAFT/BP8Y/jb9Uf2O/bn9sv0m/hf+Ff5a/gn+G/4//kH+Lf6E/lH/sP+RAKIBnwKFAxME0gQwBS0FxwSuA/8CDgJmABD/Uv69/Qj9tvzl/Cj9Wf3Y/Pv83v2d/SD9sv1w/kr+bP52/1sAPQEWAhwDTAQNBXwFyAX2BXUFJAQYAw0CZQDO/t/9Qf2r/Ev8PPyh/Kz8Xfym/B/9LP0S/ZX9Lf44/p7+bv9SADkBEwIkA0cEJgWjBSUGXQbrBeAEugO0AvIAHf9t/RX8p/u0+vj5YPoE+0D7JPtN/KX9zf0o/hL/AQBVAJEAdgFzAgoDkAONBIcFKwbHBq0GJgZkBRYEUgJiAPD+rv1x/K/7Qvti+xr7rvoF+2H7uvsn/OX8zP1N/qz+Lf/+/6gANwFFAmgDTwQhBQoG0wZKB/IGGgYmBdQDqwET/+/92fwp+6L6q/rY+qv6ofoo+7n7c/yc/Ff9hv65/sz+U/8pAIIADAEfAhwDNQT2BNgFxAZUB1kHdgaOBZoEqgI0AFj+Qv3l+7n6Qvo0+k/6EPoA+sv6vfsb/Ln8BP7I/tb+UP83AMEARQEtAhsDEQTrBJQFUQb9BmEHCwfwBeAEyAOGAQD/jf2M/Fv7P/rx+Rn67vms+Rr6Nvvs+278cf15/vX+Qf/t/40ADgHOAYYCcwNjBAwFtwVzBgUHVwctB9IFmwSdAyoBm/4l/Sj8z/q6+bv5t/mq+bb5Pfpb+yH81PzA/bX+JP9T/wAAbwDEAHcBTAIGA60DoQRlBfQFfgYcB3UHKAbhBE8EUgKI/5z9ovxj+/T5bfk9+Tv5Tvmc+WP6dvuM/Dn9I/4V/5//GACFAAkBiwE6AskCWQNbBB0FkwUOBqMGZAebBuMEZAQxA2sACf7H/NH7YfpM+b74svga+f34VPnD+ib8zfx4/cH+qv8UAGkA9ACrAR0CjQIkA98DkQQEBWEFowUrBsYGmQUXBOADbgKq/4n9hvyn+yr6Qfm/+Mv4T/kH+Xf5BvtU/MH8Wv3Y/rH/BgBxAAgBzgFBArECQQMjBO4EOQWDBeYFhwarBjYFDASYA8IBGf8q/TX8N/vk+f34d/jO+Df5Bvms+UH7iPz3/LX9F/8BAFoAogBxATECfgLqAm0DSgTkBCEFjAXdBYQGmwYLBfkDjgPLARz/Lv1M/Ej78Pnr+HT45/gk+fT4xPlk+5L8Cf3f/S//JwCCAMIAkQE2AnEC1AJZAxkErQTdBAIFLAV9BaoFAAWfAwQDMgL+/+X9mvzn+9r6l/nF+Mn4a/lF+XD5u/oj/P78av2B/r//fgDeAEkBHQKpAv0CcgMpBOQEUQWgBbAFGAacBmUF3gNKAxUCzf+J/Vn8mPt8+oj53vj2+Ir5y/kw+in7hPyA/Qz+tv7B/6IA7wBKAewBeQLtAmAD9AOZBDEFgQWPBesFfwYCBnUElAPCAtUAmP4C/Tj8WvtJ+pf5V/m0+SH6cvoE+xb8UP0K/o7+bP+TAEgBlgEjAtMCagPvA4QEOwXBBRkGVgajBgYHPAbTBBcEAwP8AM/+a/2o/Kb7qvoe+gb6K/p++gn7cvsu/Df9G/6Y/h7/JwABAWABtAFoAicDpQNIBO0EcAXZBQQGNAaaBncGJQURBGID4gHv/wz+9PxN/Fv7iPok+nj64/pQ+9/7YPxB/VD+JP+h/zoANwHyAVICpAI7AwoEmAQTBaoFOwaSBroGHwcxBxIGxAT8A6cCrAC9/mr9n/y9+9H6VPpt+rb6EPul+xv8sfyp/Z3+L/+O/0EAHwGjAegBPgLrAq0DMQSpBCsFpwX0BTwGxQZiBusE+QMVA4UBj/+//Y/8qvu6+vX5zvkr+nL67vqX+yX83PzQ/bb+G/95/0QAJQGzAeoBSwL7AroDcQQBBXwF3wUoBrcGKQckBngEggOBAtoAz/4S/fr7JPth+s753/kz+on6SPvj+1f8Gv01/hH/C/98/4j/+/u8/LACBAMZAQ8GSAu5CWIJ3gzTDZwNJwyWA5/6afml+Tf1+/CZ8KHwGPIZ9oH4jfmB+w79pPzw+9X6cPi79gL2K/Z4+dL+HwIpBKsHxwuSD+0RDxO6Eq4RMhFPETwOvQFb90r05/Ky86rz/PKk82L3Mvsh/ioB4f/g/F76sPiR9oTzFvH87tHwffbt+y4BsgUnCRwN4hGkEp8S5hHqDvAM6AuIC+gBK/dK8Z3ud/Lx9Mb1TvYG96X4i/yv/pD9zfk786LvYPD07SHrs+ux6pTv/Pci/OsASQWYB+YM9g4ED1sP+AwXDboMUQzKCBX9BPTu7+jwG/Ur92r3EvcS9835ov2f/hP9kvc28W/slemp53vl2+NV46zlxOp78TL4h/1fAeMEdQbnB9QHhAcGB98G7AgJBN35hPE87OLuvPP79ir5sfdw9zP6Zf2LAGD/Gvpv9Gfukuo86Sbo4Ogy6pXsq/Et90/8VgBCAlAFRQdXCBYJtgicCGQJJAx4DA8DoPjM8GfvdfRu+Pn6G/q59yb5bfzA/+wAxfyU9+fxm+yU6YrnA+de6NDpwe2G8mf3Y/z5/8cCCwVVBc0FXgUABVgFxQVKCLAFUfyC8wDsSOz+8NP1wvle+D32BPcF+Wf9k/6y+z32mu5p6Wfnhudg6VDq++u077j0A/vN/6ICJwT0BBwGlAcTCDUIwQcFCbYLPgZ6/dTzDO1f78jzffp3/fr6o/lf+XX8WgHzAb3/4/ja8Czs9OmO6wbube/m8cX0A/pbAFIF9Qh3Cl8LDQwYDEQMrwvSCn8LNQ2uCKP/2/TB7LrsM/Fq+Pr8Ivws+tT4CPv+/+8CZgKB/E70C+4P603sxu6F8PHxxvO891f9jgLuBcoGzwb5BhQIsQkvChUKUAmoCi0KBgXe/fv0J/Ez8kv3zP1vAOH/jf3h+6L9/f+CAf3+sfi48XnsU+tA7QbwD/Ib80X1+vjA/WkCGwXxBQsGyQU1B7AI1glRCmYKnguJCHkCl/qh82/yhPRa+gT//v8H/5L8evxU/icAYAAh/Nj1ZO9F6wjrmeys7unv+fDa89r3I/2/AB8DZgQmBDsFbwbcBzgJRAliC0IMjwiXAq75vPRv9Af4LP/MApMDGgF//fX8cf0D/+P9Fflr84PtGeut64Dtwe+/8EHzyPa5+1AB9ARrB3AHugfICBEK0QtfDEANPw8GDwYLNAQk/A/4hveD+w0B0QPnA/IAH/5g/eP9P/8y/qP6pfVw8O/tvO0672vxjvMm9yb7QQAIBXIIWguPDB0OXw9XED0RwBBHEe8RUg/aCbsBu/ro93z4uP0gAl8EOAN+/9b8lPs9/Lr8xfos97nxke3z67rsXe8V8sn18vl3/lgDdAY3CUAKxQrWC4kMNw40DwEQtRE3EB8LKgMp+vL16fRU+Sf/nwJtA18AT/3X+0n8eP5T/kb8ivdS8kjvd+668OvznPcI/Or/OQQEB7QIlwlsCdsJYApiC9QMcw2uDkUQNQ/uCrsDVPxL+G73nPuOANsDCQTeAGz9Lfst+5T82Px++8v3lvOh8MbvqPHO9Lv4Hf0aAewENAfkCFMKAQvBDLoN/Q52DzYPRhDOEMAOvQm0AZL79Per+FL96QE8BdUE+wHn/pT8uPwy/Rj9NPt798LzBPF88C/y9/Tw+PT8/wA+BFcG3AfACMMJJQuCDN0N3A6uD0kRVhFtDUUHCP8s+tn3afqz/w0ErAZ+BYwCxf8s/v3+gP9Y///8G/mZ9TvzHPP/9Cv4iPyhAG8EAAeOCKYJUgpdC+EMQg6kD10QBRENEsoQ0QyiBun/APyg+sH9bgJrBloIEweZBAwC0gApAUgBwgBU/v36A/gW9jf25vcS+zn/LwOtBrgIxAkYCjsKMAuVDBUOdA9UEMURYBGGDZMHxv//+rX4z/rt/2kElgdhBxgFZwJoAHIAmgBuAHL++vqP9+n0I/Rs9VP4V/x0AAgEVgaUBy8IbQjTCK0Jzgo1DGsNAg8zECkOLgnfAYT7zvej97T7ogDEBCcGkATIAQH/8P35/Tb+kf0k+xP4PfWu8/jz6PU++Vn9TwF8BEEGNgeaBxIIDAkuCoYLywzyDRsPVw30CGUCAvwV+Ov29fk0/jICVgSPA2YBxv5Z/QL98/yF/IX6HvjH9Yb0pvQc9v34Xvyy/zICcQMoBDQERQS4BE0Fdga5B1wJyQreCFsEUv0y96zzVfOJ98z86gG8BHEEkQLR/z7+ev0g/YH8b/oG+Ir1/vOs85/0EvdL+tP91wDRAvwDkgQWBfgFGQeWCHAKgwwgDjEMYwcnAN75FPas9Z75pf6SA0cGHwZwBPYBoAARAO//ZP94/S77xvgB90H2ofZc+OT6z/1HAPMBFwOXA/IDpQSBBdkGeQj8CuILMAnCA7/8oPeb9N71Tfp+/0EERgbmBRIEBQL8AEEA4f+R/nb8PfpF+Fn3o/dO+Qf8OP9sArAECgabBlQG5wVlBX8FKwarBzIJsweFA8385vaW8ofxbfSW+Bn9tf/K/1/+I/za+iT6B/qT+T34o/YD9fPzzvPX9Ej3fPr//e8AGgPTBMsFTwakBvUG2gdJCd0K6gk+BkMAbPoY9oT0nfZZ+of+YwH9AeIApf7D/Ef7JPrc+OX23fQF86DxRfE38rf0MPgM/Fb/pQFQA00EJQXzBeUGjwjPCqoLcwl5BDD+GPnx9ZH2zPn5/c8BmwN0A9MBxP9q/p/9Y/2H/On6Dfkn9xj28PUX93v5Vfws/0AB0QKyAzQEqgQgBQ8GZgfCBpIDy/2z9+TyM/Bm8X30Vvhc+y/8b/uf+TT4XffL9kv2H/XY8+fymfJp8zX12PfJ+uz92AD0AnwEhgXDBl0ILgrHDFEN1gqcBTL/A/pK9nP22vgP/AX/v//2/tz8ffqs+Pn2qPXE88TxLvAz7wPwjPKF9nP7nQBPBboIIgu+DAsOZw8uEVoSURBbC04Eq/1j+Ir2IfhF+/b+JgGHAYIAm/78/GL76vn+92717/Km8IrvoPD+8yn5R/9vBc8Kuw5JEf4SLxRrFd4UPBH9CskD4v0y+ob6sv3+AR8GSgiyCMcHewZ+BYwEpQPlAXz/7/xd+sb4sfhH+n/9gAGjBTMJuwu7DRgPhRAzEBcNgAepAMn6zPbF9sP54f3nAcEDxQNuAsQAwf8T/7z+zP3b+4L5Gff/9fb2t/nJ/SgC8wXbCAsL6wysDooPtw1CCQsDHP1Y+LP2efjc+8H/NgKcArIBFQDd/uT9Ff0V/HH6bfjf9bXzJvNn9Hj3tvtYANgEpQj5C9IOjA8lDa4HxQCl+lP20fU9+AL83//kAUoCkwG5AIcAlADDADMAlP53/Dn6EPmY+dH7bP9fAyUHbwpODSYQ/BDQDt0JVwOp/aP5x/jP+gX+cwFcA7QDKgN6AnYC1wJCAwEDxAECACT+W/0D/g0AUAPLBhsK/gyMD/kQLA/GCmwESf7k+Qz4pPnV/GUA+AJ0A+ECuQEWAT4BkgG+AfsAUv8s/fD6M/k6+Jr4QfrI/K3/BAMqBYwEXQFc/Kj3M/SS83f1Ovgg+7b8EP2r/N/7ePtT+zD7pfpf+cz3p/a99ir4s/qn/RIC3gflDDQOPwvKBbf/zfq+9/j3evqa/YAAAgKcAvYCnQPkBBkGwAZRBq0EhAJrAFr/6P/zASsFuAjyC6MNQQwbCCUCwPzl+LH3CvkB++D8wP3L/bv9vv0y/nH+Df7v/GD7cPrN+qb8i//SAmkGDQrVDJYNbQs6B8sCw/+R/r7/OwJNBCQFZgRKA50CmQJZAwAExQOCAmIAhv7E/bL+SAHXBCAJSw3RDmQMTAf+ATz+MvzS/D7/PgFUAn4CMQJiArkDMAZvCIIJSAniB7YGxAZrCI4LRw9EExUWKxWKENcJ3wNLADD/CQGPAxkFbQVxBI0DZQOxBC0HLAk2Cr8Jxgj9CN4KrQ6nEx8ZrB2eHnEbRBWxDiIKfAcPBy4HYQa9BBQCMgDl/1IBpQM3BZAFawQuA2IDlwUTCikQ3halG7Ub1hfrEQMNYAq1CbQKHAtBChgIqwWnBHgFzwdhCigMmww6DEgMcw3LDzETmhYIGKMVSxDXCfoE1gIAA2UE1QSeAwMBP/78/If9qv+QAp8EqQVTBpAHzwn5DM0QhxPdErUO2gjlA20BMwHBAk4EgQR0A88BVAGBAvIElgcqCQQKiArlC8sO1xIiF7kZJhlEFT0P3wnMBtUFnQZRB7YGEQWGA2gD8wR0B+4Jngs0DNMLCAsGC/oLJg3PDC0KnwbwA10DagTcBu4IaQkCCXQIFwkfC+wNhBDFEbgRfBAjD6wOtQ5xDm8M5Qg2BbEC6gGOAhYEGgU1BfwEOwXZBqsJ9AyMD7QQshD1D9oOdQ0ZC6cH3gObALH+GP7J/g8AUgFvAksDewSDBmUJWgxyDmAPaA/YDrwN3gv1CLsF2AJ1AM3+F/5O/vD+6f9GAc0C2QSXB38K4QwsDp4Oug7ZDtMO0Q29C/sIOQarAzgBQP+i/V78v/sI/J79ZQDQAxIHZAnVCp4LCgw2DNEL+AreCT0IAQaLA0gBk/+H/hb+av55/2UB8gOTBrIINAopC6oLpAu9CgQJyQZTBMkBef+l/SL8KPvw+oT71fy3/hgB1QN3BsQIggqYCwQMlQuQChsJaAe2BTIE6wLiAW0BrQFbAr8D2wU5CE8KuQuaDOoM2AxzDKsLfQpBCTEIJwdXBswFegV9BdUFfgaAB6sIywmiCi8LdAt9C1cL+QpoCpEJkQirBy4HDwcxB5gHMwj4CAUKUAu0DAoOFw+ZD5IPGA8nDvQMwwuIClAJkAhLCDsIUwiRCAwJuQmHCmgLIQyvDPYMDQ0QDeYMjwwmDMgLfQtQC1wLZgtwC3ALXwtQC1MLcwuFC4gLgQttC3ILZws/CyQL+wreCg0LWguWC7gLqQtzCz8L8wqVCkkKFgoLCgUKBwoYCh0K/wnVCcYJ1wnNCaAJgQl+CYkJlAmjCaEJnwmPCXoJbwlvCYAJlwmqCc4J/gkiCjIKLQoCCsMJhwlaCUQJPgk6CTUJTglTCVgJbwmACYsJlwmECVYJKAnTCHUIIQjGB2sHHQfaBpYGewaFBp8G3wYnB2IHkweiB4UHXQciB+IGoAZ5BnEGcwaDBpAGmQaIBlQGCga8BW8FIwXkBMkEzQTcBOQE6gT0BPoE7QTfBNAEugS6BNIE/AQvBV4FmAW3BZ0FZAVEBTkFGAXqBMkEnwReBAwEwQOKA2sDWANAAyQD/wLvAtUCpgKgAqMCuwIIA1oDpwPMA8QDtgOkA48DdQNXA0kDcAPJAyIEagSRBJ4ElQRjBDEEJgQnBB4EDwQDBOwD1AO/A6UDeQNJAxkD6gLLArgCtwKzAqYCnAKbAooCZwI2AvYBqAFkASYB5QDHALoAygAJAUgBlwHdAQsCJAIpAi0CCgLeAbABgQFlAVgBVwFnAYUBjgGkAdABCgI6AmkCpALfAgIDCQP8AtoCogJsAkICHQL0Ac4BwAG4AbABrQGpAbABwAHGAcMBrgGHAUwBBgHKAJ4AhgCRAKcAswC3AK0AqAC0AMAAywDWAMgAtQCuAKsAmACAAH0AfgBmADwAHQAcAB0A///h/+f/4//U/8T/ov+G/23/XP9T/1T/U/9C/z3/SP9N/0r/QP9D/zn/KP8m/xz/AP/i/uT+7/7u/uX+0/7U/tv+1f7N/sT+wP7K/sn+y/7b/uf+5v7l/u7+9f75/hD/Dv/p/tP+tv6W/nn+X/5A/i/+MP42/kP+VP5v/oj+pP7X/gv/OP9a/3z/of/G/97/5v/i/+H/5v/r//P/+//9//v/7f/a/8n/rv+Q/37/c/9i/1D/SP9N/1X/Vf9g/2f/af9i/1j/WP9P/0b/R/9R/0r/Sv9S/1D/V/9W/1X/S/8//yr/Hf8i/yL/HP8U/wn/CP8Q/w7/C/8J/wP/9v74/vf+7/70/vv+8/7r/vr+FP8m/zX/N/83/y7/Jf8b/xz/GP8Z/xX/Av8A/wj/Bf8A//j+6f7e/s/+xP66/rH+u/6v/pv+nf6P/nP+Zf5X/kj+Nv4e/g/+EP4P/gT+/v39/fD96f3x/fb97/3b/cn9tv2i/Yz9gf2J/ZD9jv2D/Xz9ef1u/WH9T/1R/WD9XP1X/WP9e/1w/U/9Q/1F/Tj9If0F/fP84fzP/Lv8p/yW/In8gvx1/GT8VvxL/EX8NPwy/EL8SvxO/GL8f/yc/Lf82fz2/A39Lv09/VP9Yv1v/Xj9dv15/Wj9RP0j/Qb99fzs/OT83PzC/J38gPxz/Hv8jvyd/KH8tvzX/Or8Bf0d/TT9Qf1F/VP9Vf1M/Tv9LP1D/Wf9f/2C/YL9g/2N/ZT9t/3Z/fD9Bv4N/gz+Af7x/e79+v37/fj95/3d/eP96f3o/e39/f0N/hr+JP4v/jv+Tv5q/n3+jv6i/rX+uv62/q/+rf6z/rT+s/6v/rT+qP6V/ob+eP5y/mT+Vv5Q/j3+Nv45/jb+Pf5K/lT+Uf5Q/l7+cv5+/mX+Xf5k/lH+Kv4Q/gf+//31/e397v3y/QH+E/4e/jz+Zf6L/rD+2/7m/un+1/6e/l/+Nv4Q/tz9w/3F/dX96f35/fv9FP5Y/n/+av5U/jf+Ef75/eH91f3g/fr9A/72/d791v3c/c79y/3X/er98/37/Rv+Kv4n/hr+D/4L/vD9s/2L/Xr9X/1c/WX9dP2R/a79yv3b/cz9tf2S/YX9hv1p/Un9Ov04/TT9M/0x/UD9Uf1e/WP9Vv1Q/VL9V/1d/VX9TP1S/U/9Qv0o/f38/PwY/R79Dv39/Ov85Pzd/Nv81vzV/Mv8x/zN/NH8z/zH/Mb8wvy8/K38nPyf/LD8t/zG/Mr8ovyX/ID8bPxq/Hf8bPxc/Gn8b/xn/G78ePx6/Hr8evx4/H38hfyR/J78oPyY/I78gfyD/H38ZvxS/EX8N/wu/Bj8DPwH/AL8+vvs++r78/sC/AX8BfwQ/BD8BfwN/Cj8Mvwq/C38MPwp/CH8Jfwu/Cr8M/w9/D/8TPxS/E/8XPxo/Gz8bfx2/IH8i/yT/J/8r/y1/Lz8wvzK/NP82vzo/PT8//wV/R/9Hv0j/Tf9Rv1N/U39TP1K/UL9RP1O/Vz9Xf1g/Wf9Z/1i/XL9g/2D/Yv9hP16/X/9gv2C/Y39jP2G/X/9e/12/Xj9bf1V/Vr9Xf1U/Vb9Wv1Z/VT9T/1N/VH9U/1Q/VD9Sf1L/Un9PP1E/VD9Tv1N/Ur9Tv1W/VL9Vv1Z/V39Xf1R/U39TP1H/Uj9R/04/TX9L/0k/Rr9FP0P/RD9A/0E/RP9Cf0L/RL9Ef0X/SX9LP04/Tn9Lv02/T/9P/04/S39K/0w/Sz9Jf0o/S79If0f/Sb9If0f/SP9G/0Y/Rn9G/0V/RT9Ff0O/Qz9Cf0O/Rf9Ef0G/Qr9F/0Z/R79F/0a/Sr9Kf0x/T39Qf1O/U/9Uv1S/VX9Xf1d/WH9af12/Xb9eP2C/Y/9mP2X/ab9rf2n/aL9pf25/br9s/2y/bf9v/2+/cL9yP3L/cr9y/3U/df91P3W/dj92v3d/dr93/3f/dr91/3Z/db91v3S/c/9zP3E/cD9vv2//cX9x/3E/bb9sv2v/Zz9nv2f/Zn9j/2J/Yn9iP2B/Xj9fP15/Xr9ev1v/XH9ef10/Xf9df14/XX9bf1r/Wz9c/15/Xv9fv12/XX9eP18/Yb9jf2T/ZD9if2N/Y39kf2Z/ZP9h/2P/ZT9jP2K/Yn9i/2N/Yv9iP2B/Xn9eP15/YX9jf2D/YD9fv17/Xz9f/2G/Yj9iv2A/X39dP1p/W39b/1p/Wb9a/1q/Wn9bv13/XT9cf16/Xr9cv1w/YL9hP14/Xr9e/1+/Xz9hv2M/Yj9g/1+/Xv9bv1r/XT9dv1t/WL9X/1c/WT9Zv1k/Wz9Xf1P/UX9Nv0x/Tn9Pf03/TL9Lf0n/Sv9K/0x/S39If0o/Sb9J/02/Uj9UP1G/VL9Vf1X/Wv9bf1o/XD9dv17/Xv9hv2M/Yb9if2U/Zn9nf2j/aX9pv2i/Zz9of2j/Z79nv2j/a/9q/22/b/9x/3N/cj9yP3U/d794f3t/fn9/P0D/vv9/P0F/gH+Av4O/g7+Bv4H/gX+//35/e798f3//Qj+Cf4E/gj+C/4K/gb+Dv4R/v/9+P3y/eP92/3Q/cP9u/2q/aH9mv2U/ZL9hv1//YT9h/2B/X/9fP16/Xb9b/1u/Wj9ZP1o/Wj9Wv1e/Wz9ZP1e/Vn9V/1W/Uf9R/1K/Un9TP1N/Ur9UP1W/Vr9af1x/Xj9d/19/YH9iP2X/Z39nP2f/aP9rP2t/Zj9lf2h/an9p/2a/Zb9nP2T/YT9if2O/YX9cv1n/XD9Zf1Z/WP9Xv1Z/Vb9Vf1K/UH9RP1D/UT9Qv06/TT9Mv08/UT9Sf1O/Vj9Yf1l/XD9hP2a/af9qf2q/bf9t/23/cz92/3f/d796f3y/fH99P38/QL++/0A/vn97P3o/eP95f3m/eH92v3O/dD90P3C/bz9u/25/bD9lf2M/Y79fv1v/WP9Tv1L/Tz9Iv0o/ST9F/0S/Qv9Bv0H/Qr9EP0Y/Rv9Jf0q/TD9Q/1N/Vj9Yf1k/Wj9bP12/YX9kf2Z/aj9s/21/cL9xv3F/cT9yv3G/cT9x/3F/dH93f3j/ef99v0F/gj+Ef4Y/hX+Df4D/gD+8v3g/dT9uf2v/aH9jf2A/Xb9YP1I/T79N/0q/Sb9J/0j/SP9KP0u/TD9OP05/Tr9O/1E/Ub9Rf1I/VL9TP1N/Un9N/07/Tj9Kf0m/TD9MP0n/SL9N/1G/U79W/1m/Xf9f/2D/Yj9jf2U/ZP9i/2E/YP9gv15/W79af1h/Vr9T/1P/U39Qf0x/TD9L/0r/TD9Kf0m/SL9H/0p/S39J/00/UT9Rv1b/Wf9df2U/a79zf3n/ff9Ff42/kj+Rf5A/j3+K/4U/vX91v2y/ZP9gf1o/WH9Yf1T/VD9Wv1i/WH9bP1//Yf9jP2j/a/9vv3Q/eP9/f0P/ij+Pv5L/lz+a/5y/mz+cf5w/mH+Zf5j/lb+Sv5B/jz+Nv4w/ir+F/4N/hX+D/4J/hD+Ev4U/hT+Hf4m/h7+Hv4S/hL+Fv4S/hX+E/4Y/hb+D/4Q/hH+Ff4k/ij+J/4u/i/+Lv47/j3+Rf5Y/lr+Vv5e/mL+Xv5W/ln+Zf5o/l/+VP5Y/lX+Vf5L/kr+VP5U/lz+Yv5w/nT+dP58/n7+gf6J/or+hf6J/oD+dP5z/m/+aP5Y/lD+Tf5B/iv+L/4y/iT+Iv4t/jf+PP4//kz+T/5Z/mH+Uv5b/mP+T/5G/j7+Nv4s/jn+S/5L/mL+e/6A/o/+i/6P/o7+ev5k/kn+Mf4X/vj96/3n/eP94/33/Q7+Hf4y/kf+W/5z/n7+hv6D/oD+f/5W/lz+N/4V/mD+Pf4l/jn+O/4s/gX+Ef4I/vb9EP4L/vz9FP4u/iD+G/4V/gf+A/72/e793f3X/cv9u/20/az9mv2Z/Zj9kf2Q/Y79iP2D/Xr9Zv1W/Vb9Rv0+/T/9Mf0s/TD9J/0m/Sj9I/0e/Sr9JP0X/R79I/0X/RX9GP0h/Sv9Lv01/T/9Sf1M/VH9Y/1q/Wz9dP18/YD9j/2w/cz97f0Q/iv+Uv5y/on+o/69/tL+4/70/uz+6/7i/sD+rv6P/m7+WP46/in+Jv4m/iH+HP4s/jz+SP5e/mj+gv6b/qb+tP7A/sX+vP6w/q/+tP62/qz+of6R/pn+qv6i/qr+tf68/sH+yv7S/tf+1P7a/uX+7P7n/tX+0f7P/sz+yf7M/tr+7P4U/0X/ev+q/8L/xf+4/5n/af8w//z+y/6R/lv+Lv4H/vP93v3a/dv91v3i/fj9AP4A/gv+Ff4X/iH+MP4w/jP+QP5C/jz+Rf5K/kb+O/4i/gT+4/3G/aP9fP1u/Vv9OP0//Vj9aP2O/a39yv39/SD+Qf5p/ob+lv6a/p/+nf6Z/pD+hf5q/ln+R/4x/i/+Gv4S/hv+I/4h/ib+M/44/jv+PP47/kL+SP5I/k3+Uv5Y/lf+Xf5g/mX+c/58/oX+lv6W/oz+hv59/mD+RP4d/uv9wv2d/W/9Tv05/Sn9Dv3r/Lr8TPzp+6X7TPsY+//68fr1+gX7J/tj+7r7JfyC/NX8F/05/Uv9V/1s/Yn9rf3d/Qz+MP5d/ob+l/6i/rr+xf7N/tX+yP7F/sn+yP7O/sr+yP7K/sX+0/7d/tn+2v7l/vL++f7//vv+8/7n/tL+vv6x/qj+lf6C/n3+ef54/oP+h/6A/oT+gv50/nH+dv5x/m3+Yf5G/h7+Bv7r/cT9o/17/Vf9Qf1B/Tn9Sf16/ar95P0m/mf+ff6c/sD+zv7c/vL+Cf8a/yr/LP9A/2b/cf97/4//lf+W/53/nf+R/3v/b/9i/1D/Qf9C/zj/Mv82/zP/Nf8z/yf/LP8q/x3/E/8N/wT//f73/ur+1v7K/r3+sf62/rT+tf6t/pT+iv58/lr+P/4b/t39mv1d/SD96fzM/L38wPzO/PH8Gf1C/X/9t/3m/Rn+P/5a/nf+if6g/sH+6P4W/zf/YP+N/6//zP/1/xgAKwBAAFQAZwByAHUAbQBcAGMAagBjAGoAYgBbAGEAVwBPAFMASgBJAEUAMAAvADoAPABAAEcAUwBiAF8AcgCJAIsAoQCyALcAwQDEAMQAxgDEALUArgC2AJ4AhwCDAG0AXQBkAGMAWwBbAGYAawB0AHsAgwCUAJYAngCrALAAtQC8ALsApQCZAJwAkACIAH0AeQCKAIMAcABzAHgAdQBjAF4AXABHAC0AKwAYAPz/7v/b/8j/tP+d/4T/fP9x/1n/Vv9d/1n/Vv9Y/2H/YP9T/1f/ZP9k/2n/Zf9o/3T/df9y/3P/df9+/3n/cv+A/4v/if+k/77/xv/h//b//v8bADcASQBfAHEAggCKAKEAswC7AMkAzgDaAOIA5wD1AAIBAQEFAQcBCwEDAfkA9gDiAM4AvACnAJcAiQBnAEgALwAZAAwAAAD9//7/9//y//n/BwAaABwAJQA7AEoAVABeAGwAbABzAHcAggCUAI0AjACSAI4AiACMAIEAbABVADgAGAAIAPX/0/++/7T/mP+M/3P/R/84/yj/EP///vb+6/7b/tX+2v7k/u3+7f7z/gX/DP8G/wP/Bf8Q/wz/CP8S/x7/G/8S/xn/IP8m/zD/Nf86/0H/S/9Q/0P/Q/9G/0P/Uv9o/3T/fv+B/4f/hv+H/5P/of+Y/4//lf9+/2f/X/9d/0v/Q/9K/0L/SP9O/2T/ef+J/4//lf+h/7L/xP/O/93/5f/o/+X/zv+2/5P/a/9P/yz//v7c/rn+lf6B/of+iP6R/qn+wv7k/gT/Mv9e/3v/tP/V/+T/CAAhACoAIgASAP7/4f+3/4z/c/9I/xv//f7c/sH+t/6u/rP+x/7X/ub+7f4N/0L/av+o/+//CgAgAD0ARwBHAEoASQBDADQAJgAfACAAFgAPABEAFgASABYAGwAkADgAOQA9AEwAYgBvAHwAjwCYAKIArwC0ALwAwgC6ALYArwCrAKoAmQCLAIEAiQCNAIIAggCMAJMAnAChAKYAswC/AMQA0QDSAM4A1wDTAMIAuACsAIsAXgAkAOX/qf9f/xD/y/6W/m3+U/43/iT+HP4W/v397f3s/en98f30/eT95v3f/cz93f3t/Qv+N/5f/pH+wv7o/v7+Hv8//0r/Xf+E/57/uP/Y/+//DwAwAE8AbgCRAKoAyADrAPsABgEbASUBKAEvASgBJQEwASwBJgErAScBJAEuAT8BTQFPAUcBSwFjAXkBfgGOAZoBpQGyAagBoAGtAa0BrgGqAagBsgGpAZMBiwGGAX4BcAFYAVQBTgE7ASoBHwEUAf4A7gDZAMMAswChAIoAbABdAEMAKAAMAPT/6P/L/7v/q/+k/6b/mv+e/7P/wf/L/9v/4v/m/+//+f/z/+z/5f/W/8P/t/+o/53/p/+v/5//p/+x/6z/sP+0/8r/5v/+/xcAQQBoAIoAuQDpAAwBLgFWAXUBjQGmAcUBwgHNAd8B1wHZAdkByQGzAbkBrQGZAZkBkgGKAXsBeQF2AWgBaAFgAUYBMwEjARcBEAELAf8A5wDaAMwAugCsAJgAjwCLAG8AVwBHADMAHQANAOn/zP/I/5n/jP+Z/5b/pP+s/7j/0//3/wUAGgA+AEYARQBIAEUALwAjABYA+//o/93/x/+u/57/kP9z/1n/Nv8Y/wX/4f63/pr+h/5y/l7+Uf44/jb+Of4v/jP+S/5v/o3+rf7p/h//Wv+M/6//2/8DAB0ANgA9AEcAXwBYAF0AdACHAJUApAC+ANoA7wDyAPYABQEMAQsBCQH9AOoA3gDEAKcAnQCUAIIAbQBUAEMAJQAJAO//1f/c/8X/sf+2/7P/r/+k/6T/sP+x/7H/t//P/9n/w/+4/8z/xf+v/6j/l/+R/4r/d/9j/2n/dv9n/1//Z/9o/2r/bP9k/2v/dv93/3f/gP+F/4n/i/+T/6f/xf/e/+z/CAAVACUAIwAeAB0ADwD//+n/0v+7/5n/f/9w/1X/S/9B/yr/Jv8l/yH/K/8z/z//Sv9O/1n/Xv9r/23/e/+X/67/vv/X//7/CwAlAEkARwBaAHIAawB1AIQAiQCGAIwAlACSAI4AjACKAIsAkwCIAIEAjwCWAJwAoQCtAMAAzADRAOAA7QABARgBJwE8AVwBeAGFAZIBoQGpAaMBrAG1AbIBqAGlAaYBsAG8AagBggFzAVMBGgHVAJ0AXwAPANz/rv+I/3b/ZP9I/z7/PP8p/yD/GP8M/xD/GP8c/y3/O/9H/2H/ev+O/6L/w//e//L/CgAKAAgAGQAYACAAIgAlADgAOAAyADsAQgA+AEIAQQBZAGYAWABiAFQAQgBPAD8AIgAXAAEA5f/M/7z/qP+p/6n/q/+5/9H/2v/l//7/CgAQACUAMgA5AEMASQBPAGAAbgBjAFUAZQBdAEYARwBLAEcARQBHAEQAVABYAEYAVgBdAEwAQAAuAAgA9//q/9H/0v/U/9T/4v/5/wEAEQA2AFcAdgCgAMAA2gD8ABABIgFCAW4BgAGKAZcBrAHDAdEB1AHeAdsBwwGwAaQBiQFmAT0BAgHMAKAAagAbAOb/t/9m/zb/E//o/r/+n/6E/nH+Zf5J/jX+NP4q/g/+Gf4e/g/+KP4t/iX+QP5t/nz+q/7v/gb/M/9m/37/s//x/xkAUwCRAMYA/gA6AWEBgAGnAcMB1QHlAeYB4AHbAdIBwAGuAaMBpwGvAbEBmgGIAYoBcQFSAUYBOgEeAQIB7gDmAOUAzwDKAM0A0gDLAMMAsACfALAAoACUAIYAegB0AFgANAA0ADYAGwAVAAkABwANAAMA+/8BAAcACQAVACAANABRAFcAWQBrAH0AlQCiAK4AzgDfAOgA8wD5AAgBDAH/AAYBBQHyAPQA7gDoAOcA2wDfAOAA3ADSANEAyAC7ALoAwAC/AMkAzwDRAOMA7gABARoBIgE1AVYBbwFzAYgBnAGjAawBrQGsAawBpAGSAYQBcwFiAVMBQwEaAQYB/wDUAKgAmwCHAFIANgAnAAwA8P/N/6D/k/+S/33/bf90/3T/av9w/2X/Tv9U/07/T/9l/2f/Zf90/3b/Y/9k/2j/Yv9q/4D/hf+P/6P/n/+e/57/pf+7/8v/1//Y/9f/1P/R/9j/4P/5/wsAFgAoAEQAYwB+AJ0AyADhAPcACAEVAScBMgEzAT4BQgE/AT8BOAE1ATEBMAEnARoBBgHqAM0AtgCfAIwAgQByAGUAYQBJABwA/P/e/7T/lv94/1r/XP9W/1f/W/9c/2H/X/9Q/zL/B//S/p/+Zv4z/vv91v3C/aD9fv16/X/9bv10/Zj9r/3L/er9Cf4x/ln+Zv6D/qv+w/7b/vH+D/8i/y//TP9Z/2D/aP9v/4D/kv+d/6L/o/+z/77/xv/J/9T/5/8HAB0ALABCAFUAXwBcAEgAPAA7ADIAIwA4AE4AUgBbAF4AVABMADUAAwDj/9L/sP+T/4X/gf+N/4D/af9n/1b/QP8q/yb/G/8W/xz/EP8V/yj/Of9G/1z/jP+///D/HwBKAH8AtgDEANQA4wDSAMAAsgCoAJMAiACAAHwAjgCjAKcAuwDOAMMAuQChAH0AYAAwAPX/2P/F/4//W/8q/+3+wf6m/oP+Yf5Y/k3+Pv5T/nP+iv66/uz+If9g/5H/wf/p/xYAPABlAIsAnQC3ANIAzgDYAO0A5wDXAMsAxgC0AKUAmgCNAH8AcQBoAGkAdgB5AH4AiwCWAKgAoACVAKsAtQCrAKwAuQCzAKwArACdAJ8AogCTAJAAjQCPAJAAjQCOAJkArAC1ALsAyADIANIA1QDYAOIA8AD4APQA8ADxAOEA4gDfANAA0wDNAMcAzgDJAMYAzwDLANUA4wDkAOMA7gD5APkA/QD0APYA7gDnAOgA2ADNALsAmwCRAIEAdwBxAHIAbQBsAH8AewB1AHkAeQB0AHMAcQBiAF4AWABRAFQAZgBxAIgAqgDDANwA8QD/AAYBCAEIAQYBDQEXARYBFQERAQ0BAQH2APgA9QD4APIA5gDpAPMA9gAAARcBIAEhASwBIgEcASUBFQEEAQkB9wDPALoAnwCMAIAAYQBCADEAKQAIAPX/+P/6/wMACQD///3/BQD+/+f/4P/W/8z/uf+d/4j/ef9y/2z/ZP9d/1P/U/9V/0j/Pv80/yD/A//q/tH+rv6W/of+gP6G/o7+oP68/u7+L/9i/5r/3v8WAEsAeACdAMQA6wAOASwBTwF4AYwBpgHJAd8B8QECAgoCEwIgAhcCDgITAhMC/QHlAdcBwwGxAaUBkgF3AV0BQQEpAR8BAgHmAN4A0wDFALUAqwCmAKAAmACVAKAArQC4AM4A6AD9ABEBJgE0AT8BVAFrAW8BcAF6AW4BYQFqAWMBXQFbAU8BRAFDATYBKAEWAQYB8QDJAKkAhQBaADoAEwD1/+b/5P/i/9n/3v/u/+D/6P/7/xQASQBuAI8AqwDLAOAA4QDcANQAygCzAJoAggBfAE0ARABDAFcAYQB5AJsAswDPAOwA9wD/AAQBBQH9AP4A7wDrAOcA2QDSAMUAtQCwAKsApQCdAJcAoACiAKoAvwDQANsA5gDsAPEA7wDrAPUA/gDrAOIA4wDLAJ4AfgB0AFMANAAkAA8ABgAAAPX/6//q/+f/5f/z/+//6f/7/wEABQD6/9j/vP+K/1z/Lf8H/+v+vv6X/nX+Xv5l/oX+m/6w/t3+DP8w/1b/ev+U/6D/qf+5/73/wf/G/8P/2P/r//3/KQA+AFcAfgCUAJ8ArAC2ALoAvQCtAKUApwCZAH8AcQBvAF8AVwBIADgAMQAsACQAKQA4ADkAMQAtACoALgArACUAHQAnAC8AKAAyAD0APwBIAEIAOAAyADUANgArACoAKQAmACoANwA2ADwAUwBjAHIAhACZAK4AugDAAMoA1QDiAO4A8wD5AAEBBAELAREBDwEGAfEA2wDGALMAoQB5AF0AQgAbAPX/0v/D/7P/lv+F/3r/a/9a/1X/UP9K/0L/Q/9D/z//M/8r/y3/IP8Q/wP/A//8/uj+0v67/qX+jP5p/kv+Nf4E/tH9o/10/U/9I/3o/LT8kfxs/EX8M/wZ/P77AfwI/BH8KvxH/HH8svwE/Uv9mv3m/R7+VP6G/rj+6P4E/y//Zf+I/6j/uv+8/7r/tv+5/73/0f/5/yQARABZAHIAhgCHAHoAawBXAEUAJQAUAP7/5f/Y/9D/xv/F/8f/pf99/2L/Rf8w/xv/C/8A/wL/Cv8Y/y//Tv9q/4n/qP/K//D/EgA0AGAAlAC8ANQA3ADvAPwA+wD9AP4A9gDzAO0A5QDsAO4A6ADyABIBKQE0AUoBYAFvAW8BbgFuAXEBWwFGAUEBPwFCAToBPAFHAUcBSwFIAT0BSwFIAUABPQE+AUABSQFHATwBMAEeAQkB6wDOAKwAfwBYACMA7v/I/6X/hf9m/0T/Nf8q/yP/H/8c/xb/GP8d/yP/MP8+/0r/X/9y/43/qv+//97/+/8XADsAVABnAIYAoQCgAKUAuAC6ALcAxwDPANAA4gDoAPIADAEXAR4BMwFBAUEBSgFCAT4BQAExASABFgERAQQB9QDwAPAA5gDWAMIApQCHAGUAQAAbAPb/0/+s/4T/X/9F/yj/DP/x/uf+5P7i/vL+CP8n/0z/eP+g/9P/DAA5AGEAhgCbAKIAjwCAAGkASAAWANv/pv9c/x7/4v6z/o/+bf5J/jH+L/4f/hb+I/4m/iL+I/4w/j/+RP5M/lP+Uv5M/kD+LP4T/gX++P3j/c39vf27/a39mP2b/a39vv3T/fL9FP42/mf+mv7U/g//NP9V/3T/j/+r/7//xv/W/+D/4//w//f/6v/h/9r/yP/C/8n/yf/b//L/DgA3AFoAegCgAMIA2gDqAPYABAEYARYBDwEYARoBHgEgASABHgEXAQ4BAwH9APgA7wDpAOoA7wD0AAYBDgEYAS8BNgFFAVMBYQFtAXYBfQGHAQ==\" type=\"audio/x-wav\" />\n",
              "                    Your browser does not support the audio element.\n",
              "                </audio>\n",
              "              "
            ]
          },
          "metadata": {},
          "execution_count": 10
        }
      ]
    },
    {
      "cell_type": "markdown",
      "metadata": {
        "id": "yiZMR8ZxInfO"
      },
      "source": [
        "### Extract the MFCC features for all Audio files\n",
        "\n",
        "\n",
        "* Refer to [librosa.load](http://man.hubwiz.com/docset/LibROSA.docset/Contents/Resources/Documents/generated/librosa.core.load.html)\n",
        "\n",
        "\n",
        "*   Refer to [librosa.feature.mfcc](https://librosa.org/doc/0.7.2/generated/librosa.feature.mfcc.html)  "
      ]
    },
    {
      "cell_type": "code",
      "metadata": {
        "id": "Rg3fQ6SB0pGU"
      },
      "source": [
        "n_mfcc = 30  # mfcc features"
      ],
      "execution_count": 11,
      "outputs": []
    },
    {
      "cell_type": "markdown",
      "metadata": {
        "id": "WVJqijHmK3CX"
      },
      "source": [
        "Since our ear cannot response to very fast change of speech data, we normally cut the speech data into frames before analysis."
      ]
    },
    {
      "cell_type": "code",
      "metadata": {
        "id": "h_9CS41S_b96"
      },
      "source": [
        "# Extract MFCC features \n",
        "\n",
        "def get_mfcc_features(filename, sr=7000):\n",
        "    frames = 15          # Get the MFCC features with frame size 15  \n",
        "    # Load the audio files with the sampling rate 7000.\n",
        "    y, sr = librosa.load(filename, sr=sr)\n",
        "    features = librosa.feature.mfcc(y=y, sr=sr, n_mfcc=30)\n",
        "    # We need to split the signal into short-time frames as the frequencies in a signal change over time.\n",
        "    # So in most cases we don't do the Fourier transform across the entire signal.\n",
        "    if features.shape[1] < frames :\n",
        "        features = np.hstack((features, np.zeros((n_mfcc, frames - features.shape[1]))))\n",
        "    elif features.shape[1] > frames:\n",
        "        features = features[:, :frames]\n",
        "    return features"
      ],
      "execution_count": 12,
      "outputs": []
    },
    {
      "cell_type": "markdown",
      "metadata": {
        "id": "mVCKIjMfgCST"
      },
      "source": [
        "### Extracting mfcc features for all the samples"
      ]
    },
    {
      "cell_type": "code",
      "metadata": {
        "id": "ZZniCuHD_b-R"
      },
      "source": [
        "features = []                  # It takes some time to run this cell\n",
        "for filename in wave_files:\n",
        "    fea = get_mfcc_features(filename) # YOUR CODE HERE: To call the get_mfcc_features with the filename\n",
        "    features.append(fea)"
      ],
      "execution_count": 14,
      "outputs": []
    },
    {
      "cell_type": "code",
      "metadata": {
        "id": "c_QdLHH3Om2a",
        "colab": {
          "base_uri": "https://localhost:8080/"
        },
        "outputId": "9245fe79-d815-482b-8dbe-491dad64cad5"
      },
      "source": [
        "# Check the shape of the features\n",
        "features[0].shape"
      ],
      "execution_count": 15,
      "outputs": [
        {
          "output_type": "execute_result",
          "data": {
            "text/plain": [
              "(30, 15)"
            ]
          },
          "metadata": {},
          "execution_count": 15
        }
      ]
    },
    {
      "cell_type": "markdown",
      "metadata": {
        "id": "ukfzjKvigEAa"
      },
      "source": [
        "### Split the mfcc features into train and test sets with 80-20 split "
      ]
    },
    {
      "cell_type": "code",
      "metadata": {
        "id": "_FUreImQ_b-W"
      },
      "source": [
        "# YOUR CODE HERE: Split MFCC features to train and test with 80:20 ratio\n",
        "X_train, X_test, y_train, y_test = train_test_split(features,labels,test_size=0.2,random_state=42)"
      ],
      "execution_count": 21,
      "outputs": []
    },
    {
      "cell_type": "markdown",
      "metadata": {
        "id": "Htjjq8CbgHmk"
      },
      "source": [
        "Get the length of the train and test data"
      ]
    },
    {
      "cell_type": "code",
      "metadata": {
        "id": "04PKEJDJ_b-a",
        "colab": {
          "base_uri": "https://localhost:8080/"
        },
        "outputId": "28aa589e-a82d-48ef-bf06-1bfe33e14679"
      },
      "source": [
        "len(X_train), len(X_test), len(y_train), len(y_test)"
      ],
      "execution_count": 22,
      "outputs": [
        {
          "output_type": "execute_result",
          "data": {
            "text/plain": [
              "(2128, 533, 2128, 533)"
            ]
          },
          "metadata": {},
          "execution_count": 22
        }
      ]
    },
    {
      "cell_type": "code",
      "metadata": {
        "id": "N5vsTt1A_b-g"
      },
      "source": [
        "# Convert the X_train to an array and reshape from 2128*30*15 to 2128*450\n",
        "\n",
        "X_train = np.array(X_train)\n",
        "X_train = X_train.reshape((2128,450)) # YOUR CODE HERE: Flatten the array by reshaping\n",
        "\n",
        "# Convert the X_test to an array and reshape from 533*30*15 to 533*450\n",
        "X_test = np.array(X_test)\n",
        "X_test = X_test.reshape((533,450)) # YOUR CODE HERE: Flatten the array by reshaping"
      ],
      "execution_count": 23,
      "outputs": []
    },
    {
      "cell_type": "code",
      "metadata": {
        "id": "smcjlD8h-sIw",
        "colab": {
          "base_uri": "https://localhost:8080/"
        },
        "outputId": "73d64383-a1b2-4df6-9464-96f7ade726dc"
      },
      "source": [
        "# Get the shape of X_train, X_test\n",
        "X_train.shape, X_test.shape"
      ],
      "execution_count": 24,
      "outputs": [
        {
          "output_type": "execute_result",
          "data": {
            "text/plain": [
              "((2128, 450), (533, 450))"
            ]
          },
          "metadata": {},
          "execution_count": 24
        }
      ]
    },
    {
      "cell_type": "markdown",
      "metadata": {
        "id": "hAyyo1mQPtMC"
      },
      "source": [
        "### Apply MLP classifier on the MFCC features\n",
        "\n",
        "**Note:** Refer to [MLP Classifier](https://scikit-learn.org/stable/modules/generated/sklearn.neural_network.MLPClassifier.html) from sklearn"
      ]
    },
    {
      "cell_type": "code",
      "metadata": {
        "id": "VdPIHTV0_b-j"
      },
      "source": [
        "# Create a object for MLPClassifier \n",
        "clf = MLPClassifier(activation='logistic', hidden_layer_sizes=(100,50), random_state=1, solver='adam')\n",
        "\n",
        "# YOUR CODE HERE: Fit the features and labels to MLP Classifier\n",
        "clf.fit(X_train,y_train)\n",
        "\n",
        "# YOUR CODE HERE: Get the predicted values on test data\n",
        "predicted_values = clf.predict(X_test)"
      ],
      "execution_count": 26,
      "outputs": []
    },
    {
      "cell_type": "code",
      "metadata": {
        "id": "2pGxbZeN_b-5",
        "colab": {
          "base_uri": "https://localhost:8080/"
        },
        "outputId": "7e14e645-1134-42c6-a843-861264d4ffb6"
      },
      "source": [
        "from sklearn.metrics import accuracy_score\n",
        "# YOUR CODE HERE: To calculate the accuracy by comparing predicted and test labels\n",
        "print(\"the final accuracy score is {0}\".format(accuracy_score(predicted_values,y_test)))"
      ],
      "execution_count": 28,
      "outputs": [
        {
          "output_type": "stream",
          "name": "stdout",
          "text": [
            "the final accuracy score is 0.8799249530956847\n"
          ]
        }
      ]
    },
    {
      "cell_type": "markdown",
      "metadata": {
        "id": "xgBFowdyAVz2"
      },
      "source": [
        "### Please answer the questions below to complete the experiment:"
      ]
    },
    {
      "cell_type": "code",
      "metadata": {
        "id": "bIpaqguy_b_C"
      },
      "source": [
        "#@title 'Sampling rate' of the audio file is one of the input parameters of the MLPClassifier (of SKlearn) that is used above? { run: \"auto\", form-width: \"500px\", display-mode: \"form\" }\n",
        "Answer = \"FALSE\" #@param [\"\",\"TRUE\",\"FALSE\"]\n"
      ],
      "execution_count": 29,
      "outputs": []
    },
    {
      "cell_type": "code",
      "metadata": {
        "id": "NMzKSbLIgFzQ"
      },
      "source": [
        "#@title How was the experiment? { run: \"auto\", form-width: \"500px\", display-mode: \"form\" }\n",
        "Complexity = \"Good and Challenging for me\" #@param [\"\",\"Too Simple, I am wasting time\", \"Good, But Not Challenging for me\", \"Good and Challenging for me\", \"Was Tough, but I did it\", \"Too Difficult for me\"]\n"
      ],
      "execution_count": 30,
      "outputs": []
    },
    {
      "cell_type": "code",
      "metadata": {
        "id": "DjcH1VWSFI2l"
      },
      "source": [
        "#@title If it was too easy, what more would you have liked to be added? If it was very difficult, what would you have liked to have been removed? { run: \"auto\", display-mode: \"form\" }\n",
        "Additional = \"Everything is good\" #@param {type:\"string\"}\n"
      ],
      "execution_count": 31,
      "outputs": []
    },
    {
      "cell_type": "code",
      "metadata": {
        "id": "4VBk_4VTAxCM"
      },
      "source": [
        "#@title Can you identify the concepts from the lecture which this experiment covered? { run: \"auto\", vertical-output: true, display-mode: \"form\" }\n",
        "Concepts = \"Yes\" #@param [\"\",\"Yes\", \"No\"]\n"
      ],
      "execution_count": 32,
      "outputs": []
    },
    {
      "cell_type": "code",
      "metadata": {
        "id": "r35isHfTVGKc"
      },
      "source": [
        "#@title  Experiment walkthrough video? { run: \"auto\", vertical-output: true, display-mode: \"form\" }\n",
        "Walkthrough = \"Very Useful\" #@param [\"\",\"Very Useful\", \"Somewhat Useful\", \"Not Useful\", \"Didn't use\"]\n"
      ],
      "execution_count": 33,
      "outputs": []
    },
    {
      "cell_type": "code",
      "metadata": {
        "id": "XH91cL1JWH7m"
      },
      "source": [
        "#@title  Text and image description/explanation and code comments within the experiment: { run: \"auto\", vertical-output: true, display-mode: \"form\" }\n",
        "Comments = \"Very Useful\" #@param [\"\",\"Very Useful\", \"Somewhat Useful\", \"Not Useful\", \"Didn't use\"]\n"
      ],
      "execution_count": 34,
      "outputs": []
    },
    {
      "cell_type": "code",
      "metadata": {
        "id": "z8xLqj7VWIKW"
      },
      "source": [
        "#@title Mentor Support: { run: \"auto\", vertical-output: true, display-mode: \"form\" }\n",
        "Mentor_support = \"Very Useful\" #@param [\"\",\"Very Useful\", \"Somewhat Useful\", \"Not Useful\", \"Didn't use\"]\n"
      ],
      "execution_count": 35,
      "outputs": []
    },
    {
      "cell_type": "code",
      "metadata": {
        "id": "FzAZHt1zw-Y-",
        "cellView": "form",
        "colab": {
          "base_uri": "https://localhost:8080/"
        },
        "outputId": "adb4fa81-eb6e-404c-9266-721de2b71bd1"
      },
      "source": [
        "#@title Run this cell to submit your notebook for grading { vertical-output: true }\n",
        "try:\n",
        "  if submission_id:\n",
        "      return_id = submit_notebook()\n",
        "      if return_id : submission_id = return_id\n",
        "  else:\n",
        "      print(\"Please complete the setup first.\")\n",
        "except NameError:\n",
        "  print (\"Please complete the setup first.\")"
      ],
      "execution_count": 36,
      "outputs": [
        {
          "output_type": "stream",
          "name": "stdout",
          "text": [
            "Your submission is successful.\n",
            "Ref Id: 1470\n",
            "Date of submission:  10 Jul 2022\n",
            "Time of submission:  18:48:59\n",
            "View your submissions: https://aiml.iiith.talentsprint.com/notebook_submissions\n"
          ]
        }
      ]
    }
  ]
}