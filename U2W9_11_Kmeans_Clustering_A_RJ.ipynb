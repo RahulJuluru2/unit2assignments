{
  "nbformat": 4,
  "nbformat_minor": 0,
  "metadata": {
    "colab": {
      "name": "U2W9_11_Kmeans_Clustering_A_RJ.ipynb",
      "provenance": [],
      "collapsed_sections": [],
      "include_colab_link": true
    },
    "kernelspec": {
      "name": "python3",
      "display_name": "Python 3"
    },
    "accelerator": "GPU"
  },
  "cells": [
    {
      "cell_type": "markdown",
      "metadata": {
        "id": "view-in-github",
        "colab_type": "text"
      },
      "source": [
        "<a href=\"https://colab.research.google.com/github/RahulJuluru2/unit2assignments/blob/main/U2W9_11_Kmeans_Clustering_A_RJ.ipynb\" target=\"_parent\"><img src=\"https://colab.research.google.com/assets/colab-badge.svg\" alt=\"Open In Colab\"/></a>"
      ]
    },
    {
      "cell_type": "markdown",
      "metadata": {
        "id": "SZIubkln0AI2"
      },
      "source": [
        "# Advanced Certification in AIML\n",
        "## A Program by IIIT-H and TalentSprint"
      ]
    },
    {
      "cell_type": "markdown",
      "metadata": {
        "id": "gIOQSqbiXt-6"
      },
      "source": [
        "## Learning Objective "
      ]
    },
    {
      "cell_type": "markdown",
      "metadata": {
        "id": "8GYCaU8-XwOv"
      },
      "source": [
        "At the end of the experiment, you will be able to:\n",
        "\n",
        "*  understand clustering\n",
        "*  find groups or clusters using K-means algorithm"
      ]
    },
    {
      "cell_type": "code",
      "metadata": {
        "id": "M6TJ4IDPacSU",
        "cellView": "form",
        "colab": {
          "base_uri": "https://localhost:8080/",
          "height": 502
        },
        "outputId": "d7539aaa-eb8b-4490-d626-4286955d11a1"
      },
      "source": [
        "#@title Experiment Walkthrough Video\n",
        "from IPython.display import HTML\n",
        "\n",
        "HTML(\"\"\"<video width=\"854\" height=\"480\" controls>\n",
        "  <source src=\"https://cdn.talentsprint.com/aiml/AIML_BATCH_HYD_7/3March/kmeans.mp4\" type=\"video/mp4\">\n",
        "</video>\n",
        "\"\"\")"
      ],
      "execution_count": 1,
      "outputs": [
        {
          "output_type": "execute_result",
          "data": {
            "text/plain": [
              "<IPython.core.display.HTML object>"
            ],
            "text/html": [
              "<video width=\"854\" height=\"480\" controls>\n",
              "  <source src=\"https://cdn.talentsprint.com/aiml/AIML_BATCH_HYD_7/3March/kmeans.mp4\" type=\"video/mp4\">\n",
              "</video>\n"
            ]
          },
          "metadata": {},
          "execution_count": 1
        }
      ]
    },
    {
      "cell_type": "markdown",
      "metadata": {
        "id": "012vyiaJX1Bm"
      },
      "source": [
        "## Dataset"
      ]
    },
    {
      "cell_type": "markdown",
      "metadata": {
        "id": "ekAVx85DX6RE"
      },
      "source": [
        "### Description\n",
        "\n",
        "The dataset choosen for this experiment is a hand-made dataset. We have generated the data programmatically by following Random / Gaussian distribution. The dataset includes 3000 instances where each instance is made up of 2 features."
      ]
    },
    {
      "cell_type": "markdown",
      "metadata": {
        "id": "4dYsr3gRYH1p"
      },
      "source": [
        "## AIML Technique"
      ]
    },
    {
      "cell_type": "markdown",
      "metadata": {
        "id": "RLj9n6-bYK2s"
      },
      "source": [
        "### Clustering\n",
        "\n",
        "Given an unfamiliar dataset, a clustering algorithm helps to discover groups of objects where the average distances between the members of each cluster are closer than to members in other clusters.\n",
        "\n",
        "Clustering is used to find structure in unlabeled data. It’s the most common form of unsupervised learning. \n",
        "\n",
        "Several Algorithms have been proposed for clustering. However, when compared to other clustering algorithms the K-means algorithm is more effective. This is because K-means allows us to pre-cluster the database which in turn produces good results.\n",
        "\n",
        "Additionally, K-means clustering is the simplest to implement and to run. All we need to do is choose the number of clusters(K) and run it number of times.\n",
        "\n",
        "We use K-means algorithm for clustering in this experiment."
      ]
    },
    {
      "cell_type": "markdown",
      "metadata": {
        "id": "AJdtyDHWYNeV"
      },
      "source": [
        "### K-means Algorithm\n",
        "\n",
        "K-means clustering is the process of partitioning a set of data objects into subsets. Each subset is a cluster such that the similarity within the cluster is greater and the similarity between the other clusters is less. \n",
        "\n",
        "K-means algorithm iteratively performs the following steps: \n",
        "\n",
        "1. Determine the value “K”, the value “K” represents the number of clusters.\n",
        "2. Select \"K\" points at random as cluster centers.\n",
        "3. Assign data points to their closest cluster center according to the Euclidean distance function.\n",
        "4. Calculate the centroid or mean of all the data points in each cluster.\n",
        "5. Repeat steps 3 and 4 until the same points are assigned to each cluster and compute till convergence.\n"
      ]
    },
    {
      "cell_type": "markdown",
      "metadata": {
        "id": "3e0e3sFh0JZJ"
      },
      "source": [
        "## Setup Steps"
      ]
    },
    {
      "cell_type": "code",
      "metadata": {
        "id": "xWQwfHmR0MDu"
      },
      "source": [
        "#@title Please enter your registration id to start:  { run: \"auto\", display-mode: \"form\" }\n",
        "Id = \"2216842\" #@param {type:\"string\"}\n"
      ],
      "execution_count": null,
      "outputs": []
    },
    {
      "cell_type": "code",
      "metadata": {
        "id": "RBdFVMDi0Ou0"
      },
      "source": [
        "#@title Please enter your password (normally your phone number) to continue: { run: \"auto\", display-mode: \"form\" }\n",
        "password = \"9959488784\" #@param {type:\"string\"}\n"
      ],
      "execution_count": null,
      "outputs": []
    },
    {
      "cell_type": "code",
      "metadata": {
        "id": "Tles91FY20M8",
        "cellView": "form"
      },
      "source": [
        "#@title Run this cell to complete the setup for this Notebook\n",
        "from IPython import get_ipython\n",
        "import warnings\n",
        "warnings.filterwarnings(\"ignore\")\n",
        "\n",
        "ipython = get_ipython()\n",
        "  \n",
        "notebook= \"U2W9_11_Kmeans_Clustering_A\" #name of the notebook\n",
        "\n",
        "def setup(): \n",
        "    from IPython.display import HTML, display\n",
        "    ipython.magic(\"sx wget https://cdn.iiith.talentsprint.com/aiml/Experiment_related_data/DS_CLARA_STD.csv\")\n",
        "    display(HTML('<script src=\"https://dashboard.talentsprint.com/aiml/record_ip.html?traineeId={0}&recordId={1}\"></script>'.format(getId(),submission_id)))\n",
        "    print(\"Setup completed successfully\")\n",
        "    return\n",
        "\n",
        "def submit_notebook():\n",
        "    ipython.magic(\"notebook -e \"+ notebook + \".ipynb\")\n",
        "    \n",
        "    import requests, json, base64, datetime\n",
        "\n",
        "    url = \"https://dashboard.talentsprint.com/xp/app/save_notebook_attempts\"\n",
        "    if not submission_id:\n",
        "      data = {\"id\" : getId(), \"notebook\" : notebook, \"mobile\" : getPassword()}\n",
        "      r = requests.post(url, data = data)\n",
        "      r = json.loads(r.text)\n",
        "\n",
        "      if r[\"status\"] == \"Success\":\n",
        "          return r[\"record_id\"]\n",
        "      elif \"err\" in r:        \n",
        "        print(r[\"err\"])\n",
        "        return None        \n",
        "      else:\n",
        "        print (\"Something is wrong, the notebook will not be submitted for grading\")\n",
        "        return None\n",
        "    \n",
        "    elif getAnswer() and getComplexity() and getAdditional() and getConcepts() and getWalkthrough() and getComments() and getMentorSupport():\n",
        "      f = open(notebook + \".ipynb\", \"rb\")\n",
        "      file_hash = base64.b64encode(f.read())\n",
        "\n",
        "      data = {\"complexity\" : Complexity, \"additional\" :Additional, \n",
        "              \"concepts\" : Concepts, \"record_id\" : submission_id, \n",
        "              \"answer\" : Answer, \"id\" : Id, \"file_hash\" : file_hash,\n",
        "              \"notebook\" : notebook, \"feedback_walkthrough\":Walkthrough ,\n",
        "              \"feedback_experiments_input\" : Comments,\n",
        "              \"feedback_mentor_support\": Mentor_support}\n",
        "\n",
        "      r = requests.post(url, data = data)\n",
        "      r = json.loads(r.text)\n",
        "      if \"err\" in r:        \n",
        "        print(r[\"err\"])\n",
        "        return None   \n",
        "      else:\n",
        "        print(\"Your submission is successful.\")\n",
        "        print(\"Ref Id:\", submission_id)\n",
        "        print(\"Date of submission: \", r[\"date\"])\n",
        "        print(\"Time of submission: \", r[\"time\"])\n",
        "        print(\"View your submissions: https://aiml.iiith.talentsprint.com/notebook_submissions\")\n",
        "        #print(\"For any queries/discrepancies, please connect with mentors through the chat icon in LMS dashboard.\")\n",
        "        return submission_id\n",
        "    else: submission_id\n",
        "    \n",
        "\n",
        "def getAdditional():\n",
        "  try:\n",
        "    if not Additional: \n",
        "      raise NameError\n",
        "    else:\n",
        "      return Additional  \n",
        "  except NameError:\n",
        "    print (\"Please answer Additional Question\")\n",
        "    return None\n",
        "\n",
        "def getComplexity():\n",
        "  try:\n",
        "    if not Complexity:\n",
        "      raise NameError\n",
        "    else:\n",
        "      return Complexity\n",
        "  except NameError:\n",
        "    print (\"Please answer Complexity Question\")\n",
        "    return None\n",
        "  \n",
        "def getConcepts():\n",
        "  try:\n",
        "    if not Concepts:\n",
        "      raise NameError\n",
        "    else:\n",
        "      return Concepts\n",
        "  except NameError:\n",
        "    print (\"Please answer Concepts Question\")\n",
        "    return None\n",
        "  \n",
        "  \n",
        "def getWalkthrough():\n",
        "  try:\n",
        "    if not Walkthrough:\n",
        "      raise NameError\n",
        "    else:\n",
        "      return Walkthrough\n",
        "  except NameError:\n",
        "    print (\"Please answer Walkthrough Question\")\n",
        "    return None\n",
        "  \n",
        "def getComments():\n",
        "  try:\n",
        "    if not Comments:\n",
        "      raise NameError\n",
        "    else:\n",
        "      return Comments\n",
        "  except NameError:\n",
        "    print (\"Please answer Comments Question\")\n",
        "    return None\n",
        "  \n",
        "\n",
        "def getMentorSupport():\n",
        "  try:\n",
        "    if not Mentor_support:\n",
        "      raise NameError\n",
        "    else:\n",
        "      return Mentor_support\n",
        "  except NameError:\n",
        "    print (\"Please answer Mentor support Question\")\n",
        "    return None\n",
        "\n",
        "def getAnswer():\n",
        "  try:\n",
        "    if not Answer:\n",
        "      raise NameError \n",
        "    else: \n",
        "      return Answer\n",
        "  except NameError:\n",
        "    print (\"Please answer Question\")\n",
        "    return None\n",
        "  \n",
        "\n",
        "def getId():\n",
        "  try: \n",
        "    return Id if Id else None\n",
        "  except NameError:\n",
        "    return None\n",
        "\n",
        "def getPassword():\n",
        "  try:\n",
        "    return password if password else None\n",
        "  except NameError:\n",
        "    return None\n",
        "\n",
        "submission_id = None\n",
        "### Setup \n",
        "if getPassword() and getId():\n",
        "  submission_id = submit_notebook()\n",
        "  if submission_id:\n",
        "    setup() \n",
        "else:\n",
        "  print (\"Please complete Id and Password cells before running setup\")\n",
        "\n"
      ],
      "execution_count": null,
      "outputs": []
    },
    {
      "cell_type": "markdown",
      "metadata": {
        "id": "01t2rPzm0AI9"
      },
      "source": [
        "Let us learn the kmeans algorithm step by step."
      ]
    },
    {
      "cell_type": "markdown",
      "metadata": {
        "id": "DCSwyyns0AI_"
      },
      "source": [
        "## Importing required packages"
      ]
    },
    {
      "cell_type": "code",
      "metadata": {
        "id": "qLyEX9tU0AJA"
      },
      "source": [
        "import numpy as np\n",
        "import matplotlib.pyplot as plt\n",
        "import pandas as pd\n",
        "import time\n",
        "from copy import deepcopy"
      ],
      "execution_count": null,
      "outputs": []
    },
    {
      "cell_type": "markdown",
      "metadata": {
        "id": "6yKlpe7yfOpZ"
      },
      "source": [
        "## Load the dataset"
      ]
    },
    {
      "cell_type": "code",
      "metadata": {
        "id": "JJPn-GjS0AJF"
      },
      "source": [
        "# Setting up the file. The data below is a simple Gaussian distribution of data.\n",
        "dataset = \"DS_CLARA_STD.csv\""
      ],
      "execution_count": 6,
      "outputs": []
    },
    {
      "cell_type": "code",
      "metadata": {
        "id": "l9ITZMy0IFa7",
        "colab": {
          "base_uri": "https://localhost:8080/"
        },
        "outputId": "7bdf406d-7af8-4d69-c061-fa592e293a1a"
      },
      "source": [
        "data = pd.read_csv(dataset)\n",
        "print(data.head())"
      ],
      "execution_count": 7,
      "outputs": [
        {
          "output_type": "stream",
          "name": "stdout",
          "text": [
            "          V1         V2\n",
            "0   2.072345  -3.241693\n",
            "1  17.936710  15.784810\n",
            "2   1.083576   7.319176\n",
            "3  11.120670  14.406780\n",
            "4  23.711550   2.557729\n"
          ]
        }
      ]
    },
    {
      "cell_type": "markdown",
      "metadata": {
        "id": "le1F_xQm0AJM"
      },
      "source": [
        "## Get the data values and plot them"
      ]
    },
    {
      "cell_type": "code",
      "metadata": {
        "id": "LXw5qStf0AJO"
      },
      "source": [
        "# Storing the values in seperate variables\n",
        "f1 = data['V1'].values\n",
        "f2 = data['V2'].values\n",
        "\n",
        "# Combining f1 and f2 into a single array\n",
        "# YOUR CODE HERE : From the two 1-dim Gaussian variables 'f1' and 'f2', create a 2-d gaussian variable 'X' (Hint: By zipping them together)\n",
        "X = np.array(list(zip(f1,f2))) "
      ],
      "execution_count": 11,
      "outputs": []
    },
    {
      "cell_type": "markdown",
      "metadata": {
        "id": "bsDXCVjwgowt"
      },
      "source": [
        "## Visualize the data values"
      ]
    },
    {
      "cell_type": "code",
      "metadata": {
        "id": "S08BPZBjgn78",
        "colab": {
          "base_uri": "https://localhost:8080/",
          "height": 279
        },
        "outputId": "e2a47eba-0d59-4ba1-a143-03e9689dba2d"
      },
      "source": [
        "# YOUR CODE HERE : Scatter plot 'f1' vs 'f2'\n",
        "plt.scatter(f1,f2,cmap=\"Accent\",s=50)\n",
        "plt.xlabel(\"f1\")\n",
        "plt.ylabel(\"f2\")\n",
        "plt.show()"
      ],
      "execution_count": 17,
      "outputs": [
        {
          "output_type": "display_data",
          "data": {
            "text/plain": [
              "<Figure size 432x288 with 1 Axes>"
            ],
            "image/png": "[encoded data removed]"
          },
          "metadata": {
            "needs_background": "light"
          }
        }
      ]
    },
    {
      "cell_type": "markdown",
      "metadata": {
        "id": "tIOK94Mk0AJa"
      },
      "source": [
        "## Lets intialize three cluster centers randomly to start with the k-means algorithm.\n",
        "\n",
        "Note: Refer to [np.random.randint](https://numpy.org/doc/stable/reference/random/generated/numpy.random.randint.html)"
      ]
    },
    {
      "cell_type": "code",
      "metadata": {
        "id": "-t8tH1US0AJb"
      },
      "source": [
        "# Number of clusters\n",
        "k = 3\n",
        "\n",
        "# YOUR CODE HERE : Generate random centriods (Hint : Generate x and y random coordinates)\n",
        "x = np.random.randint(0,np.max(X)-20,size=k)\n",
        "y = np.random.randint(0,np.max(X)-20,size=k)\n",
        "C = np.array(list(zip(x,y)))"
      ],
      "execution_count": 43,
      "outputs": []
    },
    {
      "cell_type": "markdown",
      "metadata": {
        "id": "tW80HmVJ0AJg"
      },
      "source": [
        "## Lets visualize the data when the algorithm gets intialized along with the Centroids"
      ]
    },
    {
      "cell_type": "code",
      "metadata": {
        "id": "Ov-_Ia0K0AJi",
        "colab": {
          "base_uri": "https://localhost:8080/",
          "height": 265
        },
        "outputId": "fa1bc815-64aa-4fa9-f96e-2b803b875bd0"
      },
      "source": [
        "# YOUR CODE HERE : Scatter plot 'f1' vs 'f2' and Centriods ('C')\n",
        "plt.scatter(f1,f2,c=\"green\")\n",
        "plt.scatter(x,y,c=\"red\")\n",
        "plt.show()"
      ],
      "execution_count": 44,
      "outputs": [
        {
          "output_type": "display_data",
          "data": {
            "text/plain": [
              "<Figure size 432x288 with 1 Axes>"
            ],
            "image/png": "[encoded data removed]"
          },
          "metadata": {
            "needs_background": "light"
          }
        }
      ]
    },
    {
      "cell_type": "markdown",
      "metadata": {
        "id": "du9I3yb_0AJo"
      },
      "source": [
        "## Apply  K-means algorithm \n",
        "\n",
        "Now lets learn from above together and see how exactly k-means algorithm works."
      ]
    },
    {
      "cell_type": "markdown",
      "metadata": {
        "id": "J8tjKi670AJV"
      },
      "source": [
        "Now lets write a function to calculate Euclidean Distance between two array of points 'a' and 'b' or centroid\n",
        "\n",
        "**Note:** Refer to the following link to understand how [linalg.norm](https://numpy.org/doc/stable/reference/generated/numpy.linalg.norm.html) works"
      ]
    },
    {
      "cell_type": "code",
      "metadata": {
        "id": "WFk7hINN0AJW"
      },
      "source": [
        "def dist(a, b, ax=1):\n",
        "    # YOUR CODE HERE : Calculate euclidean distance between a and b\n",
        "    # NOTE: The input 'a' can either be a point or an array of points (of same length as 'b'); 'b' is an array of points.\n",
        "    # HINT : You can use 'linalg.norm' function from numpy package\n",
        "    dist = np.linalg.norm(a - b,axis=ax)\n",
        "    return dist"
      ],
      "execution_count": 45,
      "outputs": []
    },
    {
      "cell_type": "code",
      "metadata": {
        "id": "aXY-Mbv90AJp",
        "colab": {
          "base_uri": "https://localhost:8080/",
          "height": 580
        },
        "outputId": "eb4c25ce-d8b7-46da-b486-db1f834b6787"
      },
      "source": [
        "# To store the value of centroids. Initialize with zero\n",
        "C_old = np.zeros(C.shape)\n",
        "\n",
        "# Initialize clusters of x[i] with zeros\n",
        "clusters = np.zeros(len(X))\n",
        "\n",
        "# Error func - Distance between new centroids and old centroids\n",
        "error = dist(C, C_old, None)\n",
        "\n",
        "# Loop will run till the error becomes zero\n",
        "fig = plt.figure(figsize=(5, 5))\n",
        "ax = fig.add_subplot(111)\n",
        "plt.ion()       # Plot keeps getting updated in loop, So turning on plot in interactive mode\n",
        "while error >= 0.1:\n",
        "    \n",
        "    colors = ['r', 'g', 'b', 'y', 'c', 'm']\n",
        "    \n",
        "    # Assigning each sample/data point to its closest cluster\n",
        "  \n",
        "    for i in range(len(X)):\n",
        "        distances = dist(X[i],C) # YOUR CODE HERE : calculate distance of 'X[i]' from each of the 3 centroid points contained within 'C'.\n",
        "                                 # HINT : Use 'dist' function defined above\n",
        "        cluster = np.argmin(distances) # YOUR CODE HERE : Out of all the distances calculated above, find the centroid with the least distance\n",
        "        clusters[i] = cluster    # The cluster center found above is now the new cluster assignment for the point X[i]\n",
        "\n",
        "    # Storing the old centroid values\n",
        "    C_old = deepcopy(C)   # we use deep copy here because we don't want the changes in array C to be reflecting in C_old (because assignment is by reference)\n",
        "    # Finding the new centroids by taking the average value\n",
        "    \n",
        "    for i in range(k):     # We iterate through each of the 3 clusters.\n",
        "        points = [X[j] for j in range(len(X)) if clusters[j] == i]  # We pull out all the points that were assigned to the new cluster above (in 'clusters' variable)\n",
        "        C[i] = np.mean(points,axis=0) # YOUR CODE HERE : Using the above generated 'points', recompute the new centroid, by taking the mean.\n",
        "        print(C[i])\n",
        "\n",
        "    # YOUR CODE HERE : Calculate the error between the new cluster centres('C') and the old cluster centres ('C_old').\n",
        "    # Hint : Use 'dist' function defined above\n",
        "    error = dist(C,C_old,None) \n",
        "   \n",
        "    ax.clear()\n",
        "    for i in range(k):\n",
        "        points = np.array([X[j] for j in range(len(X)) if clusters[j] == i])\n",
        "        plt.scatter(points[:, 0], points[:, 1], s=7, c=colors[i])\n",
        "        plt.scatter(C[:, 0], C[:, 1], marker='*', s=200, c='w')\n",
        "    print(f\"Error: {error}\\n\")"
      ],
      "execution_count": 46,
      "outputs": [
        {
          "output_type": "stream",
          "name": "stdout",
          "text": [
            "[64 -2]\n",
            "[ 9 15]\n",
            "[40 62]\n",
            "Error: 48.27007354458868\n",
            "\n",
            "[ 69 -10]\n",
            "[ 9 10]\n",
            "[40 59]\n",
            "Error: 11.090536506409418\n",
            "\n",
            "[ 69 -10]\n",
            "[ 9 10]\n",
            "[40 59]\n",
            "Error: 0.0\n",
            "\n"
          ]
        },
        {
          "output_type": "display_data",
          "data": {
            "text/plain": [
              "<Figure size 360x360 with 1 Axes>"
            ],
            "image/png": "[encoded data removed]"
          },
          "metadata": {
            "needs_background": "light"
          }
        }
      ]
    },
    {
      "cell_type": "markdown",
      "metadata": {
        "id": "ayjpMNI1QASV"
      },
      "source": [
        "## Apply K-means from sklearn\n",
        "**Note:** Refer to the following [link](https://scikit-learn.org/stable/modules/generated/sklearn.cluster.KMeans.html)"
      ]
    },
    {
      "cell_type": "code",
      "metadata": {
        "id": "Ipxq2jzWNf7C"
      },
      "source": [
        "from sklearn.cluster import KMeans\n",
        "\n",
        "# YOUR CODE HERE: To create an instance for 'KMeans' and select the number of clusters to generate\n",
        "kmeans = KMeans(n_clusters=3,random_state=42)\n",
        "\n",
        "# YOUR CODE HERE: To fit and predict the data using k-means\n",
        "y_pred = kmeans.fit_predict(X)"
      ],
      "execution_count": 51,
      "outputs": []
    },
    {
      "cell_type": "code",
      "metadata": {
        "id": "Ci7R4dw2OQdz",
        "colab": {
          "base_uri": "https://localhost:8080/"
        },
        "outputId": "b63d4eae-595f-4add-9522-3c88de8e586b"
      },
      "source": [
        "# YOUR CODE HERE: To print the cluster centroids\n",
        "kmeans.cluster_centers_"
      ],
      "execution_count": 52,
      "outputs": [
        {
          "output_type": "execute_result",
          "data": {
            "text/plain": [
              "array([[  9.4780459 ,  10.686052  ],\n",
              "       [ 69.92418447, -10.11964119],\n",
              "       [ 40.68362784,  59.71589274]])"
            ]
          },
          "metadata": {},
          "execution_count": 52
        }
      ]
    },
    {
      "cell_type": "markdown",
      "metadata": {
        "id": "XicQl_YivrNd"
      },
      "source": [
        "## Find the number of clusters using Elbow Method\n",
        "\n",
        "To determine the optimal number of clusters, we have to select the value of k at the “elbow” ie.., the point after which the distortion/inertia start decreasing in a linear fashion."
      ]
    },
    {
      "cell_type": "code",
      "metadata": {
        "id": "I3RXFvLxulCb",
        "colab": {
          "base_uri": "https://localhost:8080/",
          "height": 295
        },
        "outputId": "06a5a39f-f215-427d-9552-07f3bfe21afe"
      },
      "source": [
        "scores = []\n",
        "\n",
        "for i in range(1, 10):\n",
        "  kmeans = KMeans(n_clusters = i)\n",
        "  # YOUR CODE HERE: To fit the data using KMeans\n",
        "  kmeans.fit_predict(X)\n",
        "  scores.append(kmeans.inertia_)\n",
        "\n",
        "plt.plot(range(1, 10), scores, 'bx-')\n",
        "plt.title('Finding the number of clusters')\n",
        "plt.xlabel('Clusters')\n",
        "plt.ylabel('Scores')\n",
        "plt.show()"
      ],
      "execution_count": 53,
      "outputs": [
        {
          "output_type": "display_data",
          "data": {
            "text/plain": [
              "<Figure size 432x288 with 1 Axes>"
            ],
            "image/png": "[encoded data removed]"
          },
          "metadata": {
            "needs_background": "light"
          }
        }
      ]
    },
    {
      "cell_type": "markdown",
      "metadata": {
        "id": "qSLgfwMOcv-G"
      },
      "source": [
        "From the above Elbow Method we can choose the number of clusters as 3"
      ]
    },
    {
      "cell_type": "markdown",
      "metadata": {
        "id": "jx6Y0Roy19a0"
      },
      "source": [
        "# Please answer the questions below to complete the experiment:"
      ]
    },
    {
      "cell_type": "code",
      "metadata": {
        "id": "O_PHsk-5Vii4"
      },
      "source": [
        "#@title State True or False: In this experiment, after initializing the random centroids, the first step inolves, computing the mean?{ run: \"auto\", form-width: \"500px\", display-mode: \"form\" }\n",
        "Answer= \"FALSE\" #@param [\"\",\"TRUE\",\"FALSE\"]\n"
      ],
      "execution_count": 54,
      "outputs": []
    },
    {
      "cell_type": "code",
      "metadata": {
        "id": "NMzKSbLIgFzQ"
      },
      "source": [
        "#@title How was the experiment? { run: \"auto\", form-width: \"500px\", display-mode: \"form\" }\n",
        "Complexity = \"Good and Challenging for me\" #@param [\"\",\"Too Simple, I am wasting time\", \"Good, But Not Challenging for me\", \"Good and Challenging for me\", \"Was Tough, but I did it\", \"Too Difficult for me\"]\n"
      ],
      "execution_count": 55,
      "outputs": []
    },
    {
      "cell_type": "code",
      "metadata": {
        "id": "DjcH1VWSFI2l"
      },
      "source": [
        "#@title If it was too easy, what more would you have liked to be added? If it was very difficult, what would you have liked to have been removed? { run: \"auto\", display-mode: \"form\" }\n",
        "Additional = \"Everything is good\" #@param {type:\"string\"}\n"
      ],
      "execution_count": 56,
      "outputs": []
    },
    {
      "cell_type": "code",
      "metadata": {
        "id": "4VBk_4VTAxCM"
      },
      "source": [
        "#@title Can you identify the concepts from the lecture which this experiment covered? { run: \"auto\", vertical-output: true, display-mode: \"form\" }\n",
        "Concepts = \"Yes\" #@param [\"\",\"Yes\", \"No\"]\n"
      ],
      "execution_count": 57,
      "outputs": []
    },
    {
      "cell_type": "code",
      "metadata": {
        "id": "r35isHfTVGKc"
      },
      "source": [
        "#@title  Experiment walkthrough video? { run: \"auto\", vertical-output: true, display-mode: \"form\" }\n",
        "Walkthrough = \"Very Useful\" #@param [\"\",\"Very Useful\", \"Somewhat Useful\", \"Not Useful\", \"Didn't use\"]\n"
      ],
      "execution_count": 58,
      "outputs": []
    },
    {
      "cell_type": "code",
      "metadata": {
        "id": "XH91cL1JWH7m"
      },
      "source": [
        "#@title  Text and image description/explanation and code comments within the experiment: { run: \"auto\", vertical-output: true, display-mode: \"form\" }\n",
        "Comments = \"Very Useful\" #@param [\"\",\"Very Useful\", \"Somewhat Useful\", \"Not Useful\", \"Didn't use\"]\n"
      ],
      "execution_count": 59,
      "outputs": []
    },
    {
      "cell_type": "code",
      "metadata": {
        "id": "z8xLqj7VWIKW"
      },
      "source": [
        "#@title Mentor Support: { run: \"auto\", vertical-output: true, display-mode: \"form\" }\n",
        "Mentor_support = \"Very Useful\" #@param [\"\",\"Very Useful\", \"Somewhat Useful\", \"Not Useful\", \"Didn't use\"]\n"
      ],
      "execution_count": 60,
      "outputs": []
    },
    {
      "cell_type": "code",
      "metadata": {
        "id": "FzAZHt1zw-Y-",
        "cellView": "form",
        "colab": {
          "base_uri": "https://localhost:8080/"
        },
        "outputId": "1ccc2ff6-2298-436d-8b42-514cb4bb2ff8"
      },
      "source": [
        "#@title Run this cell to submit your notebook for grading { vertical-output: true }\n",
        "try:\n",
        "  if submission_id:\n",
        "      return_id = submit_notebook()\n",
        "      if return_id : submission_id = return_id\n",
        "  else:\n",
        "      print(\"Please complete the setup first.\")\n",
        "except NameError:\n",
        "  print (\"Please complete the setup first.\")"
      ],
      "execution_count": 61,
      "outputs": [
        {
          "output_type": "stream",
          "name": "stdout",
          "text": [
            "Your submission is successful.\n",
            "Ref Id: 1459\n",
            "Date of submission:  10 Jul 2022\n",
            "Time of submission:  17:21:09\n",
            "View your submissions: https://aiml.iiith.talentsprint.com/notebook_submissions\n"
          ]
        }
      ]
    }
  ]
}