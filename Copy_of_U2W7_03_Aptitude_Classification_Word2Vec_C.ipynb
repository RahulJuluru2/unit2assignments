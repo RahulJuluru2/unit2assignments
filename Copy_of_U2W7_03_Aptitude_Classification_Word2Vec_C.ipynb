{
  "nbformat": 4,
  "nbformat_minor": 0,
  "metadata": {
    "colab": {
      "name": "Copy of U2W7_03_Aptitude_Classification_Word2Vec_C.ipynb",
      "provenance": [],
      "collapsed_sections": [],
      "include_colab_link": true
    },
    "kernelspec": {
      "display_name": "Python 3",
      "language": "python",
      "name": "python3"
    }
  },
  "cells": [
    {
      "cell_type": "markdown",
      "metadata": {
        "id": "view-in-github",
        "colab_type": "text"
      },
      "source": [
        "<a href=\"https://colab.research.google.com/github/RahulJuluru2/unit2assignments/blob/main/Copy_of_U2W7_03_Aptitude_Classification_Word2Vec_C.ipynb\" target=\"_parent\"><img src=\"https://colab.research.google.com/assets/colab-badge.svg\" alt=\"Open In Colab\"/></a>"
      ]
    },
    {
      "cell_type": "markdown",
      "metadata": {
        "id": "UH62CWxTDTpf"
      },
      "source": [
        "# Advanced Certification in AIML\n",
        "## A Program by IIIT-H and TalentSprint"
      ]
    },
    {
      "cell_type": "markdown",
      "metadata": {
        "id": "qu26Vq9jDTpj"
      },
      "source": [
        "### Learning Objectives:\n",
        "\n",
        "At the end of the experiment, you will be able to:\n",
        "\n",
        "*  generate vectors using Word2Vec model"
      ]
    },
    {
      "cell_type": "code",
      "metadata": {
        "id": "AdDBMT1gCRgM",
        "cellView": "form"
      },
      "source": [
        "#@title Experiment Walkthrough Video\n",
        "from IPython.display import HTML\n",
        "\n",
        "HTML(\"\"\"<video width=\"520\" height=\"440\" controls>\n",
        "  <source src=\"https://cdn.iiith.talentsprint.com/aiml/Experiment_related_data/Walkthrough/Aptitude_classification.mp4\">\n",
        "</video>\n",
        "\"\"\")"
      ],
      "execution_count": null,
      "outputs": []
    },
    {
      "cell_type": "markdown",
      "metadata": {
        "id": "FL0Ve1abn6YJ"
      },
      "source": [
        "## Dataset\n",
        "\n",
        "Being able to classify the questions will be difficult in natural language processing. The dataset is taken from the TalentSprint aptitude questions.\n",
        "\n",
        "## Description\n",
        "This dataset has the following columns:\n",
        "1. **Category:** Gives the high-level categorization of the question\n",
        "2. **Sub-Category:** Determines the type of questions\n",
        "3. **Article:** Gives the article name of the question\n",
        "4. **Questions:** Questions are listed\n",
        "5. **Answers:** Contains answers\n",
        "\n",
        "\n",
        "\n",
        "The dataset, which is considered in the experiment is partially pre-processed using BeautifulSoup and removed punctuations, HTML tags.\n"
      ]
    },
    {
      "cell_type": "markdown",
      "metadata": {
        "id": "-ZYYZDRUDZQe"
      },
      "source": [
        "### Setup Steps"
      ]
    },
    {
      "cell_type": "code",
      "metadata": {
        "id": "2YzfoPvJDiTX"
      },
      "source": [
        "#@title Please enter your registration id to start: { run: \"auto\", display-mode: \"form\" }\n",
        "Id = \"2216842\" #@param {type:\"string\"}"
      ],
      "execution_count": 1,
      "outputs": []
    },
    {
      "cell_type": "code",
      "metadata": {
        "id": "rEzlYL4CDrmE"
      },
      "source": [
        "#@title Please enter your password (normally your phone number) to continue: { run: \"auto\", display-mode: \"form\" }\n",
        "password = \"9959488784\" #@param {type:\"string\"}"
      ],
      "execution_count": 2,
      "outputs": []
    },
    {
      "cell_type": "code",
      "metadata": {
        "id": "WBPPuGmBlDIN",
        "cellView": "form",
        "colab": {
          "base_uri": "https://localhost:8080/",
          "height": 35
        },
        "outputId": "295c9526-d6af-4296-a3ed-1e7751f577d9"
      },
      "source": [
        "#@title Run this cell to complete the setup for this Notebook\n",
        "from IPython import get_ipython\n",
        "\n",
        "ipython = get_ipython()\n",
        "  \n",
        "notebook= \"U2W7_03_Aptitude_Classification_Word2Vec_C\" #name of the notebook\n",
        "\n",
        "def setup():\n",
        "    ipython.magic(\"sx wget https://cdn.iiith.talentsprint.com/aiml/Experiment_related_data/Cleaned_Aptitude_Classification.csv\")\n",
        "    ipython.magic(\"sx wget https://cdn.talentsprint.com/talentsprint1/archives/sc/aiml/experiment_related_data/AIML_DS_GOOGLENEWS-VECTORS-NEGATIVE-300_STD.rar\")\n",
        "    ipython.magic(\"sx unrar e /content/AIML_DS_GOOGLENEWS-VECTORS-NEGATIVE-300_STD.rar\") \n",
        "    from IPython.display import HTML, display\n",
        "    display(HTML('<script src=\"https://dashboard.talentsprint.com/aiml/record_ip.html?traineeId={0}&recordId={1}\"></script>'.format(getId(),submission_id)))\n",
        "    print(\"Setup completed successfully\")\n",
        "    return\n",
        "\n",
        "def submit_notebook():\n",
        "    ipython.magic(\"notebook -e \"+ notebook + \".ipynb\")\n",
        "    \n",
        "    import requests, json, base64, datetime\n",
        "\n",
        "    url = \"https://dashboard.talentsprint.com/xp/app/save_notebook_attempts\"\n",
        "    if not submission_id:\n",
        "      data = {\"id\" : getId(), \"notebook\" : notebook, \"mobile\" : getPassword()}\n",
        "      r = requests.post(url, data = data)\n",
        "      r = json.loads(r.text)\n",
        "\n",
        "      if r[\"status\"] == \"Success\":\n",
        "          return r[\"record_id\"]\n",
        "      elif \"err\" in r:        \n",
        "        print(r[\"err\"])\n",
        "        return None        \n",
        "      else:\n",
        "        print (\"Something is wrong, the notebook will not be submitted for grading\")\n",
        "        return None\n",
        "    \n",
        "    elif getAnswer() and getComplexity() and getAdditional() and getConcepts() and getWalkthrough() and getComments() and getMentorSupport():\n",
        "      f = open(notebook + \".ipynb\", \"rb\")\n",
        "      file_hash = base64.b64encode(f.read())\n",
        "\n",
        "      data = {\"complexity\" : Complexity, \"additional\" :Additional, \n",
        "              \"concepts\" : Concepts, \"record_id\" : submission_id, \n",
        "              \"answer\" : Answer, \"id\" : Id, \"file_hash\" : file_hash,\n",
        "              \"notebook\" : notebook, \"feedback_walkthrough\":Walkthrough ,\n",
        "              \"feedback_experiments_input\" : Comments,\n",
        "              \"feedback_mentor_support\": Mentor_support}\n",
        "\n",
        "      r = requests.post(url, data = data)\n",
        "      r = json.loads(r.text)\n",
        "      if \"err\" in r:        \n",
        "        print(r[\"err\"])\n",
        "        return None   \n",
        "      else:\n",
        "        print(\"Your submission is successful.\")\n",
        "        print(\"Ref Id:\", submission_id)\n",
        "        print(\"Date of submission: \", r[\"date\"])\n",
        "        print(\"Time of submission: \", r[\"time\"])\n",
        "        print(\"View your submissions: https://aiml.iiith.talentsprint.com/notebook_submissions\")\n",
        "        #print(\"For any queries/discrepancies, please connect with mentors through the chat icon in LMS dashboard.\")\n",
        "        return submission_id\n",
        "    else: submission_id\n",
        "    \n",
        "\n",
        "def getAdditional():\n",
        "  try:\n",
        "    if not Additional: \n",
        "      raise NameError\n",
        "    else:\n",
        "      return Additional  \n",
        "  except NameError:\n",
        "    print (\"Please answer Additional Question\")\n",
        "    return None\n",
        "\n",
        "def getComplexity():\n",
        "  try:\n",
        "    if not Complexity:\n",
        "      raise NameError\n",
        "    else:\n",
        "      return Complexity\n",
        "  except NameError:\n",
        "    print (\"Please answer Complexity Question\")\n",
        "    return None\n",
        "  \n",
        "def getConcepts():\n",
        "  try:\n",
        "    if not Concepts:\n",
        "      raise NameError\n",
        "    else:\n",
        "      return Concepts\n",
        "  except NameError:\n",
        "    print (\"Please answer Concepts Question\")\n",
        "    return None\n",
        "  \n",
        "  \n",
        "def getWalkthrough():\n",
        "  try:\n",
        "    if not Walkthrough:\n",
        "      raise NameError\n",
        "    else:\n",
        "      return Walkthrough\n",
        "  except NameError:\n",
        "    print (\"Please answer Walkthrough Question\")\n",
        "    return None\n",
        "  \n",
        "def getComments():\n",
        "  try:\n",
        "    if not Comments:\n",
        "      raise NameError\n",
        "    else:\n",
        "      return Comments\n",
        "  except NameError:\n",
        "    print (\"Please answer Comments Question\")\n",
        "    return None\n",
        "  \n",
        "\n",
        "def getMentorSupport():\n",
        "  try:\n",
        "    if not Mentor_support:\n",
        "      raise NameError\n",
        "    else:\n",
        "      return Mentor_support\n",
        "  except NameError:\n",
        "    print (\"Please answer Mentor support Question\")\n",
        "    return None\n",
        "\n",
        "def getAnswer():\n",
        "  try:\n",
        "    if not Answer:\n",
        "      raise NameError \n",
        "    else: \n",
        "      return Answer\n",
        "  except NameError:\n",
        "    print (\"Please answer Question\")\n",
        "    return None\n",
        "  \n",
        "\n",
        "def getId():\n",
        "  try: \n",
        "    return Id if Id else None\n",
        "  except NameError:\n",
        "    return None\n",
        "\n",
        "def getPassword():\n",
        "  try:\n",
        "    return password if password else None\n",
        "  except NameError:\n",
        "    return None\n",
        "\n",
        "submission_id = None\n",
        "### Setup \n",
        "if getPassword() and getId():\n",
        "  submission_id = submit_notebook()\n",
        "  if submission_id:\n",
        "    setup() \n",
        "else:\n",
        "  print (\"Please complete Id and Password cells before running setup\")\n",
        "\n"
      ],
      "execution_count": 3,
      "outputs": [
        {
          "output_type": "display_data",
          "data": {
            "text/plain": [
              "<IPython.core.display.HTML object>"
            ],
            "text/html": [
              "<script src=\"https://dashboard.talentsprint.com/aiml/record_ip.html?traineeId=2216842&recordId=1096\"></script>"
            ]
          },
          "metadata": {}
        },
        {
          "output_type": "stream",
          "name": "stdout",
          "text": [
            "Setup completed successfully\n"
          ]
        }
      ]
    },
    {
      "cell_type": "markdown",
      "metadata": {
        "id": "pP9bMLVgLRTp"
      },
      "source": [
        "### Importing required packages\n",
        "\n",
        "\n",
        "\n"
      ]
    },
    {
      "cell_type": "code",
      "metadata": {
        "id": "1uTIg1Jtaj_w",
        "colab": {
          "base_uri": "https://localhost:8080/"
        },
        "outputId": "4b0655f1-7e79-4f2c-8d03-7db26ce03214"
      },
      "source": [
        "import nltk\n",
        "import gensim\n",
        "import pandas as pd\n",
        "from nltk.stem import WordNetLemmatizer \n",
        "from nltk import word_tokenize\n",
        "from nltk.corpus import stopwords\n",
        "nltk.download('punkt')\n",
        "nltk.download(\"stopwords\")\n",
        "nltk.download('wordnet')\n",
        "nltk.download('omw-1.4')"
      ],
      "execution_count": 9,
      "outputs": [
        {
          "output_type": "stream",
          "name": "stderr",
          "text": [
            "[nltk_data] Downloading package punkt to /root/nltk_data...\n",
            "[nltk_data]   Package punkt is already up-to-date!\n",
            "[nltk_data] Downloading package stopwords to /root/nltk_data...\n",
            "[nltk_data]   Package stopwords is already up-to-date!\n",
            "[nltk_data] Downloading package wordnet to /root/nltk_data...\n",
            "[nltk_data]   Package wordnet is already up-to-date!\n",
            "[nltk_data] Downloading package omw-1.4 to /root/nltk_data...\n",
            "[nltk_data]   Package omw-1.4 is already up-to-date!\n"
          ]
        },
        {
          "output_type": "execute_result",
          "data": {
            "text/plain": [
              "True"
            ]
          },
          "metadata": {},
          "execution_count": 9
        }
      ]
    },
    {
      "cell_type": "markdown",
      "metadata": {
        "id": "KeTxW7Uf8xYn"
      },
      "source": [
        "### Data loading and preparation\n",
        "\n",
        "Load the aptitude classification dataset containing all the aptitude questions of various sub-categories\n"
      ]
    },
    {
      "cell_type": "code",
      "metadata": {
        "id": "LbrgXcFcBtgW",
        "colab": {
          "base_uri": "https://localhost:8080/"
        },
        "outputId": "9f028b45-5497-45e0-851d-4207f22b2037"
      },
      "source": [
        "data = pd.read_csv(\"/content/Cleaned_Aptitude_Classification.csv\")\n",
        "data.shape"
      ],
      "execution_count": 10,
      "outputs": [
        {
          "output_type": "execute_result",
          "data": {
            "text/plain": [
              "(4586, 5)"
            ]
          },
          "metadata": {},
          "execution_count": 10
        }
      ]
    },
    {
      "cell_type": "code",
      "metadata": {
        "id": "4sEP70HSTRlw",
        "colab": {
          "base_uri": "https://localhost:8080/",
          "height": 206
        },
        "outputId": "e11b9cf5-fcf0-4ec0-f10c-42d477122060"
      },
      "source": [
        "data.head()"
      ],
      "execution_count": 11,
      "outputs": [
        {
          "output_type": "execute_result",
          "data": {
            "text/plain": [
              "       Category                   Sub-Category                       Article  \\\n",
              "0        Verbal                 Misspell words                     chapter 1   \n",
              "1  Quantitative              Time and Distance  Time and Distance - Model 05   \n",
              "2        Verbal                 Finding Errors                         44054   \n",
              "3  Quantitative                  Time and Work      tech mahindra_5th August   \n",
              "4  Quantitative  Permutations and Combinations                    AX10DEPT01   \n",
              "\n",
              "                                           Questions  Answers  \n",
              "0                  which of the following is correct        2  \n",
              "1  rohan leaves point a and reaches point b in 6 ...        2  \n",
              "2  read the sentence to find out whether there is...        2  \n",
              "3  4 men can check exam papers in 8 days working ...        2  \n",
              "4  from 13 persons how many ways of selection of ...        2  "
            ],
            "text/html": [
              "\n",
              "  <div id=\"df-1cf9fc2f-6754-4655-9317-641f5c1c6ee1\">\n",
              "    <div class=\"colab-df-container\">\n",
              "      <div>\n",
              "<style scoped>\n",
              "    .dataframe tbody tr th:only-of-type {\n",
              "        vertical-align: middle;\n",
              "    }\n",
              "\n",
              "    .dataframe tbody tr th {\n",
              "        vertical-align: top;\n",
              "    }\n",
              "\n",
              "    .dataframe thead th {\n",
              "        text-align: right;\n",
              "    }\n",
              "</style>\n",
              "<table border=\"1\" class=\"dataframe\">\n",
              "  <thead>\n",
              "    <tr style=\"text-align: right;\">\n",
              "      <th></th>\n",
              "      <th>Category</th>\n",
              "      <th>Sub-Category</th>\n",
              "      <th>Article</th>\n",
              "      <th>Questions</th>\n",
              "      <th>Answers</th>\n",
              "    </tr>\n",
              "  </thead>\n",
              "  <tbody>\n",
              "    <tr>\n",
              "      <th>0</th>\n",
              "      <td>Verbal</td>\n",
              "      <td>Misspell words</td>\n",
              "      <td>chapter 1</td>\n",
              "      <td>which of the following is correct</td>\n",
              "      <td>2</td>\n",
              "    </tr>\n",
              "    <tr>\n",
              "      <th>1</th>\n",
              "      <td>Quantitative</td>\n",
              "      <td>Time and Distance</td>\n",
              "      <td>Time and Distance - Model 05</td>\n",
              "      <td>rohan leaves point a and reaches point b in 6 ...</td>\n",
              "      <td>2</td>\n",
              "    </tr>\n",
              "    <tr>\n",
              "      <th>2</th>\n",
              "      <td>Verbal</td>\n",
              "      <td>Finding Errors</td>\n",
              "      <td>44054</td>\n",
              "      <td>read the sentence to find out whether there is...</td>\n",
              "      <td>2</td>\n",
              "    </tr>\n",
              "    <tr>\n",
              "      <th>3</th>\n",
              "      <td>Quantitative</td>\n",
              "      <td>Time and Work</td>\n",
              "      <td>tech mahindra_5th August</td>\n",
              "      <td>4 men can check exam papers in 8 days working ...</td>\n",
              "      <td>2</td>\n",
              "    </tr>\n",
              "    <tr>\n",
              "      <th>4</th>\n",
              "      <td>Quantitative</td>\n",
              "      <td>Permutations and Combinations</td>\n",
              "      <td>AX10DEPT01</td>\n",
              "      <td>from 13 persons how many ways of selection of ...</td>\n",
              "      <td>2</td>\n",
              "    </tr>\n",
              "  </tbody>\n",
              "</table>\n",
              "</div>\n",
              "      <button class=\"colab-df-convert\" onclick=\"convertToInteractive('df-1cf9fc2f-6754-4655-9317-641f5c1c6ee1')\"\n",
              "              title=\"Convert this dataframe to an interactive table.\"\n",
              "              style=\"display:none;\">\n",
              "        \n",
              "  <svg xmlns=\"http://www.w3.org/2000/svg\" height=\"24px\"viewBox=\"0 0 24 24\"\n",
              "       width=\"24px\">\n",
              "    <path d=\"M0 0h24v24H0V0z\" fill=\"none\"/>\n",
              "    <path d=\"M18.56 5.44l.94 2.06.94-2.06 2.06-.94-2.06-.94-.94-2.06-.94 2.06-2.06.94zm-11 1L8.5 8.5l.94-2.06 2.06-.94-2.06-.94L8.5 2.5l-.94 2.06-2.06.94zm10 10l.94 2.06.94-2.06 2.06-.94-2.06-.94-.94-2.06-.94 2.06-2.06.94z\"/><path d=\"M17.41 7.96l-1.37-1.37c-.4-.4-.92-.59-1.43-.59-.52 0-1.04.2-1.43.59L10.3 9.45l-7.72 7.72c-.78.78-.78 2.05 0 2.83L4 21.41c.39.39.9.59 1.41.59.51 0 1.02-.2 1.41-.59l7.78-7.78 2.81-2.81c.8-.78.8-2.07 0-2.86zM5.41 20L4 18.59l7.72-7.72 1.47 1.35L5.41 20z\"/>\n",
              "  </svg>\n",
              "      </button>\n",
              "      \n",
              "  <style>\n",
              "    .colab-df-container {\n",
              "      display:flex;\n",
              "      flex-wrap:wrap;\n",
              "      gap: 12px;\n",
              "    }\n",
              "\n",
              "    .colab-df-convert {\n",
              "      background-color: #E8F0FE;\n",
              "      border: none;\n",
              "      border-radius: 50%;\n",
              "      cursor: pointer;\n",
              "      display: none;\n",
              "      fill: #1967D2;\n",
              "      height: 32px;\n",
              "      padding: 0 0 0 0;\n",
              "      width: 32px;\n",
              "    }\n",
              "\n",
              "    .colab-df-convert:hover {\n",
              "      background-color: #E2EBFA;\n",
              "      box-shadow: 0px 1px 2px rgba(60, 64, 67, 0.3), 0px 1px 3px 1px rgba(60, 64, 67, 0.15);\n",
              "      fill: #174EA6;\n",
              "    }\n",
              "\n",
              "    [theme=dark] .colab-df-convert {\n",
              "      background-color: #3B4455;\n",
              "      fill: #D2E3FC;\n",
              "    }\n",
              "\n",
              "    [theme=dark] .colab-df-convert:hover {\n",
              "      background-color: #434B5C;\n",
              "      box-shadow: 0px 1px 3px 1px rgba(0, 0, 0, 0.15);\n",
              "      filter: drop-shadow(0px 1px 2px rgba(0, 0, 0, 0.3));\n",
              "      fill: #FFFFFF;\n",
              "    }\n",
              "  </style>\n",
              "\n",
              "      <script>\n",
              "        const buttonEl =\n",
              "          document.querySelector('#df-1cf9fc2f-6754-4655-9317-641f5c1c6ee1 button.colab-df-convert');\n",
              "        buttonEl.style.display =\n",
              "          google.colab.kernel.accessAllowed ? 'block' : 'none';\n",
              "\n",
              "        async function convertToInteractive(key) {\n",
              "          const element = document.querySelector('#df-1cf9fc2f-6754-4655-9317-641f5c1c6ee1');\n",
              "          const dataTable =\n",
              "            await google.colab.kernel.invokeFunction('convertToInteractive',\n",
              "                                                     [key], {});\n",
              "          if (!dataTable) return;\n",
              "\n",
              "          const docLinkHtml = 'Like what you see? Visit the ' +\n",
              "            '<a target=\"_blank\" href=https://colab.research.google.com/notebooks/data_table.ipynb>data table notebook</a>'\n",
              "            + ' to learn more about interactive tables.';\n",
              "          element.innerHTML = '';\n",
              "          dataTable['output_type'] = 'display_data';\n",
              "          await google.colab.output.renderOutput(dataTable, element);\n",
              "          const docLink = document.createElement('div');\n",
              "          docLink.innerHTML = docLinkHtml;\n",
              "          element.appendChild(docLink);\n",
              "        }\n",
              "      </script>\n",
              "    </div>\n",
              "  </div>\n",
              "  "
            ]
          },
          "metadata": {},
          "execution_count": 11
        }
      ]
    },
    {
      "cell_type": "code",
      "source": [
        "data['Sub-Category'].value_counts()"
      ],
      "metadata": {
        "colab": {
          "base_uri": "https://localhost:8080/"
        },
        "id": "agcp8XDC43xy",
        "outputId": "31a5126e-a0da-47b3-900b-d011d6416da2"
      },
      "execution_count": 12,
      "outputs": [
        {
          "output_type": "execute_result",
          "data": {
            "text/plain": [
              "Misspell words                   701\n",
              "Finding Errors                   524\n",
              "Time and Distance                447\n",
              "Synonyms and Antonyms            427\n",
              "Time and Work                    367\n",
              "Profit and Loss                  318\n",
              "Simple and Compound Interest     295\n",
              "Permutations and Combinations    294\n",
              "Algebra                          262\n",
              "Ratio and Proportion             259\n",
              "Percentages                      252\n",
              "Probability                      231\n",
              "LCM and HCF                       98\n",
              "Logarithms                        76\n",
              "Mathematical operations           35\n",
              "Name: Sub-Category, dtype: int64"
            ]
          },
          "metadata": {},
          "execution_count": 12
        }
      ]
    },
    {
      "cell_type": "markdown",
      "metadata": {
        "id": "I0T5jFli81J0"
      },
      "source": [
        "Out of 15 sub-categories from the loaded data, choosing two sub-categories (Misspell words, Finding Errors) for this experiment"
      ]
    },
    {
      "cell_type": "code",
      "metadata": {
        "id": "zglkFtj-LAIf"
      },
      "source": [
        "# Extracting two sub-categories questions \n",
        "category1_Que = data[data['Sub-Category']== 'Misspell words']['Questions'].values\n",
        "category2_Que = data[data['Sub-Category']== 'Finding Errors']['Questions'].values"
      ],
      "execution_count": 13,
      "outputs": []
    },
    {
      "cell_type": "code",
      "metadata": {
        "id": "dGxvheKY-lmv",
        "colab": {
          "base_uri": "https://localhost:8080/",
          "height": 36
        },
        "outputId": "f94890f2-8723-4e75-9cb7-c475e42aa0c8"
      },
      "source": [
        "# Printing the sample question from the first chosen Sub-Category\n",
        "category1_Que[0]"
      ],
      "execution_count": 14,
      "outputs": [
        {
          "output_type": "execute_result",
          "data": {
            "text/plain": [
              "'which of the following is correct'"
            ],
            "application/vnd.google.colaboratory.intrinsic+json": {
              "type": "string"
            }
          },
          "metadata": {},
          "execution_count": 14
        }
      ]
    },
    {
      "cell_type": "markdown",
      "metadata": {
        "id": "T7WYeZTQLlu6"
      },
      "source": [
        "### Pre-processing and tokenization\n",
        "\n",
        "Pre-processing the text and applying tokenization to get vocabulary words of both chosen sub-categories"
      ]
    },
    {
      "cell_type": "code",
      "metadata": {
        "id": "fopV3S-OuImU"
      },
      "source": [
        "# Intializing nltk requirements for pre-processing\n",
        "lemmatizer = WordNetLemmatizer()\n",
        "stoplist = set(stopwords.words('english')) "
      ],
      "execution_count": 15,
      "outputs": []
    },
    {
      "cell_type": "code",
      "metadata": {
        "id": "oWzYzn50uoLr"
      },
      "source": [
        "# Tokenize the sentence and get vocab words\n",
        "def Tokenize(AllQuestions):\n",
        "  pre_processed_words = []\n",
        "  for each in AllQuestions:\n",
        "    words = word_tokenize(each)\n",
        "    words = [lemmatizer.lemmatize(w) for w in words]\n",
        "    pre_processed_words.extend(words)\n",
        "\n",
        "  pre_processed_words = set(pre_processed_words)\n",
        "\n",
        "  pre_processed_words = [word for word in pre_processed_words if word not in stoplist]\n",
        "  return pre_processed_words"
      ],
      "execution_count": 16,
      "outputs": []
    },
    {
      "cell_type": "code",
      "metadata": {
        "id": "h6yQqOLuvHbj",
        "colab": {
          "base_uri": "https://localhost:8080/"
        },
        "outputId": "f5bd2d4a-4f17-4d8b-9550-41b59bc04e88"
      },
      "source": [
        "# Calling the above Tokenize function to get vocab words of both sub-categories\n",
        "category1_words = Tokenize(category1_Que)\n",
        "category2_words = Tokenize(category2_Que)\n",
        "\n",
        "# Combining the words of two sub-categories\n",
        "all_words = category1_words + category2_words\n",
        "print(\"Number of valid words after pre-processing:\", len(all_words))"
      ],
      "execution_count": 17,
      "outputs": [
        {
          "output_type": "stream",
          "name": "stdout",
          "text": [
            "Number of valid words after pre-processing: 2163\n"
          ]
        }
      ]
    },
    {
      "cell_type": "markdown",
      "metadata": {
        "id": "QTNmN01RHUf-"
      },
      "source": [
        "### Load the word2vec model"
      ]
    },
    {
      "cell_type": "markdown",
      "metadata": {
        "id": "csm5a0hrDTqI"
      },
      "source": [
        "Load Gensim pretrained model\n",
        "\n",
        "  * Gensim is an open source Python library for natural language processing. It is developed and is maintained by the Czech natural language processing researcher Radim Rehurek and his company RaRe Technologies. \n",
        "\n",
        "  * Use gensim to load a word2vec model, pretrained on google news, covering approximately 3 million words and phrases. The vector length is 300 features.\n",
        "\n",
        "  * Download the google news bin file with the limit 500000 words and save in a binary word2vec format. If **binary = True**, then the data will be saved in binary word2vec format, else it will be saved in plain text.\n"
      ]
    },
    {
      "cell_type": "code",
      "metadata": {
        "id": "2mfXzP6WCXOB"
      },
      "source": [
        "# Load 300 vectors directly from the file. As the model is in .bin extension, we need to enable default parameter, binary = True\n",
        "model = gensim.models.KeyedVectors.load_word2vec_format('AIML_DS_GOOGLENEWS-VECTORS-NEGATIVE-300_STD.bin', binary=True, limit=500000)"
      ],
      "execution_count": 18,
      "outputs": []
    },
    {
      "cell_type": "code",
      "metadata": {
        "id": "ksKrewQRDLKe",
        "colab": {
          "base_uri": "https://localhost:8080/"
        },
        "outputId": "74bbfb09-ef9a-4899-b828-5ce2afe26d4c"
      },
      "source": [
        "# Pre-trained model gives representation of 300 size vector\n",
        "print(\"Dimension of the word 'tree': \", len(model['tree']))"
      ],
      "execution_count": 19,
      "outputs": [
        {
          "output_type": "stream",
          "name": "stdout",
          "text": [
            "Dimension of the word 'tree':  300\n"
          ]
        }
      ]
    },
    {
      "cell_type": "markdown",
      "metadata": {
        "id": "W3Y6UlpLKAeT"
      },
      "source": [
        "### Generate vectors for each word\n",
        "\n",
        "Words that appear in both the sub-categories will have the same representation but different label, which may lead to less accuracy in classification, Ignoring the words that are intersecting both the chosen sub-categories"
      ]
    },
    {
      "cell_type": "code",
      "metadata": {
        "id": "fxCopZzgEuwW",
        "colab": {
          "base_uri": "https://localhost:8080/"
        },
        "outputId": "76361fe6-2879-43a0-8495-9e0f4533a460"
      },
      "source": [
        "# Get vector representation using model for the all the extraced words of two sub-categories\n",
        "vectors, labels = [], []\n",
        "for word in all_words:\n",
        "  try:\n",
        "    # Ignoring the words that appear in both sub-categories\n",
        "    if ~(word in category1_words and word in category2_words):\n",
        "      vectors.append(model[word])\n",
        "      if word in category1_words:\n",
        "        labels.append(0)\n",
        "      else:\n",
        "        labels.append(1)\n",
        "  except:\n",
        "    pass\n",
        "print(\"Number of words:\", len(labels))\n",
        "print(\"Number of dimensions in each vector:\", len(vectors[0]))"
      ],
      "execution_count": 20,
      "outputs": [
        {
          "output_type": "stream",
          "name": "stdout",
          "text": [
            "Number of words: 1743\n",
            "Number of dimensions in each vector: 300\n"
          ]
        }
      ]
    },
    {
      "cell_type": "markdown",
      "metadata": {
        "id": "Lwye2kelJLy2"
      },
      "source": [
        "### Split the Data into train and test"
      ]
    },
    {
      "cell_type": "code",
      "metadata": {
        "id": "FjlN6HSMQkqm"
      },
      "source": [
        "from sklearn.model_selection import train_test_split\n",
        "X_train, X_test, y_train, y_test = train_test_split(vectors, labels, test_size=0.2, random_state=42)"
      ],
      "execution_count": 21,
      "outputs": []
    },
    {
      "cell_type": "markdown",
      "metadata": {
        "id": "PSGk6xiGJPMt"
      },
      "source": [
        "### Fit the model and calculate the accuracy"
      ]
    },
    {
      "cell_type": "code",
      "metadata": {
        "id": "Ig9_o2V1FcOC",
        "colab": {
          "base_uri": "https://localhost:8080/"
        },
        "outputId": "f291a239-783d-44a1-bc5c-676a7159f6e5"
      },
      "source": [
        "from sklearn.tree import DecisionTreeClassifier\n",
        "\n",
        "clf = DecisionTreeClassifier()\n",
        "clf.fit(X_train, y_train)\n",
        "\n",
        "print(\"Accuracy of the model:\",clf.score(X_test, y_test))"
      ],
      "execution_count": 22,
      "outputs": [
        {
          "output_type": "stream",
          "name": "stdout",
          "text": [
            "Accuracy of the model: 0.9856733524355301\n"
          ]
        }
      ]
    },
    {
      "cell_type": "markdown",
      "metadata": {
        "id": "Jfj1RGVTIEPM"
      },
      "source": [
        "### Ungraded Exercise: \n",
        "\n",
        "Take any other two sub-categories and get vector representation using word2vec"
      ]
    },
    {
      "cell_type": "code",
      "metadata": {
        "id": "_z5_5cRKIBWd",
        "colab": {
          "base_uri": "https://localhost:8080/"
        },
        "outputId": "41facf91-2440-4a22-8901-425ad76d752d"
      },
      "source": [
        "# YOUR CODE HERE\n",
        "category3_Que = data[data['Sub-Category']== 'Time and Distance']['Questions'].values\n",
        "category4_Que = data[data['Sub-Category']== 'Synonyms and Antonyms']['Questions'].values\n",
        "category3_words = Tokenize(category3_Que)\n",
        "category4_words = Tokenize(category4_Que)\n",
        "\n",
        "# Combining the words of two sub-categories\n",
        "new_words_set = category3_words + category4_words\n",
        "print(\"Number of valid words after pre-processing:\", len(all_words))\n",
        "\n",
        "# Get Vector representation\n",
        "vectors_new, labels_new = [], []\n",
        "for word in all_words:\n",
        "  try:\n",
        "    # Ignoring the words that appear in both sub-categories\n",
        "    if ~(word in category3_words and word in category4_words):\n",
        "      vectors_new.append(model[word])\n",
        "      if word in category3_words:\n",
        "        labels_new.append(0)\n",
        "      else:\n",
        "        labels_new.append(1)\n",
        "  except:\n",
        "    pass\n",
        "print(\"Number of words:\", len(labels_new))\n",
        "print(\"Number of dimensions in each vector:\", len(vectors_new[0]))"
      ],
      "execution_count": 23,
      "outputs": [
        {
          "output_type": "stream",
          "name": "stdout",
          "text": [
            "Number of valid words after pre-processing: 2163\n",
            "Number of words: 1743\n",
            "Number of dimensions in each vector: 300\n"
          ]
        }
      ]
    },
    {
      "cell_type": "markdown",
      "metadata": {
        "id": "tC2rt1ZxrgC7"
      },
      "source": [
        "### Please answer the questions below to complete the experiment:"
      ]
    },
    {
      "cell_type": "code",
      "metadata": {
        "id": "peyXAsWy3HpG",
        "cellView": "form"
      },
      "source": [
        "#@title State True or False: Word embeddings capture multiple dimensions of data and are represented as vectors.\n",
        "Answer = \"True\" #@param [\"\",\"True\",\"False\"]\n"
      ],
      "execution_count": 24,
      "outputs": []
    },
    {
      "cell_type": "code",
      "metadata": {
        "id": "NMzKSbLIgFzQ"
      },
      "source": [
        "#@title How was the experiment? { run: \"auto\", form-width: \"500px\", display-mode: \"form\" }\n",
        "Complexity = \"Good and Challenging for me\" #@param [\"\",\"Too Simple, I am wasting time\", \"Good, But Not Challenging for me\", \"Good and Challenging for me\", \"Was Tough, but I did it\", \"Too Difficult for me\"]\n"
      ],
      "execution_count": 25,
      "outputs": []
    },
    {
      "cell_type": "code",
      "metadata": {
        "id": "DjcH1VWSFI2l"
      },
      "source": [
        "#@title If it was too easy, what more would you have liked to be added? If it was very difficult, what would you have liked to have been removed? { run: \"auto\", display-mode: \"form\" }\n",
        "Additional = \"Everything is good\" #@param {type:\"string\"}\n"
      ],
      "execution_count": 26,
      "outputs": []
    },
    {
      "cell_type": "code",
      "metadata": {
        "id": "4VBk_4VTAxCM"
      },
      "source": [
        "#@title Can you identify the concepts from the lecture which this experiment covered? { run: \"auto\", vertical-output: true, display-mode: \"form\" }\n",
        "Concepts = \"Yes\" #@param [\"\",\"Yes\", \"No\"]\n"
      ],
      "execution_count": 27,
      "outputs": []
    },
    {
      "cell_type": "code",
      "metadata": {
        "id": "r35isHfTVGKc"
      },
      "source": [
        "#@title  Experiment walkthrough video? { run: \"auto\", vertical-output: true, display-mode: \"form\" }\n",
        "Walkthrough = \"Very Useful\" #@param [\"\",\"Very Useful\", \"Somewhat Useful\", \"Not Useful\", \"Didn't use\"]\n"
      ],
      "execution_count": 28,
      "outputs": []
    },
    {
      "cell_type": "code",
      "metadata": {
        "id": "XH91cL1JWH7m"
      },
      "source": [
        "#@title  Text and image description/explanation and code comments within the experiment: { run: \"auto\", vertical-output: true, display-mode: \"form\" }\n",
        "Comments = \"Very Useful\" #@param [\"\",\"Very Useful\", \"Somewhat Useful\", \"Not Useful\", \"Didn't use\"]\n"
      ],
      "execution_count": 29,
      "outputs": []
    },
    {
      "cell_type": "code",
      "metadata": {
        "id": "z8xLqj7VWIKW"
      },
      "source": [
        "#@title Mentor Support: { run: \"auto\", vertical-output: true, display-mode: \"form\" }\n",
        "Mentor_support = \"Very Useful\" #@param [\"\",\"Very Useful\", \"Somewhat Useful\", \"Not Useful\", \"Didn't use\"]\n"
      ],
      "execution_count": 30,
      "outputs": []
    },
    {
      "cell_type": "code",
      "metadata": {
        "id": "FzAZHt1zw-Y-",
        "cellView": "form",
        "colab": {
          "base_uri": "https://localhost:8080/"
        },
        "outputId": "22d4cc10-9ca3-4916-ee8c-163b86e1837d"
      },
      "source": [
        "#@title Run this cell to submit your notebook for grading { vertical-output: true }\n",
        "try:\n",
        "  if submission_id:\n",
        "      return_id = submit_notebook()\n",
        "      if return_id : submission_id = return_id\n",
        "  else:\n",
        "      print(\"Please complete the setup first.\")\n",
        "except NameError:\n",
        "  print (\"Please complete the setup first.\")"
      ],
      "execution_count": 31,
      "outputs": [
        {
          "output_type": "stream",
          "name": "stdout",
          "text": [
            "Your submission is successful.\n",
            "Ref Id: 1096\n",
            "Date of submission:  26 Jun 2022\n",
            "Time of submission:  17:36:26\n",
            "View your submissions: https://aiml.iiith.talentsprint.com/notebook_submissions\n"
          ]
        }
      ]
    }
  ]
}