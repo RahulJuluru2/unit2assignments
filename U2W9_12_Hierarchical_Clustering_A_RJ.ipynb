{
  "nbformat": 4,
  "nbformat_minor": 0,
  "metadata": {
    "colab": {
      "name": "U2W9_12_Hierarchical_Clustering_A_RJ.ipynb",
      "private_outputs": true,
      "provenance": [],
      "collapsed_sections": [],
      "include_colab_link": true
    },
    "kernelspec": {
      "name": "python3",
      "display_name": "Python 3"
    },
    "language_info": {
      "name": "python"
    }
  },
  "cells": [
    {
      "cell_type": "markdown",
      "metadata": {
        "id": "view-in-github",
        "colab_type": "text"
      },
      "source": [
        "<a href=\"https://colab.research.google.com/github/RahulJuluru2/unit2assignments/blob/main/U2W9_12_Hierarchical_Clustering_A_RJ.ipynb\" target=\"_parent\"><img src=\"https://colab.research.google.com/assets/colab-badge.svg\" alt=\"Open In Colab\"/></a>"
      ]
    },
    {
      "cell_type": "markdown",
      "metadata": {
        "id": "ys_OuKdn_ij5"
      },
      "source": [
        "# Advanced Certification in AIML\n",
        "## A Program by IIIT-H and TalentSprint"
      ]
    },
    {
      "cell_type": "markdown",
      "metadata": {
        "id": "K9jTxMq3ZZD5"
      },
      "source": [
        "At the end of the experiment, you will be able to:\n",
        "\n",
        "*  find groups or clusters using Hierarchical Clustering Algorithm\n",
        "*  visualize the clusters using Dendrogram\n"
      ]
    },
    {
      "cell_type": "code",
      "metadata": {
        "id": "HcMQIZIXbBl6",
        "cellView": "form"
      },
      "source": [
        "#@title Experiment Walkthrough Video\n",
        "from IPython.display import HTML\n",
        "\n",
        "HTML(\"\"\"<video width=\"854\" height=\"480\" controls>\n",
        "  <source src=\"https://cdn.iiith.talentsprint.com/aiml/Experiment_related_data/Walkthrough/Hierarchical_Clustering.mp4\" type=\"video/mp4\">\n",
        "</video>\n",
        "\"\"\")"
      ],
      "execution_count": null,
      "outputs": []
    },
    {
      "cell_type": "markdown",
      "metadata": {
        "id": "Nh70dVHx0G_B"
      },
      "source": [
        "## Dataset"
      ]
    },
    {
      "cell_type": "markdown",
      "metadata": {
        "id": "0AUjpyII06yk"
      },
      "source": [
        "### Description"
      ]
    },
    {
      "cell_type": "markdown",
      "metadata": {
        "id": "y-GMJTRb0Iyy"
      },
      "source": [
        "The dataset consists of the below 7 columns,\n",
        "\n",
        "- **species:** penguin species (Chinstrap, Adélie, or Gentoo)\n",
        "- **culmen length & depth:** The culmen is the upper ridge of a bird's beak\n",
        "- **flipper_length_mm:** flipper length\n",
        "- **body_mass_g:** body mass\n",
        "- **island:** island name (Dream, Torgersen, or Biscoe)\n",
        "- **sex:** penguin sex"
      ]
    },
    {
      "cell_type": "markdown",
      "metadata": {
        "id": "oikK2FFsiChF"
      },
      "source": [
        "## AI/ML Technique"
      ]
    },
    {
      "cell_type": "markdown",
      "metadata": {
        "id": "3iTc747QiDhl"
      },
      "source": [
        "### Hierarchical Clustering\n",
        "\n",
        "It is an algorithm that builds hierarchy of clusters. This algorithm starts with all the data points assigned to a cluster of their own. Then two nearest clusters are merged into the same cluster. In the end, this algorithm terminates when there is only a single cluster left.\n",
        "\n",
        "Why Hierarchical Clustering is used over K-means Clustering Algorithm? K-means works well when the shape of clusters are hyper-spherical  (or circular in 2 dimensions). If there are general clusters occurring in the dataset which are non-spherical then probably K-means is not a good choice.\n",
        "\n",
        "K-means starts with random choice of cluster centers and it may lead to different clustering results and different runs of algorithm is required. Thus, the results may not be repeatable and lack of consistency with hierarchical clustering, you will definitely get the same clustering results.\n",
        "\n",
        "K-means require prior knowledge of K (number of clusters), whereas in hierarchical clustering we can stop at any level (clusters) we wish.\n",
        "\n",
        "\n",
        "Hierarchical clustering is of two types:\n",
        "\n",
        "**Agglomerative**: This is a \"bottom up\" approach: each observation starts in its own cluster, and pairs of clusters are merged as one moves up the hierarchy. \n",
        "\n",
        "**Divisive**: This is a \"top down\" approach: all observations start in one cluster, and splits are performed recursively as one moves down the hierarchy.\n",
        "\n",
        "In this experiment we will use Agglomerative Clustering.\n",
        "\n",
        "A dendrogram is a tree like structure that shows the hierarchical relationship between objects. It is most commonly created as an output from hierarchical clustering. The main use of a dendrogram is to work out the best way to allocate objects to clusters.\n",
        "\n",
        "\n",
        "Hierarchical clustering gives the deep insight of each step of converging different clusters and create dendrogram which helps you figure out which clusters combination makes sense and where you want to stop."
      ]
    },
    {
      "cell_type": "markdown",
      "metadata": {
        "id": "D_7o1j1gzJkh"
      },
      "source": [
        "## Setup Steps"
      ]
    },
    {
      "cell_type": "code",
      "metadata": {
        "id": "7-DpRtsCyxmz"
      },
      "source": [
        "#@title Please enter your registration id to start: { run: \"auto\", display-mode: \"form\" }\n",
        "Id = \"2216842\" #@param {type:\"string\"}"
      ],
      "execution_count": null,
      "outputs": []
    },
    {
      "cell_type": "code",
      "metadata": {
        "id": "sbKdfXlRyyQI"
      },
      "source": [
        "#@title Please enter your password (normally your phone number) to continue: { run: \"auto\", display-mode: \"form\" }\n",
        "password = \"9959488784\" #@param {type:\"string\"}"
      ],
      "execution_count": null,
      "outputs": []
    },
    {
      "cell_type": "code",
      "metadata": {
        "id": "Tles91FY20M8",
        "cellView": "form"
      },
      "source": [
        "#@title Run this cell to complete the setup for this Notebook\n",
        "from IPython import get_ipython\n",
        "\n",
        "ipython = get_ipython()\n",
        "  \n",
        "notebook= \"U2W9_12_Hierarchical_Clustering_A\" #name of the notebook\n",
        "\n",
        "def setup(): \n",
        "    ipython.magic(\"sx wget -qq https://cdn.iiith.talentsprint.com/aiml/Experiment_related_data/Penguin.csv\")\n",
        "    from IPython.display import HTML, display\n",
        "    display(HTML('<script src=\"https://dashboard.talentsprint.com/aiml/record_ip.html?traineeId={0}&recordId={1}\"></script>'.format(getId(),submission_id)))\n",
        "    print(\"Setup completed successfully\")\n",
        "    return\n",
        "\n",
        "def submit_notebook():\n",
        "    ipython.magic(\"notebook -e \"+ notebook + \".ipynb\")\n",
        "    \n",
        "    import requests, json, base64, datetime\n",
        "\n",
        "    url = \"https://dashboard.talentsprint.com/xp/app/save_notebook_attempts\"\n",
        "    if not submission_id:\n",
        "      data = {\"id\" : getId(), \"notebook\" : notebook, \"mobile\" : getPassword()}\n",
        "      r = requests.post(url, data = data)\n",
        "      r = json.loads(r.text)\n",
        "\n",
        "      if r[\"status\"] == \"Success\":\n",
        "          return r[\"record_id\"]\n",
        "      elif \"err\" in r:        \n",
        "        print(r[\"err\"])\n",
        "        return None        \n",
        "      else:\n",
        "        print (\"Something is wrong, the notebook will not be submitted for grading\")\n",
        "        return None\n",
        "    \n",
        "    elif getAnswer() and getComplexity() and getAdditional() and getConcepts() and getWalkthrough() and getComments() and getMentorSupport():\n",
        "      f = open(notebook + \".ipynb\", \"rb\")\n",
        "      file_hash = base64.b64encode(f.read())\n",
        "\n",
        "      data = {\"complexity\" : Complexity, \"additional\" :Additional, \n",
        "              \"concepts\" : Concepts, \"record_id\" : submission_id, \n",
        "              \"answer\" : Answer, \"id\" : Id, \"file_hash\" : file_hash,\n",
        "              \"notebook\" : notebook, \"feedback_walkthrough\":Walkthrough ,\n",
        "              \"feedback_experiments_input\" : Comments,\n",
        "              \"feedback_mentor_support\": Mentor_support}\n",
        "\n",
        "      r = requests.post(url, data = data)\n",
        "      r = json.loads(r.text)\n",
        "      if \"err\" in r:        \n",
        "        print(r[\"err\"])\n",
        "        return None   \n",
        "      else:\n",
        "        print(\"Your submission is successful.\")\n",
        "        print(\"Ref Id:\", submission_id)\n",
        "        print(\"Date of submission: \", r[\"date\"])\n",
        "        print(\"Time of submission: \", r[\"time\"])\n",
        "        print(\"View your submissions: https://aiml.iiith.talentsprint.com/notebook_submissions\")\n",
        "        #print(\"For any queries/discrepancies, please connect with mentors through the chat icon in LMS dashboard.\")\n",
        "        return submission_id\n",
        "    else: submission_id\n",
        "    \n",
        "\n",
        "def getAdditional():\n",
        "  try:\n",
        "    if not Additional: \n",
        "      raise NameError\n",
        "    else:\n",
        "      return Additional  \n",
        "  except NameError:\n",
        "    print (\"Please answer Additional Question\")\n",
        "    return None\n",
        "\n",
        "def getComplexity():\n",
        "  try:\n",
        "    if not Complexity:\n",
        "      raise NameError\n",
        "    else:\n",
        "      return Complexity\n",
        "  except NameError:\n",
        "    print (\"Please answer Complexity Question\")\n",
        "    return None\n",
        "  \n",
        "def getConcepts():\n",
        "  try:\n",
        "    if not Concepts:\n",
        "      raise NameError\n",
        "    else:\n",
        "      return Concepts\n",
        "  except NameError:\n",
        "    print (\"Please answer Concepts Question\")\n",
        "    return None\n",
        "  \n",
        "  \n",
        "def getWalkthrough():\n",
        "  try:\n",
        "    if not Walkthrough:\n",
        "      raise NameError\n",
        "    else:\n",
        "      return Walkthrough\n",
        "  except NameError:\n",
        "    print (\"Please answer Walkthrough Question\")\n",
        "    return None\n",
        "  \n",
        "def getComments():\n",
        "  try:\n",
        "    if not Comments:\n",
        "      raise NameError\n",
        "    else:\n",
        "      return Comments\n",
        "  except NameError:\n",
        "    print (\"Please answer Comments Question\")\n",
        "    return None\n",
        "  \n",
        "\n",
        "def getMentorSupport():\n",
        "  try:\n",
        "    if not Mentor_support:\n",
        "      raise NameError\n",
        "    else:\n",
        "      return Mentor_support\n",
        "  except NameError:\n",
        "    print (\"Please answer Mentor support Question\")\n",
        "    return None\n",
        "\n",
        "def getAnswer():\n",
        "  try:\n",
        "    if not Answer:\n",
        "      raise NameError \n",
        "    else: \n",
        "      return Answer\n",
        "  except NameError:\n",
        "    print (\"Please answer Question\")\n",
        "    return None\n",
        "  \n",
        "\n",
        "def getId():\n",
        "  try: \n",
        "    return Id if Id else None\n",
        "  except NameError:\n",
        "    return None\n",
        "\n",
        "def getPassword():\n",
        "  try:\n",
        "    return password if password else None\n",
        "  except NameError:\n",
        "    return None\n",
        "\n",
        "submission_id = None\n",
        "### Setup \n",
        "if getPassword() and getId():\n",
        "  submission_id = submit_notebook()\n",
        "  if submission_id:\n",
        "    setup() \n",
        "else:\n",
        "  print (\"Please complete Id and Password cells before running setup\")\n",
        "\n"
      ],
      "execution_count": null,
      "outputs": []
    },
    {
      "cell_type": "markdown",
      "metadata": {
        "id": "Y9pFXqtfbcxG"
      },
      "source": [
        "## Importing Required Packages"
      ]
    },
    {
      "cell_type": "code",
      "metadata": {
        "id": "tolBi2-lJHkW"
      },
      "source": [
        "import numpy as np\n",
        "import pandas as pd\n",
        "import matplotlib.pyplot as plt\n",
        "from sklearn import preprocessing \n",
        "from sklearn.cluster import AgglomerativeClustering\n",
        "from scipy.cluster.hierarchy import dendrogram, linkage"
      ],
      "execution_count": null,
      "outputs": []
    },
    {
      "cell_type": "markdown",
      "metadata": {
        "id": "WW2MIcyYbp3R"
      },
      "source": [
        "## Load the data"
      ]
    },
    {
      "cell_type": "code",
      "metadata": {
        "id": "ru1Mcn-2mXp1"
      },
      "source": [
        "df = pd.read_csv('Penguin.csv')\n",
        "df.head()"
      ],
      "execution_count": null,
      "outputs": []
    },
    {
      "cell_type": "code",
      "metadata": {
        "id": "K3nT_Payma9N"
      },
      "source": [
        "# Count NaN values in each column of the dataframe\n",
        "df.isna().sum()"
      ],
      "execution_count": null,
      "outputs": []
    },
    {
      "cell_type": "code",
      "metadata": {
        "id": "s68i8iLUTHa9"
      },
      "source": [
        "# YOUR CODE HERE: To drop the records where sex column has NaN values\n",
        "df.dropna(subset=[\"sex\"],axis=0,inplace=True)\n",
        "\n",
        "# Print the unique() elements from the sex column after dropping\n",
        "print(\"Unique values after dropping NA values : \",df.sex.unique())"
      ],
      "execution_count": null,
      "outputs": []
    },
    {
      "cell_type": "markdown",
      "metadata": {
        "id": "8R6FqRagSyLV"
      },
      "source": [
        "## Convert categorical values to numerical"
      ]
    },
    {
      "cell_type": "code",
      "metadata": {
        "id": "frwSlj1qM6ec"
      },
      "source": [
        "LE = preprocessing.LabelEncoder()"
      ],
      "execution_count": null,
      "outputs": []
    },
    {
      "cell_type": "code",
      "metadata": {
        "id": "fAuaw3YYlsAI"
      },
      "source": [
        "# YOUR CODE HERE: To convert the categorical values to numerical\n",
        "df[\"species\"] = LE.fit_transform(df[\"species\"])\n",
        "df[\"island\"] = LE.fit_transform(df[\"island\"])\n",
        "df[\"sex\"] = LE.fit_transform(df[\"sex\"])"
      ],
      "execution_count": null,
      "outputs": []
    },
    {
      "cell_type": "markdown",
      "metadata": {
        "id": "P4PERpLOJdjU"
      },
      "source": [
        "## Store the data and labels"
      ]
    },
    {
      "cell_type": "code",
      "metadata": {
        "id": "JaDc0DZZmt7K"
      },
      "source": [
        "X = df.drop(['species'], axis=1)\n",
        "y = df['species']"
      ],
      "execution_count": null,
      "outputs": []
    },
    {
      "cell_type": "code",
      "metadata": {
        "id": "FZtf_H6TECuV"
      },
      "source": [
        "# Select first 100 rows and 2 columns from the data\n",
        "X1 = X.iloc[:100,1:3].values"
      ],
      "execution_count": null,
      "outputs": []
    },
    {
      "cell_type": "code",
      "metadata": {
        "id": "EIHl2ndEG6G_"
      },
      "source": [
        "X1.shape"
      ],
      "execution_count": null,
      "outputs": []
    },
    {
      "cell_type": "markdown",
      "metadata": {
        "id": "jr69wQrVOuXI"
      },
      "source": [
        "## Apply Agglomerative Clustering\n",
        "\n",
        "**Note:** Refer to following [AgglomerativeClustering](https://scikit-learn.org/stable/modules/generated/sklearn.cluster.AgglomerativeClustering.html)"
      ]
    },
    {
      "cell_type": "code",
      "metadata": {
        "id": "JIwya8pI_QXy"
      },
      "source": [
        "# n_clusters : The number of clusters to generate\n",
        "# YOUR CODE HERE: To call the Agglomerative clustering function from sklearn library by specifying the no of clu\n",
        "clustering = AgglomerativeClustering(n_clusters=3)\n",
        "\n",
        "# YOUR CODE HERE: To fit and predict the data\n",
        "Y_preds = clustering.fit_predict(X1)\n",
        " \n",
        "# Plot the results\n",
        "plt.figure(figsize = (8,5))\n",
        "plt.scatter(X1[Y_preds == 0 , 0] , X1[Y_preds == 0 , 1] , c = 'red')\n",
        "plt.scatter(X1[Y_preds == 1 , 0] , X1[Y_preds == 1 , 1] , c = 'blue')\n",
        "plt.scatter(X1[Y_preds == 2 , 0] , X1[Y_preds == 2 , 1] , c = 'green')\n",
        "plt.show()"
      ],
      "execution_count": null,
      "outputs": []
    },
    {
      "cell_type": "markdown",
      "metadata": {
        "id": "Now0EvcXOL66"
      },
      "source": [
        "## Visualize the dendogram\n",
        "\n",
        "**Note:** Refer to [scipy.cluster.hierarchy.dendrogram](https://docs.scipy.org/doc/scipy/reference/generated/scipy.cluster.hierarchy.dendrogram.html)"
      ]
    },
    {
      "cell_type": "code",
      "metadata": {
        "id": "ewNlU67FuAI5"
      },
      "source": [
        "# In 'linkage' ward method minimizes the variance between the clusters being merged\n",
        "clusters = linkage(X1, 'ward')"
      ],
      "execution_count": null,
      "outputs": []
    },
    {
      "cell_type": "code",
      "metadata": {
        "id": "qHgrlZxzugFG"
      },
      "source": [
        "# YOUR CODE HERE: To plot the dendogram\n",
        "from scipy.cluster import hierarchy"
      ],
      "execution_count": null,
      "outputs": []
    },
    {
      "cell_type": "code",
      "source": [
        "hierarchy.set_link_color_palette(['m', 'c', 'y', 'k'])\n",
        "fig, axes = plt.subplots(1, 2, figsize=(10, 10))\n",
        "dn1 = hierarchy.dendrogram(clusters, ax=axes[0], above_threshold_color='y',\n",
        "                           orientation='top',truncate_mode='level', p=3)\n",
        "dn2 = hierarchy.dendrogram(clusters, ax=axes[1],\n",
        "                           above_threshold_color='#bcbddc',\n",
        "                           orientation='right',truncate_mode='level', p=3)\n",
        "hierarchy.set_link_color_palette(None)  # reset to default after use\n",
        "plt.show()"
      ],
      "metadata": {
        "id": "ZDg1W-0BBgnY"
      },
      "execution_count": null,
      "outputs": []
    },
    {
      "cell_type": "markdown",
      "metadata": {
        "id": "AQJLtIGwzneU"
      },
      "source": [
        "# Please answer the questions below to complete the experiment:\n",
        "\n",
        "\n"
      ]
    },
    {
      "cell_type": "code",
      "metadata": {
        "id": "zfe69RCxXFmP"
      },
      "source": [
        "#@title State True or False: Agglomerative clustering involves top-down approach?{ run: \"auto\", form-width: \"500px\", display-mode: \"form\" }\n",
        "Answer= \"FALSE\" #@param [\"\",\"TRUE\",\"FALSE\"]\n"
      ],
      "execution_count": null,
      "outputs": []
    },
    {
      "cell_type": "code",
      "metadata": {
        "id": "NMzKSbLIgFzQ"
      },
      "source": [
        "#@title How was the experiment? { run: \"auto\", form-width: \"500px\", display-mode: \"form\" }\n",
        "Complexity = \"Good and Challenging for me\" #@param [\"\",\"Too Simple, I am wasting time\", \"Good, But Not Challenging for me\", \"Good and Challenging for me\", \"Was Tough, but I did it\", \"Too Difficult for me\"]\n"
      ],
      "execution_count": null,
      "outputs": []
    },
    {
      "cell_type": "code",
      "metadata": {
        "id": "DjcH1VWSFI2l"
      },
      "source": [
        "#@title If it was too easy, what more would you have liked to be added? If it was very difficult, what would you have liked to have been removed? { run: \"auto\", display-mode: \"form\" }\n",
        "Additional = \"Everything looks good\" #@param {type:\"string\"}\n"
      ],
      "execution_count": null,
      "outputs": []
    },
    {
      "cell_type": "code",
      "metadata": {
        "id": "4VBk_4VTAxCM"
      },
      "source": [
        "#@title Can you identify the concepts from the lecture which this experiment covered? { run: \"auto\", vertical-output: true, display-mode: \"form\" }\n",
        "Concepts = \"Yes\" #@param [\"\",\"Yes\", \"No\"]\n"
      ],
      "execution_count": null,
      "outputs": []
    },
    {
      "cell_type": "code",
      "metadata": {
        "id": "r35isHfTVGKc"
      },
      "source": [
        "#@title  Experiment walkthrough video? { run: \"auto\", vertical-output: true, display-mode: \"form\" }\n",
        "Walkthrough = \"Very Useful\" #@param [\"\",\"Very Useful\", \"Somewhat Useful\", \"Not Useful\", \"Didn't use\"]\n"
      ],
      "execution_count": null,
      "outputs": []
    },
    {
      "cell_type": "code",
      "metadata": {
        "id": "XH91cL1JWH7m"
      },
      "source": [
        "#@title  Text and image description/explanation and code comments within the experiment: { run: \"auto\", vertical-output: true, display-mode: \"form\" }\n",
        "Comments = \"Very Useful\" #@param [\"\",\"Very Useful\", \"Somewhat Useful\", \"Not Useful\", \"Didn't use\"]\n"
      ],
      "execution_count": null,
      "outputs": []
    },
    {
      "cell_type": "code",
      "metadata": {
        "id": "z8xLqj7VWIKW"
      },
      "source": [
        "#@title Mentor Support: { run: \"auto\", vertical-output: true, display-mode: \"form\" }\n",
        "Mentor_support = \"Very Useful\" #@param [\"\",\"Very Useful\", \"Somewhat Useful\", \"Not Useful\", \"Didn't use\"]\n"
      ],
      "execution_count": null,
      "outputs": []
    },
    {
      "cell_type": "code",
      "metadata": {
        "id": "FzAZHt1zw-Y-",
        "cellView": "form"
      },
      "source": [
        "#@title Run this cell to submit your notebook for grading { vertical-output: true }\n",
        "try:\n",
        "  if submission_id:\n",
        "      return_id = submit_notebook()\n",
        "      if return_id : submission_id = return_id\n",
        "  else:\n",
        "      print(\"Please complete the setup first.\")\n",
        "except NameError:\n",
        "  print (\"Please complete the setup first.\")"
      ],
      "execution_count": null,
      "outputs": []
    }
  ]
}