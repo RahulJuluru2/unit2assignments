{
  "nbformat": 4,
  "nbformat_minor": 0,
  "metadata": {
    "colab": {
      "name": "U2W8_06_MLP_Iris_A_RJ.ipynb",
      "private_outputs": true,
      "provenance": [],
      "collapsed_sections": [],
      "include_colab_link": true
    },
    "kernelspec": {
      "name": "python3",
      "display_name": "Python 3"
    }
  },
  "cells": [
    {
      "cell_type": "markdown",
      "metadata": {
        "id": "view-in-github",
        "colab_type": "text"
      },
      "source": [
        "<a href=\"https://colab.research.google.com/github/RahulJuluru2/unit2assignments/blob/main/U2W8_06_MLP_Iris_A_RJ.ipynb\" target=\"_parent\"><img src=\"https://colab.research.google.com/assets/colab-badge.svg\" alt=\"Open In Colab\"/></a>"
      ]
    },
    {
      "cell_type": "markdown",
      "metadata": {
        "id": "HjrYIpy2yYbI"
      },
      "source": [
        "# Advanced Certification in AIML\n",
        "## A Program by IIIT-H and TalentSprint\n",
        "\n"
      ]
    },
    {
      "cell_type": "markdown",
      "metadata": {
        "id": "x77SzRGJcY3o"
      },
      "source": [
        "## Learning Objectives"
      ]
    },
    {
      "cell_type": "markdown",
      "metadata": {
        "id": "UKB4OmrMccgl"
      },
      "source": [
        "At the end of the experiment,  you will be able to :\n",
        "\n",
        "* Understand Neural network with more than one neuron"
      ]
    },
    {
      "cell_type": "code",
      "metadata": {
        "cellView": "form",
        "id": "cSXBQg5cTh0F"
      },
      "source": [
        "#@title Experiment Explanation Video\n",
        "from IPython.display import HTML\n",
        "\n",
        "HTML(\"\"\"<video width=\"854\" height=\"480\" controls>\n",
        "  <source src=\"https://cdn.iiith.talentsprint.com/aiml/Experiment_related_data/Walkthrough/MLP_Walkthrough.mp4\" type=\"video/mp4\">\n",
        "</video>\n",
        "\"\"\")"
      ],
      "execution_count": null,
      "outputs": []
    },
    {
      "cell_type": "markdown",
      "metadata": {
        "id": "nFEZUAvJdXcW"
      },
      "source": [
        "\n",
        "\n",
        "## Dataset"
      ]
    },
    {
      "cell_type": "markdown",
      "metadata": {
        "id": "Kz2T6C2MrPp6"
      },
      "source": [
        "#### History\n",
        "\n",
        "This is a multivariate dataset introduced by R.A.Fisher (Father of Modern Statistics) for showcasing linear discriminant analysis. This is arguably the best known dataset in Feature Selection literature.\n",
        "\n",
        "\n",
        "The data set contains 3 classes of 50 instances each, where each class refers to a type of iris plant. One class is linearly separable from the other 2; the latter are NOT linearly separable from each other. "
      ]
    },
    {
      "cell_type": "markdown",
      "metadata": {
        "id": "62AAQoRKrQIK"
      },
      "source": [
        "#### Description\n",
        "The Iris dataset consists of 150 data instances. There are 3 classes (Iris Versicolor, Iris Setosa, and Iris Virginica) each has 50 instances. \n",
        "\n",
        "\n",
        "For each flower, we have the below data attributes \n",
        "\n",
        "- sepal length in cm\n",
        "- sepal width in cm\n",
        "- petal length in cm\n",
        "- petal width in cm\n"
      ]
    },
    {
      "cell_type": "markdown",
      "metadata": {
        "id": "06lEbv7grYmm"
      },
      "source": [
        "## Domain Information"
      ]
    },
    {
      "cell_type": "markdown",
      "metadata": {
        "id": "QIB3dtlNrWy6"
      },
      "source": [
        "\n",
        "\n",
        "Iris Plants are flowering plants with showy flowers. They are very popular among movie directors as it gives an excellent background. \n",
        "\n",
        "They are predominantly found in dry, semi-desert, or colder rocky mountainous areas in Europe and Asia. They have long, erect flowering stems and can produce white, yellow, orange, pink, purple, lavender, blue, or brown colored flowers. There are 260 to 300 types of iris.\n",
        "\n",
        "![alt text](https://cdn-images-1.medium.com/max/1275/1*7bnLKsChXq94QjtAiRn40w.png)\n",
        "\n",
        "As you could see, flowers have 3 sepals and 3 petals.  The sepals are usually spreading or drop downwards and the petals stand upright, partly behind the sepal bases. However, the length and width of the sepals and petals vary for each type.\n"
      ]
    },
    {
      "cell_type": "markdown",
      "metadata": {
        "id": "RlGNyzR5fsxQ"
      },
      "source": [
        "## AI / ML Technique"
      ]
    },
    {
      "cell_type": "markdown",
      "metadata": {
        "id": "Vy4vk5Fdfwg3"
      },
      "source": [
        "A feedforward neural network is an artificial neural network where the connections between units do not form a cycle. Feedforward neural networks were the first type of artificial neural network invented and are simpler than their counterparts. Feedforward travels forward in the network (no loops), first through the input nodes, then through the hidden nodes, and finally through the output nodes."
      ]
    },
    {
      "cell_type": "markdown",
      "metadata": {
        "id": "B8qYnsBoyYbJ"
      },
      "source": [
        "## Setup Steps"
      ]
    },
    {
      "cell_type": "code",
      "metadata": {
        "id": "7-DpRtsCyxmz"
      },
      "source": [
        "#@title Please enter your registration id to start: { run: \"auto\", display-mode: \"form\" }\n",
        "Id = \"2216842\" #@param {type:\"string\"}"
      ],
      "execution_count": null,
      "outputs": []
    },
    {
      "cell_type": "code",
      "metadata": {
        "id": "sbKdfXlRyyQI"
      },
      "source": [
        "#@title Please enter your password (normally your phone number) to continue: { run: \"auto\", display-mode: \"form\" }\n",
        "password = \"9959488784\" #@param {type:\"string\"}"
      ],
      "execution_count": null,
      "outputs": []
    },
    {
      "cell_type": "code",
      "metadata": {
        "id": "YZEH5zNH6tFH",
        "cellView": "form"
      },
      "source": [
        "#@title Run this cell to complete the setup for this Notebook\n",
        "from IPython import get_ipython\n",
        "import warnings\n",
        "warnings.filterwarnings(\"ignore\")\n",
        "\n",
        "ipython = get_ipython()\n",
        "  \n",
        "notebook= \"U2W8_06_MLP_Iris_A\" #name of the notebook\n",
        "\n",
        "def setup():\n",
        "    ipython.magic(\"sx wget https://cdn.talentsprint.com/aiml/Experiment_related_data/Iris.csv\")\n",
        "    from IPython.display import HTML, display\n",
        "    display(HTML('<script src=\"https://dashboard.talentsprint.com/aiml/record_ip.html?traineeId={0}&recordId={1}\"></script>'.format(getId(),submission_id)))\n",
        "    print(\"Setup completed successfully\")\n",
        "    return\n",
        "\n",
        "def submit_notebook():\n",
        "    ipython.magic(\"notebook -e \"+ notebook + \".ipynb\")\n",
        "    \n",
        "    import requests, json, base64, datetime\n",
        "\n",
        "    url = \"https://dashboard.talentsprint.com/xp/app/save_notebook_attempts\"\n",
        "    if not submission_id:\n",
        "      data = {\"id\" : getId(), \"notebook\" : notebook, \"mobile\" : getPassword()}\n",
        "      r = requests.post(url, data = data)\n",
        "      r = json.loads(r.text)\n",
        "\n",
        "      if r[\"status\"] == \"Success\":\n",
        "          return r[\"record_id\"]\n",
        "      elif \"err\" in r:        \n",
        "        print(r[\"err\"])\n",
        "        return None        \n",
        "      else:\n",
        "        print (\"Something is wrong, the notebook will not be submitted for grading\")\n",
        "        return None\n",
        "    \n",
        "    elif getAnswer() and getComplexity() and getAdditional() and getConcepts() and getWalkthrough() and getComments() and getMentorSupport():\n",
        "      f = open(notebook + \".ipynb\", \"rb\")\n",
        "      file_hash = base64.b64encode(f.read())\n",
        "\n",
        "      data = {\"complexity\" : Complexity, \"additional\" :Additional, \n",
        "              \"concepts\" : Concepts, \"record_id\" : submission_id, \n",
        "              \"answer\" : Answer, \"id\" : Id, \"file_hash\" : file_hash,\n",
        "              \"notebook\" : notebook, \"feedback_walkthrough\":Walkthrough ,\n",
        "              \"feedback_experiments_input\" : Comments,\n",
        "              \"feedback_mentor_support\": Mentor_support}\n",
        "\n",
        "      r = requests.post(url, data = data)\n",
        "      r = json.loads(r.text)\n",
        "      if \"err\" in r:        \n",
        "        print(r[\"err\"])\n",
        "        return None   \n",
        "      else:\n",
        "        print(\"Your submission is successful.\")\n",
        "        print(\"Ref Id:\", submission_id)\n",
        "        print(\"Date of submission: \", r[\"date\"])\n",
        "        print(\"Time of submission: \", r[\"time\"])\n",
        "        print(\"View your submissions: https://aiml.iiith.talentsprint.com/notebook_submissions\")\n",
        "        #print(\"For any queries/discrepancies, please connect with mentors through the chat icon in LMS dashboard.\")\n",
        "        return submission_id\n",
        "    else: submission_id\n",
        "    \n",
        "\n",
        "def getAdditional():\n",
        "  try:\n",
        "    if not Additional: \n",
        "      raise NameError\n",
        "    else:\n",
        "      return Additional  \n",
        "  except NameError:\n",
        "    print (\"Please answer Additional Question\")\n",
        "    return None\n",
        "\n",
        "def getComplexity():\n",
        "  try:\n",
        "    if not Complexity:\n",
        "      raise NameError\n",
        "    else:\n",
        "      return Complexity\n",
        "  except NameError:\n",
        "    print (\"Please answer Complexity Question\")\n",
        "    return None\n",
        "  \n",
        "def getConcepts():\n",
        "  try:\n",
        "    if not Concepts:\n",
        "      raise NameError\n",
        "    else:\n",
        "      return Concepts\n",
        "  except NameError:\n",
        "    print (\"Please answer Concepts Question\")\n",
        "    return None\n",
        "  \n",
        "  \n",
        "def getWalkthrough():\n",
        "  try:\n",
        "    if not Walkthrough:\n",
        "      raise NameError\n",
        "    else:\n",
        "      return Walkthrough\n",
        "  except NameError:\n",
        "    print (\"Please answer Walkthrough Question\")\n",
        "    return None\n",
        "  \n",
        "def getComments():\n",
        "  try:\n",
        "    if not Comments:\n",
        "      raise NameError\n",
        "    else:\n",
        "      return Comments\n",
        "  except NameError:\n",
        "    print (\"Please answer Comments Question\")\n",
        "    return None\n",
        "  \n",
        "\n",
        "def getMentorSupport():\n",
        "  try:\n",
        "    if not Mentor_support:\n",
        "      raise NameError\n",
        "    else:\n",
        "      return Mentor_support\n",
        "  except NameError:\n",
        "    print (\"Please answer Mentor support Question\")\n",
        "    return None\n",
        "\n",
        "def getAnswer():\n",
        "  try:\n",
        "    if not Answer:\n",
        "      raise NameError \n",
        "    else: \n",
        "      return Answer\n",
        "  except NameError:\n",
        "    print (\"Please answer Question\")\n",
        "    return None\n",
        "  \n",
        "\n",
        "def getId():\n",
        "  try: \n",
        "    return Id if Id else None\n",
        "  except NameError:\n",
        "    return None\n",
        "\n",
        "def getPassword():\n",
        "  try:\n",
        "    return password if password else None\n",
        "  except NameError:\n",
        "    return None\n",
        "\n",
        "submission_id = None\n",
        "### Setup \n",
        "if getPassword() and getId():\n",
        "  submission_id = submit_notebook()\n",
        "  if submission_id:\n",
        "    setup() \n",
        "else:\n",
        "  print (\"Please complete Id and Password cells before running setup\")\n",
        "\n"
      ],
      "execution_count": null,
      "outputs": []
    },
    {
      "cell_type": "markdown",
      "metadata": {
        "id": "_R_HrXRcyYbL"
      },
      "source": [
        "## Import Required Packages"
      ]
    },
    {
      "cell_type": "code",
      "metadata": {
        "id": "FGFqBo0HIV-J"
      },
      "source": [
        "import pandas as pd\n",
        "import numpy as np\n",
        "from sklearn.metrics import accuracy_score"
      ],
      "execution_count": null,
      "outputs": []
    },
    {
      "cell_type": "markdown",
      "metadata": {
        "id": "AKPhAgnZIdIp"
      },
      "source": [
        "##Load Data"
      ]
    },
    {
      "cell_type": "code",
      "metadata": {
        "id": "HEXS-fVb3aQK"
      },
      "source": [
        "# Load data using Pandas\n",
        "iris = pd.read_csv(\"/content/Iris.csv\")\n",
        "iris.head()"
      ],
      "execution_count": null,
      "outputs": []
    },
    {
      "cell_type": "code",
      "metadata": {
        "id": "hNJ_Zjc-uqxn"
      },
      "source": [
        "# Shuffling the data using .sample()\n",
        "df = iris.sample(frac=1)\n",
        "df.drop('Id',axis=1,inplace=True)\n",
        "df.head()"
      ],
      "execution_count": null,
      "outputs": []
    },
    {
      "cell_type": "markdown",
      "metadata": {
        "id": "fFDwV8WPqBYm"
      },
      "source": [
        "## Label Encoding\n",
        "\n",
        "Let us now encode our species column, to understand more about label encoding, refer [link](https://scikit-learn.org/stable/modules/generated/sklearn.preprocessing.LabelEncoder.html)"
      ]
    },
    {
      "cell_type": "code",
      "metadata": {
        "id": "_MeiqaqXyUq7"
      },
      "source": [
        "from sklearn import preprocessing\n",
        "le = preprocessing.LabelEncoder()\n",
        "df['species'] = le.fit_transform(df['species'])\n",
        "df.head()"
      ],
      "execution_count": null,
      "outputs": []
    },
    {
      "cell_type": "markdown",
      "metadata": {
        "id": "iShL-KB3MfH5"
      },
      "source": [
        "## Neural Network with more than one Neuron\n",
        "\n",
        "Multilayer perceptron (MLP) is a cascade of single-layer perceptrons. There is a layer of input nodes, a layer of output nodes, and one or more hidden layers.\n"
      ]
    },
    {
      "cell_type": "markdown",
      "metadata": {
        "id": "OmgHwYLRpfAC"
      },
      "source": [
        "![alt text](https://cdn.iiith.talentsprint.com/aiml/Experiment_related_data/Nueral_Net_MLP.PNG)"
      ]
    },
    {
      "cell_type": "markdown",
      "metadata": {
        "id": "ZhNiaTvy7Q1k"
      },
      "source": [
        "### Part-A: Understand Multi Layer Perceptron using mathematical approach"
      ]
    },
    {
      "cell_type": "code",
      "metadata": {
        "id": "Mohw8NCW1Ohv"
      },
      "source": [
        "# Let's take 3 samples from dataset from the location 1, 51, 101\n",
        "df.loc[[1, 51, 101]]"
      ],
      "execution_count": null,
      "outputs": []
    },
    {
      "cell_type": "code",
      "metadata": {
        "id": "wbWwHkzkMlTy"
      },
      "source": [
        "# Inputs and Weights could be randomly selected. Let's consider a hidden layers.\n",
        "\n",
        "# Choose any one sample from the above features\n",
        "inputs = [[4.9, 3.0, 1.4, 0.2]] \n",
        "\n",
        "# Defining random weights for hidden layer \n",
        "hidden_layer_weights = [[ 0.9,  0.8, -1.0, -1.0], [-0.5, -0.5,  1.5,  1.0]]\n",
        "\n",
        "# Defining random weights for output layer \n",
        "output_layer_weights = [[ 2.0, -1.0], [ 1.0,  1.0],  [-1.0,  2.0]]"
      ],
      "execution_count": null,
      "outputs": []
    },
    {
      "cell_type": "code",
      "metadata": {
        "id": "1F6lVzR4A-GP"
      },
      "source": [
        "# This function returns the sum of product of inputs and weights\n",
        "def weighted_sum(inputs,weights):\n",
        "    total = 0\n",
        "    # YOUR CODE HERE\n",
        "    for current_input,current_weight in zip(inputs,weights):\n",
        "      total = total + (current_input*current_weight)\n",
        "    return total"
      ],
      "execution_count": null,
      "outputs": []
    },
    {
      "cell_type": "markdown",
      "metadata": {
        "id": "61oThPzfe3IF"
      },
      "source": [
        "#### Sigmoid Function\n",
        "\n",
        "The sigmoid function is a mathematical function having a characteristic “S” — shaped curve, which transforms the values between the range 0 and 1. For a given number n, we can see that the sigmoid function would map that number between 0 and 1. As the value of n gets larger, the value of the sigmoid function gets closer to 1 and as n gets smaller, the value of the sigmoid function gets closer to 0. \n"
      ]
    },
    {
      "cell_type": "code",
      "metadata": {
        "id": "1XvzRx3F7Yac"
      },
      "source": [
        "def sigmoid(x):\n",
        "    # YOUR CODE HERE: To define the sigmoid function with threshold value '0.8'\n",
        "    s = 1 / (1 + np.exp(-x))\n",
        "    if s > 0.8:\n",
        "      return 1\n",
        "    else:\n",
        "      return 0"
      ],
      "execution_count": null,
      "outputs": []
    },
    {
      "cell_type": "code",
      "metadata": {
        "id": "nSRrCiRgMvOl"
      },
      "source": [
        "# This function returns the sum of product of inputs and weights\n",
        "def determine_layer_outputs(list_of_inputs, list_of_weights, activation_function=True):\n",
        "    list_of_outputs = []\n",
        "    # YOUR CODE HERE\n",
        "    for inputs in list_of_inputs:\n",
        "      node_outputs = []\n",
        "      for weights in list_of_weights:\n",
        "        node_input = weighted_sum(inputs,weights)\n",
        "        if activation_function:\n",
        "          node_outputs.append(sigmoid(node_input))\n",
        "        else:\n",
        "          node_outputs.append(node_input)\n",
        "      list_of_outputs.append(node_outputs)\n",
        "    return list_of_outputs"
      ],
      "execution_count": null,
      "outputs": []
    },
    {
      "cell_type": "markdown",
      "metadata": {
        "id": "BmDZpY5bWMiY"
      },
      "source": [
        "#### Calculate outputs of the hidden layer\n",
        "\n"
      ]
    },
    {
      "cell_type": "code",
      "metadata": {
        "id": "MzHGWbjOSsoe"
      },
      "source": [
        "# Get the outputs of the first hidden layer before passing through the activation\n",
        "first_hidden_layer_inputs = determine_layer_outputs(inputs, hidden_layer_weights, activation_function=False)\n",
        "\n",
        "print(\"Before applying activation function\", first_hidden_layer_inputs) \n",
        "\n",
        "# Get the outputs of the first hidden layer after passing through the activation\n",
        "first_hidden_layer_outputs = determine_layer_outputs(inputs, hidden_layer_weights)\n",
        "print(\"After applying activation function\", first_hidden_layer_outputs) "
      ],
      "execution_count": null,
      "outputs": []
    },
    {
      "cell_type": "markdown",
      "metadata": {
        "id": "vq7Q-4ynWaWI"
      },
      "source": [
        "#### Calculate Output Layer"
      ]
    },
    {
      "cell_type": "code",
      "metadata": {
        "id": "0oIkVFzjS0MK"
      },
      "source": [
        "output_layer_inputs = determine_layer_outputs(first_hidden_layer_outputs, output_layer_weights, activation_function=False)\n",
        "print(\"Before applying activation function\", output_layer_inputs)\n",
        "\n",
        "# After passing through the activation function\n",
        "output_layer_outputs = determine_layer_outputs(first_hidden_layer_outputs, output_layer_weights)\n",
        "print(\"After applying activation function\", output_layer_outputs)"
      ],
      "execution_count": null,
      "outputs": []
    },
    {
      "cell_type": "markdown",
      "metadata": {
        "id": "RmUoLx2q2dUV"
      },
      "source": [
        "#### Perform for all samples\n",
        "\n",
        "Performing weighted sum and sigmoid function for hidden layer and output layer for each of the features by taking random weights and finding accuracy for actuals and predictions. \n",
        "\n",
        "In the Output layer after applying activation fuction, the predictions for:\n",
        "\n",
        "Setosa =  [1,0,0]\n",
        "\n",
        "Versicolor = [0,1,0]\n",
        "\n",
        "Virginica = [0,0,1]\n",
        "\n",
        "For label setosa, the output layer should return [1,0,0] (which means first position neuron is activated), similarly for versicolor and virginica."
      ]
    },
    {
      "cell_type": "code",
      "metadata": {
        "id": "sgTicVgJL1CC"
      },
      "source": [
        "samples = df.drop(columns=['species']).values\n",
        "predicted = []\n",
        "\n",
        "# Defining weights for hidden and output layers\n",
        "hidden_layer_weights1 = [[ 0.9,  0.8, -1.0, -1.0], [-0.5, -0.5,  1.5,  1.0]]\n",
        "output_layer_weights1 = [[ 2.0, -1.0], [ 1.0,  1.0],  [-1.0,  2.0]] # Change the weights and observe the change in accuracy\n",
        "\n",
        "for sample in samples:\n",
        "  # Hidden layer\n",
        "  first_hidden_layer_outputs1 = determine_layer_outputs([sample], hidden_layer_weights1)\n",
        "\n",
        "  # Output layer\n",
        "  output_layer_outputs = determine_layer_outputs(first_hidden_layer_outputs1, output_layer_weights1)\n",
        "\n",
        "  # Selecting the node which is activated; out of 3 output nodes only one node gives output as 1\n",
        "  predicted.append(output_layer_outputs[0].index(max(output_layer_outputs[0])))"
      ],
      "execution_count": null,
      "outputs": []
    },
    {
      "cell_type": "markdown",
      "metadata": {
        "id": "CYhZnjkz6gx2"
      },
      "source": [
        "Comparing the predictions and actual labels and calculating the accuracy"
      ]
    },
    {
      "cell_type": "code",
      "metadata": {
        "id": "43Q5aM6u6e0l"
      },
      "source": [
        "actual = df.iloc[:,4].values\n",
        "print(\"Actual labels from the data\", actual)\n",
        "print(\"Predicted labels\", predicted)\n",
        "print(\"Length of actual and predicted are\", len(actual), len(predicted))\n",
        "\n",
        "acc = accuracy_score(actual, predicted)\n",
        "\n",
        "print(\"Accuracy of the MLP using mathematical approach\", acc)"
      ],
      "execution_count": null,
      "outputs": []
    },
    {
      "cell_type": "markdown",
      "metadata": {
        "id": "dgWCAX_3wG1B"
      },
      "source": [
        "### Part-B: MLP from sklearn\n",
        "\n",
        "1. From the given data, Select features and labels\n",
        "2. Split the data into train and test sets \n",
        "3. Train using MLP Classifier"
      ]
    },
    {
      "cell_type": "code",
      "metadata": {
        "id": "X6hKRCdtvE_x"
      },
      "source": [
        "# Extract features and labels from the data\n",
        "labels = df.species.values\n",
        "features = df.iloc[:,:4].values # Features\n",
        "features.shape, labels.shape"
      ],
      "execution_count": null,
      "outputs": []
    },
    {
      "cell_type": "code",
      "metadata": {
        "id": "e9AngdEsuQ9W"
      },
      "source": [
        "from sklearn.model_selection import train_test_split\n",
        " # YOUR CODE HERE: To split the data into train and test sets\n",
        "X_train,X_test,y_train,y_test = train_test_split(features,labels,test_size=0.2,random_state=42)"
      ],
      "execution_count": null,
      "outputs": []
    },
    {
      "cell_type": "code",
      "metadata": {
        "id": "aYoAEWktvJSc"
      },
      "source": [
        "from sklearn.neural_network import MLPClassifier\n",
        "model = MLPClassifier()\n",
        "\n",
        "# YOUR CODE HERE: To Fit the data into the model\n",
        "model.fit(X_train,y_train)\n",
        "y_pred = model.predict(X_test)\n",
        "\n",
        "# YOUR CODE HERE: To get the predictions on the test data and calculate the accuracy\n",
        "accuracy = accuracy_score(y_pred,y_test)\n",
        "print(\"the accuracy score is :\",accuracy)"
      ],
      "execution_count": null,
      "outputs": []
    },
    {
      "cell_type": "markdown",
      "metadata": {
        "id": "tC2rt1ZxrgC7"
      },
      "source": [
        "# Please answer the questions below to complete the experiment:"
      ]
    },
    {
      "cell_type": "code",
      "metadata": {
        "id": "h1oipPUi5aTk",
        "cellView": "form"
      },
      "source": [
        "#@title The number of nodes in the input layer is 4 and the hidden layer is 2. The maximum number of connections from the input layer to the hidden layer are _____\n",
        "Answer = \"8\" #@param [\"\",\"8\", \"4\", \"6\"]\n"
      ],
      "execution_count": null,
      "outputs": []
    },
    {
      "cell_type": "code",
      "metadata": {
        "id": "NMzKSbLIgFzQ"
      },
      "source": [
        "#@title How was the experiment? { run: \"auto\", form-width: \"500px\", display-mode: \"form\" }\n",
        "Complexity = \"Good and Challenging for me\" #@param [\"\",\"Too Simple, I am wasting time\", \"Good, But Not Challenging for me\", \"Good and Challenging for me\", \"Was Tough, but I did it\", \"Too Difficult for me\"]\n"
      ],
      "execution_count": null,
      "outputs": []
    },
    {
      "cell_type": "code",
      "metadata": {
        "id": "DjcH1VWSFI2l"
      },
      "source": [
        "#@title If it was too easy, what more would you have liked to be added? If it was very difficult, what would you have liked to have been removed? { run: \"auto\", display-mode: \"form\" }\n",
        "Additional = \"Everything looks good\" #@param {type:\"string\"}\n"
      ],
      "execution_count": null,
      "outputs": []
    },
    {
      "cell_type": "code",
      "metadata": {
        "id": "4VBk_4VTAxCM"
      },
      "source": [
        "#@title Can you identify the concepts from the lecture which this experiment covered? { run: \"auto\", vertical-output: true, display-mode: \"form\" }\n",
        "Concepts = \"Yes\" #@param [\"\",\"Yes\", \"No\"]\n"
      ],
      "execution_count": null,
      "outputs": []
    },
    {
      "cell_type": "code",
      "metadata": {
        "id": "r35isHfTVGKc"
      },
      "source": [
        "#@title  Experiment walkthrough video? { run: \"auto\", vertical-output: true, display-mode: \"form\" }\n",
        "Walkthrough = \"Very Useful\" #@param [\"\",\"Very Useful\", \"Somewhat Useful\", \"Not Useful\", \"Didn't use\"]\n"
      ],
      "execution_count": null,
      "outputs": []
    },
    {
      "cell_type": "code",
      "metadata": {
        "id": "XH91cL1JWH7m"
      },
      "source": [
        "#@title  Text and image description/explanation and code comments within the experiment: { run: \"auto\", vertical-output: true, display-mode: \"form\" }\n",
        "Comments = \"Very Useful\" #@param [\"\",\"Very Useful\", \"Somewhat Useful\", \"Not Useful\", \"Didn't use\"]\n"
      ],
      "execution_count": null,
      "outputs": []
    },
    {
      "cell_type": "code",
      "metadata": {
        "id": "z8xLqj7VWIKW"
      },
      "source": [
        "#@title Mentor Support: { run: \"auto\", vertical-output: true, display-mode: \"form\" }\n",
        "Mentor_support = \"Very Useful\" #@param [\"\",\"Very Useful\", \"Somewhat Useful\", \"Not Useful\", \"Didn't use\"]\n"
      ],
      "execution_count": null,
      "outputs": []
    },
    {
      "cell_type": "code",
      "metadata": {
        "id": "FzAZHt1zw-Y-",
        "cellView": "form"
      },
      "source": [
        "#@title Run this cell to submit your notebook for grading { vertical-output: true }\n",
        "try:\n",
        "  if submission_id:\n",
        "      return_id = submit_notebook()\n",
        "      if return_id : submission_id = return_id\n",
        "  else:\n",
        "      print(\"Please complete the setup first.\")\n",
        "except NameError:\n",
        "  print (\"Please complete the setup first.\")"
      ],
      "execution_count": null,
      "outputs": []
    }
  ]
}