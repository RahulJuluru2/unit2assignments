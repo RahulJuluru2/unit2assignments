{
  "nbformat": 4,
  "nbformat_minor": 0,
  "metadata": {
    "colab": {
      "name": "U2W8_07_BatchGD_LRdecay_A_RJ.ipynb",
      "provenance": [],
      "collapsed_sections": [],
      "include_colab_link": true
    },
    "language_info": {
      "codemirror_mode": {
        "name": "ipython",
        "version": 3
      },
      "file_extension": ".py",
      "mimetype": "text/x-python",
      "name": "python",
      "nbconvert_exporter": "python",
      "pygments_lexer": "ipython3",
      "version": "3.5.0"
    },
    "kernelspec": {
      "display_name": "Python 3",
      "language": "python",
      "name": "python3"
    }
  },
  "cells": [
    {
      "cell_type": "markdown",
      "metadata": {
        "id": "view-in-github",
        "colab_type": "text"
      },
      "source": [
        "<a href=\"https://colab.research.google.com/github/RahulJuluru2/unit2assignments/blob/main/U2W8_07_BatchGD_LRdecay_A_RJ.ipynb\" target=\"_parent\"><img src=\"https://colab.research.google.com/assets/colab-badge.svg\" alt=\"Open In Colab\"/></a>"
      ]
    },
    {
      "cell_type": "markdown",
      "metadata": {
        "id": "tao2w0W4IwEO"
      },
      "source": [
        "# Advanced Certification in AIML\n",
        "## A Program by IIIT-H and TalentSprint\n",
        "\n"
      ]
    },
    {
      "cell_type": "markdown",
      "metadata": {
        "id": "2Pkm2A7Ss0g1"
      },
      "source": [
        "### Learning Objective"
      ]
    },
    {
      "cell_type": "markdown",
      "metadata": {
        "id": "YEjLydYUgjDV"
      },
      "source": [
        "At the end of the experiment, you will be able to :\n",
        "\n",
        "- Understand the concept of Gradient descent method\n",
        "- Observe the effect of learning rate"
      ]
    },
    {
      "cell_type": "code",
      "metadata": {
        "id": "XDbRvIzDp_K8",
        "cellView": "form",
        "colab": {
          "base_uri": "https://localhost:8080/",
          "height": 502
        },
        "outputId": "30b5cbb9-c262-4657-96aa-dfe1ed8b7795"
      },
      "source": [
        "#@title Experiment Walkthrough Video\n",
        "from IPython.display import HTML\n",
        "HTML(\"\"\"<video width='854' height='480' controls>\n",
        "<source src=\"https://cdn.talentsprint.com/talentsprint1/archives/sc/aiml/aiml_2018_b7_hyd/preview_videos/gradient_descent.mp4\" type='video/mp4'>\n",
        "</video>\"\"\")"
      ],
      "execution_count": 1,
      "outputs": [
        {
          "output_type": "execute_result",
          "data": {
            "text/plain": [
              "<IPython.core.display.HTML object>"
            ],
            "text/html": [
              "<video width='854' height='480' controls>\n",
              "<source src=\"https://cdn.talentsprint.com/talentsprint1/archives/sc/aiml/aiml_2018_b7_hyd/preview_videos/gradient_descent.mp4\" type='video/mp4'>\n",
              "</video>"
            ]
          },
          "metadata": {},
          "execution_count": 1
        }
      ]
    },
    {
      "cell_type": "markdown",
      "metadata": {
        "id": "og1EHpbjgrHP"
      },
      "source": [
        "##Dataset"
      ]
    },
    {
      "cell_type": "markdown",
      "metadata": {
        "id": "rSwgCEA_uJ40"
      },
      "source": [
        "###Description"
      ]
    },
    {
      "cell_type": "markdown",
      "metadata": {
        "id": "mDRTMSzJTJXD"
      },
      "source": [
        "\n",
        "The dataset consists of two columns and 90 rows. Each column represents a characteristic of a simple pendulum i.e l (length) and t (time period). The dataset describes the relationship between the l and t which is  $l∝t^2$ .\n"
      ]
    },
    {
      "cell_type": "markdown",
      "metadata": {
        "id": "nn9drxhC3f6e"
      },
      "source": [
        "##AI/ML Technique"
      ]
    },
    {
      "cell_type": "markdown",
      "metadata": {
        "id": "tgqxbZf394do"
      },
      "source": [
        "#### Gradient Descent\n",
        "\n",
        "Gradient Descent is used while training a machine learning model. It is an optimization algorithm, based on first order gradients, that tweaks it’s parameters iteratively to minimize a given function to its local minimum and global minima if the function is convex."
      ]
    },
    {
      "cell_type": "markdown",
      "metadata": {
        "id": "j1b476ZK6U74"
      },
      "source": [
        "## Setup Steps"
      ]
    },
    {
      "cell_type": "code",
      "metadata": {
        "id": "2YzfoPvJDiTX"
      },
      "source": [
        "#@title Please enter your registration id to start: { run: \"auto\", display-mode: \"form\" }\n",
        "Id = \"2216842\" #@param {type:\"string\"}"
      ],
      "execution_count": 2,
      "outputs": []
    },
    {
      "cell_type": "code",
      "metadata": {
        "id": "rEzlYL4CDrmE"
      },
      "source": [
        "#@title Please enter your password (normally your phone number) to continue: { run: \"auto\", display-mode: \"form\" }\n",
        "password = \"9959488784\" #@param {type:\"string\"}"
      ],
      "execution_count": 3,
      "outputs": []
    },
    {
      "cell_type": "code",
      "metadata": {
        "id": "1HNSs05RcMZv",
        "cellView": "form",
        "colab": {
          "base_uri": "https://localhost:8080/",
          "height": 34
        },
        "outputId": "b1e8993b-e537-4d5b-c4ec-68e77fc06ce8"
      },
      "source": [
        "#@title Run this cell to complete the setup for this Notebook\n",
        "from IPython import get_ipython\n",
        "import warnings\n",
        "warnings.filterwarnings('ignore')\n",
        "\n",
        "ipython = get_ipython()\n",
        "  \n",
        "notebook= \"U2W8_07_BatchGD_LRdecay_A\" #name of the notebook\n",
        "\n",
        "def setup(): \n",
        "    ipython.magic(\"sx wget -qq https://cdn.talentsprint.com/aiml/Experiment_related_data/week1/Exp1/AIML_DS_REGR01_SIMPLEPENDULUMOSCILLATIONDATA.txt\")\n",
        "    from IPython.display import HTML, display\n",
        "    display(HTML('<script src=\"https://dashboard.talentsprint.com/aiml/record_ip.html?traineeId={0}&recordId={1}\"></script>'.format(getId(),submission_id)))\n",
        "    print(\"Setup completed successfully\")\n",
        "    return\n",
        "\n",
        "def submit_notebook():\n",
        "    ipython.magic(\"notebook -e \"+ notebook + \".ipynb\")\n",
        "    \n",
        "    import requests, json, base64, datetime\n",
        "\n",
        "    url = \"https://dashboard.talentsprint.com/xp/app/save_notebook_attempts\"\n",
        "    if not submission_id:\n",
        "      data = {\"id\" : getId(), \"notebook\" : notebook, \"mobile\" : getPassword()}\n",
        "      r = requests.post(url, data = data)\n",
        "      r = json.loads(r.text)\n",
        "\n",
        "      if r[\"status\"] == \"Success\":\n",
        "          return r[\"record_id\"]\n",
        "      elif \"err\" in r:        \n",
        "        print(r[\"err\"])\n",
        "        return None        \n",
        "      else:\n",
        "        print (\"Something is wrong, the notebook will not be submitted for grading\")\n",
        "        return None\n",
        "    \n",
        "    elif getAnswer() and getComplexity() and getAdditional() and getConcepts() and getWalkthrough() and getComments() and getMentorSupport():\n",
        "      f = open(notebook + \".ipynb\", \"rb\")\n",
        "      file_hash = base64.b64encode(f.read())\n",
        "\n",
        "      data = {\"complexity\" : Complexity, \"additional\" :Additional, \n",
        "              \"concepts\" : Concepts, \"record_id\" : submission_id, \n",
        "              \"answer\" : Answer, \"id\" : Id, \"file_hash\" : file_hash,\n",
        "              \"notebook\" : notebook, \"feedback_walkthrough\":Walkthrough ,\n",
        "              \"feedback_experiments_input\" : Comments,\n",
        "              \"feedback_mentor_support\": Mentor_support}\n",
        "\n",
        "      r = requests.post(url, data = data)\n",
        "      r = json.loads(r.text)\n",
        "      if \"err\" in r:        \n",
        "        print(r[\"err\"])\n",
        "        return None   \n",
        "      else:\n",
        "        print(\"Your submission is successful.\")\n",
        "        print(\"Ref Id:\", submission_id)\n",
        "        print(\"Date of submission: \", r[\"date\"])\n",
        "        print(\"Time of submission: \", r[\"time\"])\n",
        "        print(\"View your submissions: https://aiml.iiith.talentsprint.com/notebook_submissions\")\n",
        "        #print(\"For any queries/discrepancies, please connect with mentors through the chat icon in LMS dashboard.\")\n",
        "        return submission_id\n",
        "    else: submission_id\n",
        "    \n",
        "\n",
        "def getAdditional():\n",
        "  try:\n",
        "    if not Additional: \n",
        "      raise NameError\n",
        "    else:\n",
        "      return Additional  \n",
        "  except NameError:\n",
        "    print (\"Please answer Additional Question\")\n",
        "    return None\n",
        "\n",
        "def getComplexity():\n",
        "  try:\n",
        "    if not Complexity:\n",
        "      raise NameError\n",
        "    else:\n",
        "      return Complexity\n",
        "  except NameError:\n",
        "    print (\"Please answer Complexity Question\")\n",
        "    return None\n",
        "  \n",
        "def getConcepts():\n",
        "  try:\n",
        "    if not Concepts:\n",
        "      raise NameError\n",
        "    else:\n",
        "      return Concepts\n",
        "  except NameError:\n",
        "    print (\"Please answer Concepts Question\")\n",
        "    return None\n",
        "  \n",
        "  \n",
        "def getWalkthrough():\n",
        "  try:\n",
        "    if not Walkthrough:\n",
        "      raise NameError\n",
        "    else:\n",
        "      return Walkthrough\n",
        "  except NameError:\n",
        "    print (\"Please answer Walkthrough Question\")\n",
        "    return None\n",
        "  \n",
        "def getComments():\n",
        "  try:\n",
        "    if not Comments:\n",
        "      raise NameError\n",
        "    else:\n",
        "      return Comments\n",
        "  except NameError:\n",
        "    print (\"Please answer Comments Question\")\n",
        "    return None\n",
        "  \n",
        "\n",
        "def getMentorSupport():\n",
        "  try:\n",
        "    if not Mentor_support:\n",
        "      raise NameError\n",
        "    else:\n",
        "      return Mentor_support\n",
        "  except NameError:\n",
        "    print (\"Please answer Mentor support Question\")\n",
        "    return None\n",
        "\n",
        "def getAnswer():\n",
        "  try:\n",
        "    if not Answer:\n",
        "      raise NameError \n",
        "    else: \n",
        "      return Answer\n",
        "  except NameError:\n",
        "    print (\"Please answer Question\")\n",
        "    return None\n",
        "  \n",
        "\n",
        "def getId():\n",
        "  try: \n",
        "    return Id if Id else None\n",
        "  except NameError:\n",
        "    return None\n",
        "\n",
        "def getPassword():\n",
        "  try:\n",
        "    return password if password else None\n",
        "  except NameError:\n",
        "    return None\n",
        "\n",
        "submission_id = None\n",
        "### Setup \n",
        "if getPassword() and getId():\n",
        "  submission_id = submit_notebook()\n",
        "  if submission_id:\n",
        "    setup() \n",
        "else:\n",
        "  print (\"Please complete Id and Password cells before running setup\")\n",
        "\n"
      ],
      "execution_count": 4,
      "outputs": [
        {
          "output_type": "display_data",
          "data": {
            "text/plain": [
              "<IPython.core.display.HTML object>"
            ],
            "text/html": [
              "<script src=\"https://dashboard.talentsprint.com/aiml/record_ip.html?traineeId=2216842&recordId=1254\"></script>"
            ]
          },
          "metadata": {}
        },
        {
          "output_type": "stream",
          "name": "stdout",
          "text": [
            "Setup completed successfully\n"
          ]
        }
      ]
    },
    {
      "cell_type": "markdown",
      "metadata": {
        "id": "MHOajhjcuOGA"
      },
      "source": [
        "## Import the required Packages\n"
      ]
    },
    {
      "cell_type": "code",
      "metadata": {
        "id": "HxcZUqq5IwEY"
      },
      "source": [
        "import pandas as pd\n",
        "import matplotlib.pyplot as plt"
      ],
      "execution_count": 5,
      "outputs": []
    },
    {
      "cell_type": "markdown",
      "metadata": {
        "id": "ecrcyzhvuRu2"
      },
      "source": [
        "## Load the data"
      ]
    },
    {
      "cell_type": "code",
      "metadata": {
        "id": "5Ttnpu44IwEb",
        "colab": {
          "base_uri": "https://localhost:8080/",
          "height": 395
        },
        "outputId": "ce541937-31d8-4a57-b6e5-68411319c4ee"
      },
      "source": [
        "# Load the data by using pandas read_csv()\n",
        "data = pd.read_csv(\"AIML_DS_REGR01_SIMPLEPENDULUMOSCILLATIONDATA.txt\", sep=\" \", header=None, names=['l', 't'])\n",
        "with(pd.option_context(\"display.max_rows\",None)):\n",
        "  # Display the first 5 rows of dataframe 'data'\n",
        "  display(data.head(5))\n",
        "  # Display the last 5 rows of dataframe 'data'\n",
        "  display(data.tail(5))"
      ],
      "execution_count": 7,
      "outputs": [
        {
          "output_type": "display_data",
          "data": {
            "text/plain": [
              "      l        t\n",
              "0  0.10  0.69004\n",
              "1  0.11  0.69497\n",
              "2  0.12  0.74252\n",
              "3  0.13  0.75360\n",
              "4  0.14  0.83568"
            ],
            "text/html": [
              "\n",
              "  <div id=\"df-23ac041e-d547-44e8-983a-cd1be74968c0\">\n",
              "    <div class=\"colab-df-container\">\n",
              "      <div>\n",
              "<style scoped>\n",
              "    .dataframe tbody tr th:only-of-type {\n",
              "        vertical-align: middle;\n",
              "    }\n",
              "\n",
              "    .dataframe tbody tr th {\n",
              "        vertical-align: top;\n",
              "    }\n",
              "\n",
              "    .dataframe thead th {\n",
              "        text-align: right;\n",
              "    }\n",
              "</style>\n",
              "<table border=\"1\" class=\"dataframe\">\n",
              "  <thead>\n",
              "    <tr style=\"text-align: right;\">\n",
              "      <th></th>\n",
              "      <th>l</th>\n",
              "      <th>t</th>\n",
              "    </tr>\n",
              "  </thead>\n",
              "  <tbody>\n",
              "    <tr>\n",
              "      <th>0</th>\n",
              "      <td>0.10</td>\n",
              "      <td>0.69004</td>\n",
              "    </tr>\n",
              "    <tr>\n",
              "      <th>1</th>\n",
              "      <td>0.11</td>\n",
              "      <td>0.69497</td>\n",
              "    </tr>\n",
              "    <tr>\n",
              "      <th>2</th>\n",
              "      <td>0.12</td>\n",
              "      <td>0.74252</td>\n",
              "    </tr>\n",
              "    <tr>\n",
              "      <th>3</th>\n",
              "      <td>0.13</td>\n",
              "      <td>0.75360</td>\n",
              "    </tr>\n",
              "    <tr>\n",
              "      <th>4</th>\n",
              "      <td>0.14</td>\n",
              "      <td>0.83568</td>\n",
              "    </tr>\n",
              "  </tbody>\n",
              "</table>\n",
              "</div>\n",
              "      <button class=\"colab-df-convert\" onclick=\"convertToInteractive('df-23ac041e-d547-44e8-983a-cd1be74968c0')\"\n",
              "              title=\"Convert this dataframe to an interactive table.\"\n",
              "              style=\"display:none;\">\n",
              "        \n",
              "  <svg xmlns=\"http://www.w3.org/2000/svg\" height=\"24px\"viewBox=\"0 0 24 24\"\n",
              "       width=\"24px\">\n",
              "    <path d=\"M0 0h24v24H0V0z\" fill=\"none\"/>\n",
              "    <path d=\"M18.56 5.44l.94 2.06.94-2.06 2.06-.94-2.06-.94-.94-2.06-.94 2.06-2.06.94zm-11 1L8.5 8.5l.94-2.06 2.06-.94-2.06-.94L8.5 2.5l-.94 2.06-2.06.94zm10 10l.94 2.06.94-2.06 2.06-.94-2.06-.94-.94-2.06-.94 2.06-2.06.94z\"/><path d=\"M17.41 7.96l-1.37-1.37c-.4-.4-.92-.59-1.43-.59-.52 0-1.04.2-1.43.59L10.3 9.45l-7.72 7.72c-.78.78-.78 2.05 0 2.83L4 21.41c.39.39.9.59 1.41.59.51 0 1.02-.2 1.41-.59l7.78-7.78 2.81-2.81c.8-.78.8-2.07 0-2.86zM5.41 20L4 18.59l7.72-7.72 1.47 1.35L5.41 20z\"/>\n",
              "  </svg>\n",
              "      </button>\n",
              "      \n",
              "  <style>\n",
              "    .colab-df-container {\n",
              "      display:flex;\n",
              "      flex-wrap:wrap;\n",
              "      gap: 12px;\n",
              "    }\n",
              "\n",
              "    .colab-df-convert {\n",
              "      background-color: #E8F0FE;\n",
              "      border: none;\n",
              "      border-radius: 50%;\n",
              "      cursor: pointer;\n",
              "      display: none;\n",
              "      fill: #1967D2;\n",
              "      height: 32px;\n",
              "      padding: 0 0 0 0;\n",
              "      width: 32px;\n",
              "    }\n",
              "\n",
              "    .colab-df-convert:hover {\n",
              "      background-color: #E2EBFA;\n",
              "      box-shadow: 0px 1px 2px rgba(60, 64, 67, 0.3), 0px 1px 3px 1px rgba(60, 64, 67, 0.15);\n",
              "      fill: #174EA6;\n",
              "    }\n",
              "\n",
              "    [theme=dark] .colab-df-convert {\n",
              "      background-color: #3B4455;\n",
              "      fill: #D2E3FC;\n",
              "    }\n",
              "\n",
              "    [theme=dark] .colab-df-convert:hover {\n",
              "      background-color: #434B5C;\n",
              "      box-shadow: 0px 1px 3px 1px rgba(0, 0, 0, 0.15);\n",
              "      filter: drop-shadow(0px 1px 2px rgba(0, 0, 0, 0.3));\n",
              "      fill: #FFFFFF;\n",
              "    }\n",
              "  </style>\n",
              "\n",
              "      <script>\n",
              "        const buttonEl =\n",
              "          document.querySelector('#df-23ac041e-d547-44e8-983a-cd1be74968c0 button.colab-df-convert');\n",
              "        buttonEl.style.display =\n",
              "          google.colab.kernel.accessAllowed ? 'block' : 'none';\n",
              "\n",
              "        async function convertToInteractive(key) {\n",
              "          const element = document.querySelector('#df-23ac041e-d547-44e8-983a-cd1be74968c0');\n",
              "          const dataTable =\n",
              "            await google.colab.kernel.invokeFunction('convertToInteractive',\n",
              "                                                     [key], {});\n",
              "          if (!dataTable) return;\n",
              "\n",
              "          const docLinkHtml = 'Like what you see? Visit the ' +\n",
              "            '<a target=\"_blank\" href=https://colab.research.google.com/notebooks/data_table.ipynb>data table notebook</a>'\n",
              "            + ' to learn more about interactive tables.';\n",
              "          element.innerHTML = '';\n",
              "          dataTable['output_type'] = 'display_data';\n",
              "          await google.colab.output.renderOutput(dataTable, element);\n",
              "          const docLink = document.createElement('div');\n",
              "          docLink.innerHTML = docLinkHtml;\n",
              "          element.appendChild(docLink);\n",
              "        }\n",
              "      </script>\n",
              "    </div>\n",
              "  </div>\n",
              "  "
            ]
          },
          "metadata": {}
        },
        {
          "output_type": "display_data",
          "data": {
            "text/plain": [
              "       l       t\n",
              "85  0.95  1.9841\n",
              "86  0.96  2.0066\n",
              "87  0.97  2.0493\n",
              "88  0.98  2.0503\n",
              "89  0.99  2.0214"
            ],
            "text/html": [
              "\n",
              "  <div id=\"df-eeb1cfc3-b146-48c0-b399-345fb6b03e35\">\n",
              "    <div class=\"colab-df-container\">\n",
              "      <div>\n",
              "<style scoped>\n",
              "    .dataframe tbody tr th:only-of-type {\n",
              "        vertical-align: middle;\n",
              "    }\n",
              "\n",
              "    .dataframe tbody tr th {\n",
              "        vertical-align: top;\n",
              "    }\n",
              "\n",
              "    .dataframe thead th {\n",
              "        text-align: right;\n",
              "    }\n",
              "</style>\n",
              "<table border=\"1\" class=\"dataframe\">\n",
              "  <thead>\n",
              "    <tr style=\"text-align: right;\">\n",
              "      <th></th>\n",
              "      <th>l</th>\n",
              "      <th>t</th>\n",
              "    </tr>\n",
              "  </thead>\n",
              "  <tbody>\n",
              "    <tr>\n",
              "      <th>85</th>\n",
              "      <td>0.95</td>\n",
              "      <td>1.9841</td>\n",
              "    </tr>\n",
              "    <tr>\n",
              "      <th>86</th>\n",
              "      <td>0.96</td>\n",
              "      <td>2.0066</td>\n",
              "    </tr>\n",
              "    <tr>\n",
              "      <th>87</th>\n",
              "      <td>0.97</td>\n",
              "      <td>2.0493</td>\n",
              "    </tr>\n",
              "    <tr>\n",
              "      <th>88</th>\n",
              "      <td>0.98</td>\n",
              "      <td>2.0503</td>\n",
              "    </tr>\n",
              "    <tr>\n",
              "      <th>89</th>\n",
              "      <td>0.99</td>\n",
              "      <td>2.0214</td>\n",
              "    </tr>\n",
              "  </tbody>\n",
              "</table>\n",
              "</div>\n",
              "      <button class=\"colab-df-convert\" onclick=\"convertToInteractive('df-eeb1cfc3-b146-48c0-b399-345fb6b03e35')\"\n",
              "              title=\"Convert this dataframe to an interactive table.\"\n",
              "              style=\"display:none;\">\n",
              "        \n",
              "  <svg xmlns=\"http://www.w3.org/2000/svg\" height=\"24px\"viewBox=\"0 0 24 24\"\n",
              "       width=\"24px\">\n",
              "    <path d=\"M0 0h24v24H0V0z\" fill=\"none\"/>\n",
              "    <path d=\"M18.56 5.44l.94 2.06.94-2.06 2.06-.94-2.06-.94-.94-2.06-.94 2.06-2.06.94zm-11 1L8.5 8.5l.94-2.06 2.06-.94-2.06-.94L8.5 2.5l-.94 2.06-2.06.94zm10 10l.94 2.06.94-2.06 2.06-.94-2.06-.94-.94-2.06-.94 2.06-2.06.94z\"/><path d=\"M17.41 7.96l-1.37-1.37c-.4-.4-.92-.59-1.43-.59-.52 0-1.04.2-1.43.59L10.3 9.45l-7.72 7.72c-.78.78-.78 2.05 0 2.83L4 21.41c.39.39.9.59 1.41.59.51 0 1.02-.2 1.41-.59l7.78-7.78 2.81-2.81c.8-.78.8-2.07 0-2.86zM5.41 20L4 18.59l7.72-7.72 1.47 1.35L5.41 20z\"/>\n",
              "  </svg>\n",
              "      </button>\n",
              "      \n",
              "  <style>\n",
              "    .colab-df-container {\n",
              "      display:flex;\n",
              "      flex-wrap:wrap;\n",
              "      gap: 12px;\n",
              "    }\n",
              "\n",
              "    .colab-df-convert {\n",
              "      background-color: #E8F0FE;\n",
              "      border: none;\n",
              "      border-radius: 50%;\n",
              "      cursor: pointer;\n",
              "      display: none;\n",
              "      fill: #1967D2;\n",
              "      height: 32px;\n",
              "      padding: 0 0 0 0;\n",
              "      width: 32px;\n",
              "    }\n",
              "\n",
              "    .colab-df-convert:hover {\n",
              "      background-color: #E2EBFA;\n",
              "      box-shadow: 0px 1px 2px rgba(60, 64, 67, 0.3), 0px 1px 3px 1px rgba(60, 64, 67, 0.15);\n",
              "      fill: #174EA6;\n",
              "    }\n",
              "\n",
              "    [theme=dark] .colab-df-convert {\n",
              "      background-color: #3B4455;\n",
              "      fill: #D2E3FC;\n",
              "    }\n",
              "\n",
              "    [theme=dark] .colab-df-convert:hover {\n",
              "      background-color: #434B5C;\n",
              "      box-shadow: 0px 1px 3px 1px rgba(0, 0, 0, 0.15);\n",
              "      filter: drop-shadow(0px 1px 2px rgba(0, 0, 0, 0.3));\n",
              "      fill: #FFFFFF;\n",
              "    }\n",
              "  </style>\n",
              "\n",
              "      <script>\n",
              "        const buttonEl =\n",
              "          document.querySelector('#df-eeb1cfc3-b146-48c0-b399-345fb6b03e35 button.colab-df-convert');\n",
              "        buttonEl.style.display =\n",
              "          google.colab.kernel.accessAllowed ? 'block' : 'none';\n",
              "\n",
              "        async function convertToInteractive(key) {\n",
              "          const element = document.querySelector('#df-eeb1cfc3-b146-48c0-b399-345fb6b03e35');\n",
              "          const dataTable =\n",
              "            await google.colab.kernel.invokeFunction('convertToInteractive',\n",
              "                                                     [key], {});\n",
              "          if (!dataTable) return;\n",
              "\n",
              "          const docLinkHtml = 'Like what you see? Visit the ' +\n",
              "            '<a target=\"_blank\" href=https://colab.research.google.com/notebooks/data_table.ipynb>data table notebook</a>'\n",
              "            + ' to learn more about interactive tables.';\n",
              "          element.innerHTML = '';\n",
              "          dataTable['output_type'] = 'display_data';\n",
              "          await google.colab.output.renderOutput(dataTable, element);\n",
              "          const docLink = document.createElement('div');\n",
              "          docLink.innerHTML = docLinkHtml;\n",
              "          element.appendChild(docLink);\n",
              "        }\n",
              "      </script>\n",
              "    </div>\n",
              "  </div>\n",
              "  "
            ]
          },
          "metadata": {}
        }
      ]
    },
    {
      "cell_type": "code",
      "metadata": {
        "id": "ZGdRFp1LIwEd"
      },
      "source": [
        "# Get the length and time period values from the dataset\n",
        "l = data['l'].values\n",
        "t = data['t'].values\n",
        "# Get the square of the time variable to form a linear equation\n",
        "tsq = t * t"
      ],
      "execution_count": 8,
      "outputs": []
    },
    {
      "cell_type": "markdown",
      "metadata": {
        "id": "79f75Z8KRRIs"
      },
      "source": [
        "## Gradient Descent\n",
        "\n",
        "Gradient descent is an optimization algorithm used to find the values of parameters (coefficients) of a function that minimizes a cost function.\n",
        "\n",
        "A cost function is a measure of how wrong the model is in terms of its ability to estimate the relationship between X and y. This is typically expressed as a difference or distance between the predicted value and the actual value."
      ]
    },
    {
      "cell_type": "markdown",
      "metadata": {
        "id": "M6Alll5cdSNy"
      },
      "source": [
        "### Batch Gradient Descent\n",
        "\n",
        "Batch gradient descent is a variation of the gradient descent algorithm that calculates the error for each example in the training dataset, but only updates the model after all training examples have been evaluated. \n",
        "\n",
        "Firstly, we calculate the cost function which is $E$ = $(y - y_i)^2$ and we tweak the slope m and bias c to reduce the cost function.\n",
        "\n",
        "$\\frac{\\partial E_i }{\\partial m}$ = $ \\frac{-2}{n} \\sum_{i=1}^{n} (y_i - (mx_i + c)) * x_i$\n",
        "\n",
        "$\\frac{\\partial E_i }{\\partial c}$ = $ \\frac{-2}{n} \\sum_{i=1}^{n}(y_i - (mx_i + c))$\n",
        "\n",
        "And then we update the slope and bias with with change in slope $\\Delta m$ and change in bias $\\Delta c$ with learning rate $eta$\n",
        "\n",
        "$m$  = $m - \\Delta m * eta$\n",
        "\n",
        "$c$  = $c - \\Delta c * eta$\n",
        "\n"
      ]
    },
    {
      "cell_type": "code",
      "metadata": {
        "id": "8m6BE6v-IwEg"
      },
      "source": [
        "\"\"\"\n",
        "The function 'train' updates the values of m and c and calculates error. \n",
        "The loss is minimized due to the changed values of m and c.\n",
        "The new values m, c and the minimized error is returned.\n",
        "\"\"\"\n",
        "def train(x, y, m, c, eta):\n",
        "    const = - 2.0/len(y)\n",
        "\n",
        "    # YOUR CODE HERE: To define the line equation i.e y = mx + c\n",
        "    ycalc = m * x + c\n",
        " \n",
        "    # YOUR CODE HERE: To calculate the gradients (\"delta_m\" and \"delta_c\")\n",
        "    delta_m = const * sum((y - ycalc)*x)\n",
        "    delta_c = const * sum(y - ycalc)\n",
        "\n",
        "    m = m - delta_m * eta\n",
        "    c = c - delta_c * eta\n",
        "\n",
        "    # YOUR CODE HERE : Calculate the error \n",
        "    error = sum((y - ycalc)**2) / len(y) \n",
        "\n",
        "    return m, c, error"
      ],
      "execution_count": 11,
      "outputs": []
    },
    {
      "cell_type": "markdown",
      "metadata": {
        "id": "MHjYX45BIwEj"
      },
      "source": [
        "### Effect of varying LR (learning rate, $\\eta$) on error and final line\n",
        "\n",
        "Let us vary LR and find how the error decreases in each case, and how the final line looks, by training each case for the same number of iterations - 2000."
      ]
    },
    {
      "cell_type": "markdown",
      "metadata": {
        "id": "Lnqu5m-XNI8t"
      },
      "source": [
        "#### $\\eta$ (Learning rate) = 0.1"
      ]
    },
    {
      "cell_type": "code",
      "metadata": {
        "id": "qjQJXM-4IwEl"
      },
      "source": [
        "# Save errors\n",
        "errs_1 = []\n",
        "# Initialize m,c value\n",
        "m, c = 0, 0\n",
        "eta = 0.1 # Learning rate\n",
        "\n",
        "# Call the train() method for 2000 iterations to update m and c and get error value with eta = 0.1.\n",
        "for iteration in range(2000):\n",
        "  # YOUR CODE HERE: Call 'train' function defined above by passing 'l', 'tsq', 'm', 'c', 'eta' as it's arguments.\n",
        "  m, c, error = train(l,tsq,m,c,eta)\n",
        "  \n",
        "  # YOUR CODE HERE: To append the errors to \"errs_1\" \n",
        "  errs_1.append(error)\n",
        "\n",
        "# Save final line\n",
        "m_1, c_1 = m, c"
      ],
      "execution_count": 12,
      "outputs": []
    },
    {
      "cell_type": "markdown",
      "metadata": {
        "id": "tB40sJhTIwEp"
      },
      "source": [
        "#### $\\eta$ = 0.01"
      ]
    },
    {
      "cell_type": "code",
      "metadata": {
        "id": "cyLOvjaLIwEq"
      },
      "source": [
        "# Save errors\n",
        "errs_01 = []\n",
        "m, c = 0, 0\n",
        "eta = 0.01  # Learning rate\n",
        "\n",
        "# Call the train() method for 2000 iterations to update m and c and get error value with eta = 0.01.\n",
        "for iteration in range(2000):\n",
        "    # YOUR CODE HERE : Call 'train' function defined above by passing 'l', 'tsq', 'm', 'c', 'eta' as it's arguments.\n",
        "    m, c, error = train(l , tsq , m , c , eta)\n",
        "\n",
        "    # YOUR CODE HERE: To append the errors to \"errs_01\" \n",
        "    errs_01.append(error)\n",
        "    \n",
        "# Save final line\n",
        "m_01, c_01 = m, c"
      ],
      "execution_count": 13,
      "outputs": []
    },
    {
      "cell_type": "markdown",
      "metadata": {
        "id": "E22O2IakIwEt"
      },
      "source": [
        "#### $\\eta$ = 0.001"
      ]
    },
    {
      "cell_type": "code",
      "metadata": {
        "id": "Cvl81aceIwEt"
      },
      "source": [
        "# Save errors\n",
        "errs_001 = []\n",
        "m, c = 0, 0\n",
        "eta = 0.001 # Learning rate\n",
        "\n",
        "# Call the train() method for 2000 iterations to update m and c and get error value with eta = 0.001.\n",
        "for iteration in range(2000):\n",
        "  # YOUR CODE HERE: Call 'train' function defined above by passing 'l', 'tsq', 'm', 'c', 'eta' as it's arguments.\n",
        "    m, c, error = train(l , tsq , m , c, eta)\n",
        "\n",
        "    # YOUR CODE HERE: To append the errors to \"errs_001\" \n",
        "    errs_001.append(error)\n",
        "    \n",
        "# Save final line\n",
        "m_001, c_001 = m, c"
      ],
      "execution_count": 14,
      "outputs": []
    },
    {
      "cell_type": "markdown",
      "metadata": {
        "id": "SIdlxdYIIwEv"
      },
      "source": [
        "#### $\\eta$ = 0.0001"
      ]
    },
    {
      "cell_type": "code",
      "metadata": {
        "id": "Y_e1NK5qIwEw"
      },
      "source": [
        "# Save errors\n",
        "errs_0001 = []\n",
        "m, c = 0, 0\n",
        "eta = 0.0001 # Learning rate\n",
        "\n",
        "# Call the train() method for 2000 iterations to update m and c and get error value with eta = 0.0001. \n",
        "for iteration in range(2000):\n",
        "  # YOUR CODE HERE: Call 'train' function defined above by passing 'l', 'tsq', 'm', 'c', 'eta' as it's arguments.\n",
        "    m, c, error = train(l , tsq, m , c , eta)\n",
        "\n",
        "    # YOUR CODE HERE: To append the errors to \"errs_0001\" \n",
        "    errs_0001.append(error)\n",
        "    \n",
        "# Save final line\n",
        "m_0001, c_0001 = m, c"
      ],
      "execution_count": 15,
      "outputs": []
    },
    {
      "cell_type": "markdown",
      "metadata": {
        "id": "QNZgQMNZIwE0"
      },
      "source": [
        "### Plot of lines vs $\\eta$ (Learning rate)"
      ]
    },
    {
      "cell_type": "code",
      "metadata": {
        "id": "XWFue0e6IwE1"
      },
      "source": [
        "# Find the lines\n",
        "y_1 = m_1 * l + c_1\n",
        "y_01 = m_01 * l + c_01\n",
        "y_001 = m_001 * l + c_001\n",
        "y_0001 = m_0001 * l + c_0001"
      ],
      "execution_count": 16,
      "outputs": []
    },
    {
      "cell_type": "code",
      "metadata": {
        "id": "LyCs_U80IwE4",
        "colab": {
          "base_uri": "https://localhost:8080/",
          "height": 483
        },
        "outputId": "ee7b5891-8882-463e-cab3-d3937210c517"
      },
      "source": [
        "plt.figure(figsize=(15, 8))\n",
        "\n",
        "# YOUR CODE HERE: For all the lines above i.e. y_1, y_01, y_001, y_0001 plot them (in a different color) against the lines \"l\" \n",
        "plt.plot(l,tsq,color=\"black\")\n",
        "plt.plot(l,y_1,color=\"red\")\n",
        "plt.plot(l,y_01,color=\"green\")\n",
        "plt.plot(l,y_001,color=\"orange\")\n",
        "plt.plot(l,y_0001,color=\"blue\")\n",
        "plt.legend([\"l vs tsq\",\"eta = 0.1\",\"eta = 0.01\",\"eta = 0.001\",\"eta = 0.0001\"])\n",
        "plt.show()"
      ],
      "execution_count": 48,
      "outputs": [
        {
          "output_type": "display_data",
          "data": {
            "text/plain": [
              "<Figure size 1080x576 with 1 Axes>"
            ],
            "image/png": "[encoded data removed]"
          },
          "metadata": {
            "needs_background": "light"
          }
        }
      ]
    },
    {
      "cell_type": "markdown",
      "metadata": {
        "id": "oWp-qhiZIwE6"
      },
      "source": [
        "Thus, we see that higher learning rates reach the best fit faster than lower learning rates (obviously)."
      ]
    },
    {
      "cell_type": "markdown",
      "metadata": {
        "id": "XVqeYmmNOM8u"
      },
      "source": [
        "### Plot of errors vs epochs for each $\\eta$ (Learning rate)"
      ]
    },
    {
      "cell_type": "code",
      "metadata": {
        "id": "ds8LI8XBIwE7",
        "colab": {
          "base_uri": "https://localhost:8080/",
          "height": 606
        },
        "outputId": "a23781ae-563b-41f9-dc8b-1f184bcc9fa5"
      },
      "source": [
        "epochs = range(0,2000)\n",
        "plt.figure(figsize=(16,10))\n",
        "# YOUR CODE HERE: To plot \"epochs\" versus errs_1, errs_01, errs_001, errs_0001 (each in a different color)\n",
        "plt.plot(epochs,errs_1,color=\"red\")\n",
        "plt.plot(epochs,errs_01,color=\"green\")\n",
        "plt.plot(epochs,errs_001,color=\"orange\")\n",
        "plt.plot(epochs,errs_0001,color=\"blue\")\n",
        "plt.legend([\"eta = 0.1\",\"eta = 0.01\",\"eta = 0.001\",\"eta = 0.0001\"])\n",
        "plt.xlabel('Epochs') \n",
        "plt.ylabel('Errors') \n",
        "plt.show()"
      ],
      "execution_count": 22,
      "outputs": [
        {
          "output_type": "display_data",
          "data": {
            "text/plain": [
              "<Figure size 1152x720 with 1 Axes>"
            ],
            "image/png": "[encoded data removed]"
          },
          "metadata": {
            "needs_background": "light"
          }
        }
      ]
    },
    {
      "cell_type": "markdown",
      "metadata": {
        "id": "MqL3Qd4dIwFA"
      },
      "source": [
        "### With LR (learning rate, $\\eta$) Decay\n",
        "\n",
        "In some cases, the learning rate might be too high to give good fitting lines. For example, let us train with constant LR (learning rate, $\\eta$) of 0.8 and get the final line after 1000 iterations:"
      ]
    },
    {
      "cell_type": "markdown",
      "metadata": {
        "id": "eoW3VvR8IwFB"
      },
      "source": [
        "#### $\\eta$ = 0.8"
      ]
    },
    {
      "cell_type": "code",
      "metadata": {
        "id": "A_Z-use6IwFC"
      },
      "source": [
        "errs = []\n",
        "m, c = 0, 0\n",
        "eta = 0.8\n",
        "\n",
        "# YOUR CODE HERE: Call the train() method for 1000 iterations to update m and c and get error value with constant eta = 0.8.\n",
        "for iteration in range(1000):\n",
        "  m , c , error = train(l, tsq , m , c ,eta)   \n",
        "  errs.append(error)\n",
        "\n",
        "m_normal, c_normal = m, c"
      ],
      "execution_count": 25,
      "outputs": []
    },
    {
      "cell_type": "code",
      "metadata": {
        "id": "s0N0o3NKIwFH",
        "colab": {
          "base_uri": "https://localhost:8080/",
          "height": 290
        },
        "outputId": "bcb128ca-6cdd-4161-ae00-0032428586d4"
      },
      "source": [
        "# YOUR CODE HERE: Plot errors vs iterations\n",
        "iterations = range(0,1000)\n",
        "plt.plot(iterations,errs,color=\"red\")\n",
        "plt.xlabel(\"Iterations\")\n",
        "plt.ylabel(\"errors\")\n",
        "plt.show()"
      ],
      "execution_count": 27,
      "outputs": [
        {
          "output_type": "display_data",
          "data": {
            "text/plain": [
              "<Figure size 432x288 with 1 Axes>"
            ],
            "image/png": "[encoded data removed]"
          },
          "metadata": {
            "needs_background": "light"
          }
        }
      ]
    },
    {
      "cell_type": "markdown",
      "metadata": {
        "id": "yN5_kJn0IwFJ"
      },
      "source": [
        "We see that the error quickly goes to almost 0, but after some iterations it blows up.\n",
        "\n",
        "Let us check the \"best fit\" line that is found:"
      ]
    },
    {
      "cell_type": "code",
      "metadata": {
        "id": "DXumozZ-IwFL",
        "colab": {
          "base_uri": "https://localhost:8080/"
        },
        "outputId": "7bfc3786-1d85-49e5-d8dc-76fb71b8839b"
      },
      "source": [
        "print(\"m = {0:.6} c = {1:.6} Error = {2:.6}\".format(m_normal, c_normal, errs[-1]))"
      ],
      "execution_count": 28,
      "outputs": [
        {
          "output_type": "stream",
          "name": "stdout",
          "text": [
            "m = -6.43359e+41 c = -1.1198e+42 Error = 1.80675e+84\n"
          ]
        }
      ]
    },
    {
      "cell_type": "code",
      "metadata": {
        "id": "5zB7RTTOIwFM",
        "colab": {
          "base_uri": "https://localhost:8080/",
          "height": 290
        },
        "outputId": "7260d364-6dcf-4220-e3ea-19b8add8a165"
      },
      "source": [
        "y = m_normal * l + c_normal \n",
        "plt.plot(l, tsq, '.k', label = 'Actual')\n",
        "plt.plot(l, y, \"r\", label = 'Prediction')\n",
        "plt.xlabel(\"Length (L)\")\n",
        "plt.ylabel(\"T^2\")\n",
        "plt.legend()\n",
        "plt.show()"
      ],
      "execution_count": 29,
      "outputs": [
        {
          "output_type": "display_data",
          "data": {
            "text/plain": [
              "<Figure size 432x288 with 1 Axes>"
            ],
            "image/png": "[encoded data removed]"
          },
          "metadata": {
            "needs_background": "light"
          }
        }
      ]
    },
    {
      "cell_type": "markdown",
      "metadata": {
        "id": "Fqmvtu-_IwFQ"
      },
      "source": [
        "Clearly this is not ideal.\n",
        "\n",
        "This was a simple case where we can see the learning rate is too high. There might be cases where it is not so simple to identify this. Also, having a low learning rate is not good because training time would be too high!\n",
        "\n",
        "**Solution: Decay the learning rate.**\n",
        "\n",
        "Now let us train another model with decaying lr. But let us not decay lr below 0.0001."
      ]
    },
    {
      "cell_type": "code",
      "metadata": {
        "id": "edZDbSyBIwFR"
      },
      "source": [
        "errs_decay = []\n",
        "m, c = 0, 0\n",
        "eta = 0.5\n",
        "decay_factor = 0.99\n",
        "\n",
        "# Call the train() method for 1000 iterations to update m and c and get error value with decaying eta.\n",
        "for iteration in range(1000):\n",
        "    eta = max(0.0001, eta * decay_factor)\n",
        "    m, c, error = train(l, tsq, m, c, eta)\n",
        "    errs_decay.append(error)\n",
        "\n",
        "m_decay, c_decay = m, c"
      ],
      "execution_count": 33,
      "outputs": []
    },
    {
      "cell_type": "code",
      "metadata": {
        "id": "xbEAsf4cIwFS",
        "colab": {
          "base_uri": "https://localhost:8080/"
        },
        "outputId": "60f2ed74-45f7-4077-f5b0-b8f94732ce8b"
      },
      "source": [
        "print(\"m = {0:.6} c = {1:.6} Error = {2:.6}\".format(m_decay, c_decay, errs_decay[-1]))"
      ],
      "execution_count": 34,
      "outputs": [
        {
          "output_type": "stream",
          "name": "stdout",
          "text": [
            "m = 4.12371 c = 0.0837925 Error = 0.00708933\n"
          ]
        }
      ]
    },
    {
      "cell_type": "markdown",
      "metadata": {
        "id": "clqa9StFVKqP"
      },
      "source": [
        "Let us see the plot of error vs iterations:"
      ]
    },
    {
      "cell_type": "code",
      "metadata": {
        "id": "WNUxY6ZyIwFV",
        "colab": {
          "base_uri": "https://localhost:8080/",
          "height": 279
        },
        "outputId": "448b3b9c-639f-4ded-aae6-33bc0571f1db"
      },
      "source": [
        "plt.plot(range(len(errs_decay)), errs_decay)\n",
        "plt.xlabel(\"Iterations\")\n",
        "plt.ylabel(\"Error\")\n",
        "plt.show()"
      ],
      "execution_count": 35,
      "outputs": [
        {
          "output_type": "display_data",
          "data": {
            "text/plain": [
              "<Figure size 432x288 with 1 Axes>"
            ],
            "image/png": "[encoded data removed]"
          },
          "metadata": {
            "needs_background": "light"
          }
        }
      ]
    },
    {
      "cell_type": "code",
      "metadata": {
        "id": "fRoeB71EIwFW",
        "colab": {
          "base_uri": "https://localhost:8080/",
          "height": 265
        },
        "outputId": "42110796-f7f3-4e09-fac9-fdf8f72ec328"
      },
      "source": [
        "# YOUR CODE HERE: Calculate the line equation where m_decay is slope, l is x value and c_decay is constant\n",
        "y =  (m_decay * l) + c_decay\n",
        "\n",
        "# YOUR CODE HERE: Plot l vs tsq\n",
        "plt.plot(l,tsq,color=\"red\")\n",
        "\n",
        "# YOUR CODE HERE: Plot l vs y\n",
        "plt.plot(l,y,color=\"green\")\n",
        "\n",
        "plt.show()"
      ],
      "execution_count": 37,
      "outputs": [
        {
          "output_type": "display_data",
          "data": {
            "text/plain": [
              "<Figure size 432x288 with 1 Axes>"
            ],
            "image/png": "[encoded data removed]"
          },
          "metadata": {
            "needs_background": "light"
          }
        }
      ]
    },
    {
      "cell_type": "markdown",
      "metadata": {
        "id": "djZn9yLqIwFa"
      },
      "source": [
        "Thus, this is correct."
      ]
    },
    {
      "cell_type": "markdown",
      "metadata": {
        "id": "Go5quY3c66w7"
      },
      "source": [
        "# Please answer the questions below to complete the experiment:"
      ]
    },
    {
      "cell_type": "code",
      "metadata": {
        "id": "f-bZhl8VoIGg",
        "cellView": "form"
      },
      "source": [
        "#@title State True or False: Gradient descent always finds the global minima in a single iteration?\n",
        "Answer = \"False\" #@param [\"\",\"True\",\"False\"]\n"
      ],
      "execution_count": 38,
      "outputs": []
    },
    {
      "cell_type": "code",
      "metadata": {
        "id": "NMzKSbLIgFzQ"
      },
      "source": [
        "#@title How was the experiment? { run: \"auto\", form-width: \"500px\", display-mode: \"form\" }\n",
        "Complexity = \"Good and Challenging for me\" #@param [\"\",\"Too Simple, I am wasting time\", \"Good, But Not Challenging for me\", \"Good and Challenging for me\", \"Was Tough, but I did it\", \"Too Difficult for me\"]\n"
      ],
      "execution_count": 39,
      "outputs": []
    },
    {
      "cell_type": "code",
      "metadata": {
        "id": "DjcH1VWSFI2l"
      },
      "source": [
        "#@title If it was too easy, what more would you have liked to be added? If it was very difficult, what would you have liked to have been removed? { run: \"auto\", display-mode: \"form\" }\n",
        "Additional = \"Everything is good\" #@param {type:\"string\"}\n"
      ],
      "execution_count": 40,
      "outputs": []
    },
    {
      "cell_type": "code",
      "metadata": {
        "id": "4VBk_4VTAxCM"
      },
      "source": [
        "#@title Can you identify the concepts from the lecture which this experiment covered? { run: \"auto\", vertical-output: true, display-mode: \"form\" }\n",
        "Concepts = \"Yes\" #@param [\"\",\"Yes\", \"No\"]\n"
      ],
      "execution_count": 41,
      "outputs": []
    },
    {
      "cell_type": "code",
      "metadata": {
        "id": "r35isHfTVGKc"
      },
      "source": [
        "#@title  Experiment walkthrough video? { run: \"auto\", vertical-output: true, display-mode: \"form\" }\n",
        "Walkthrough = \"Very Useful\" #@param [\"\",\"Very Useful\", \"Somewhat Useful\", \"Not Useful\", \"Didn't use\"]\n"
      ],
      "execution_count": 42,
      "outputs": []
    },
    {
      "cell_type": "code",
      "metadata": {
        "id": "XH91cL1JWH7m"
      },
      "source": [
        "#@title  Text and image description/explanation and code comments within the experiment: { run: \"auto\", vertical-output: true, display-mode: \"form\" }\n",
        "Comments = \"Very Useful\" #@param [\"\",\"Very Useful\", \"Somewhat Useful\", \"Not Useful\", \"Didn't use\"]\n"
      ],
      "execution_count": 43,
      "outputs": []
    },
    {
      "cell_type": "code",
      "metadata": {
        "id": "z8xLqj7VWIKW"
      },
      "source": [
        "#@title Mentor Support: { run: \"auto\", vertical-output: true, display-mode: \"form\" }\n",
        "Mentor_support = \"Very Useful\" #@param [\"\",\"Very Useful\", \"Somewhat Useful\", \"Not Useful\", \"Didn't use\"]\n"
      ],
      "execution_count": 44,
      "outputs": []
    },
    {
      "cell_type": "code",
      "metadata": {
        "id": "FzAZHt1zw-Y-",
        "cellView": "form",
        "colab": {
          "base_uri": "https://localhost:8080/"
        },
        "outputId": "3e6d73be-ef39-42ca-fcd1-149b3aae047f"
      },
      "source": [
        "#@title Run this cell to submit your notebook for grading { vertical-output: true }\n",
        "try:\n",
        "  if submission_id:\n",
        "      return_id = submit_notebook()\n",
        "      if return_id : submission_id = return_id\n",
        "  else:\n",
        "      print(\"Please complete the setup first.\")\n",
        "except NameError:\n",
        "  print (\"Please complete the setup first.\")"
      ],
      "execution_count": 49,
      "outputs": [
        {
          "output_type": "stream",
          "name": "stdout",
          "text": [
            "Your submission is successful.\n",
            "Ref Id: 1254\n",
            "Date of submission:  03 Jul 2022\n",
            "Time of submission:  16:44:06\n",
            "View your submissions: https://aiml.iiith.talentsprint.com/notebook_submissions\n"
          ]
        }
      ]
    }
  ]
}